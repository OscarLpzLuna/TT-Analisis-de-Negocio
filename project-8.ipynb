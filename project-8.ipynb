{
 "cells": [
  {
   "cell_type": "markdown",
   "metadata": {},
   "source": [
    "\n",
    "# Proyecto 8\n",
    "\n",
    "En este proyecto se pondrán en práctica las habilidades adquiridas en la sección de análisis de negocio. \n",
    "Para ello, se realiza el ejercicio de optimizar los gastos de marketing en la empresa Y. Afisha utilizando los datos suministrados por el departamento analítico correspondientes de enero de 2017 a diciembre de 2018. Se busca obtener información sobre el comportamiento de los clientes al usar el servicio, cuánto dinero aportan individualmente a la compañía y en qué momento los ingresos cubren el costo de adquisición de los clientes. \n",
    "\n",
    "## Metodología\n",
    "\n",
    "Para el desarrollo de este proyecto se deben seguir una serie de pasos que nos permitirán alcanzar el objetivo del proyecto.\n",
    "\n",
    "- **Preparación de los datos**: En esta sección se toman los datos en \"limpio\" (sin modificaciones), se hace un análisis preliminar para conocer los datos y a partir de ahí, se toma la decisión de las modificaciones más convenientes que eliminen posibles errores y faciliten los siguientes pasos. En esta ocasión, se nos pide optimizar los datos para el análisis, así que se debe prestar especial atención que los tipos de datos sean los adecuados.\n",
    "\n",
    "- **Análisis de Negocio**: En esta sección se busca obtener información importante a partir de los datos procesados adecuadamente. Se redactan informes con ayuda del cálculo de métricas que nos permitan analizar el rendimiento de diversos procesos o elementos dentro de la organización, esto con el fin de tomar acciones orientadas al beneficio de la misma. \n",
    "\n",
    "## Preparación de los datos\n",
    "\n",
    "Como primer acercamiento debemos conocer el dataset de interés para tomar las medidas más convenientes que nos permitan hacer los arreglos necesarios de forma que los elementos e información del dataset sea la más adecuada para hacer el análisis sin mayor problema. \n",
    "\n",
    "Para lograr esto debemos seguir los siguientes pasos:\n",
    "1. Comprensión general del dataset usando una pequeña muestra.\n",
    "2. Optimización de los datos.\n",
    "3. Tratamiento de valores ausentes.\n",
    "4. Valores duplicados.\n",
    "\n",
    "Se comienza el trabajo al importar las librerias necesarias y leer los archivos de datos para construir el dataframe mediante Pandas."
   ]
  },
  {
   "cell_type": "code",
   "execution_count": 1,
   "metadata": {},
   "outputs": [],
   "source": [
    "#Importamos librerias\n",
    "import pandas as pd\n",
    "import numpy as np\n",
    "import plotly.express as px\n",
    "import seaborn as sns\n",
    "from matplotlib import pyplot as plt"
   ]
  },
  {
   "cell_type": "code",
   "execution_count": 2,
   "metadata": {},
   "outputs": [],
   "source": [
    "#Cargamos las muestras de los datasets con los que trabajaremos, preliminarmente cargamos solo 500 filas.\n",
    "visits = pd.read_csv('visits_log_us.csv',nrows=500)\n",
    "orders = pd.read_csv('orders_log_us.csv',nrows=500)\n",
    "costs = pd.read_csv('costs_us.csv',nrows=500)"
   ]
  },
  {
   "cell_type": "markdown",
   "metadata": {},
   "source": [
    "### Visits\n",
    "\n",
    "#### Comprensión general del dataset\n",
    "\n",
    "El dataframe 'visits' contiene información sobre los registros del servidor con datos sobre las visitas al sitio web. Mostramos la información del dataframe y una pequeña muestra."
   ]
  },
  {
   "cell_type": "code",
   "execution_count": 3,
   "metadata": {},
   "outputs": [
    {
     "data": {
      "text/html": [
       "<div>\n",
       "<style scoped>\n",
       "    .dataframe tbody tr th:only-of-type {\n",
       "        vertical-align: middle;\n",
       "    }\n",
       "\n",
       "    .dataframe tbody tr th {\n",
       "        vertical-align: top;\n",
       "    }\n",
       "\n",
       "    .dataframe thead th {\n",
       "        text-align: right;\n",
       "    }\n",
       "</style>\n",
       "<table border=\"1\" class=\"dataframe\">\n",
       "  <thead>\n",
       "    <tr style=\"text-align: right;\">\n",
       "      <th></th>\n",
       "      <th>Device</th>\n",
       "      <th>End Ts</th>\n",
       "      <th>Source Id</th>\n",
       "      <th>Start Ts</th>\n",
       "      <th>Uid</th>\n",
       "    </tr>\n",
       "  </thead>\n",
       "  <tbody>\n",
       "    <tr>\n",
       "      <th>333</th>\n",
       "      <td>desktop</td>\n",
       "      <td>2017-11-04 23:53:00</td>\n",
       "      <td>2</td>\n",
       "      <td>2017-11-04 23:30:00</td>\n",
       "      <td>439353376133384361</td>\n",
       "    </tr>\n",
       "    <tr>\n",
       "      <th>30</th>\n",
       "      <td>desktop</td>\n",
       "      <td>2018-04-05 09:27:00</td>\n",
       "      <td>2</td>\n",
       "      <td>2018-04-05 09:24:00</td>\n",
       "      <td>2655976123871714644</td>\n",
       "    </tr>\n",
       "    <tr>\n",
       "      <th>113</th>\n",
       "      <td>touch</td>\n",
       "      <td>2017-07-05 08:59:00</td>\n",
       "      <td>4</td>\n",
       "      <td>2017-07-05 08:56:00</td>\n",
       "      <td>13439224746474635596</td>\n",
       "    </tr>\n",
       "    <tr>\n",
       "      <th>8</th>\n",
       "      <td>desktop</td>\n",
       "      <td>2017-07-19 10:44:00</td>\n",
       "      <td>3</td>\n",
       "      <td>2017-07-19 10:41:00</td>\n",
       "      <td>2987360259350925644</td>\n",
       "    </tr>\n",
       "    <tr>\n",
       "      <th>462</th>\n",
       "      <td>desktop</td>\n",
       "      <td>2017-09-18 20:42:00</td>\n",
       "      <td>4</td>\n",
       "      <td>2017-09-18 20:39:00</td>\n",
       "      <td>6639306065312178296</td>\n",
       "    </tr>\n",
       "  </tbody>\n",
       "</table>\n",
       "</div>"
      ],
      "text/plain": [
       "      Device               End Ts  Source Id             Start Ts  \\\n",
       "333  desktop  2017-11-04 23:53:00          2  2017-11-04 23:30:00   \n",
       "30   desktop  2018-04-05 09:27:00          2  2018-04-05 09:24:00   \n",
       "113    touch  2017-07-05 08:59:00          4  2017-07-05 08:56:00   \n",
       "8    desktop  2017-07-19 10:44:00          3  2017-07-19 10:41:00   \n",
       "462  desktop  2017-09-18 20:42:00          4  2017-09-18 20:39:00   \n",
       "\n",
       "                      Uid  \n",
       "333    439353376133384361  \n",
       "30    2655976123871714644  \n",
       "113  13439224746474635596  \n",
       "8     2987360259350925644  \n",
       "462   6639306065312178296  "
      ]
     },
     "metadata": {},
     "output_type": "display_data"
    },
    {
     "name": "stdout",
     "output_type": "stream",
     "text": [
      "<class 'pandas.core.frame.DataFrame'>\n",
      "RangeIndex: 500 entries, 0 to 499\n",
      "Data columns (total 5 columns):\n",
      " #   Column     Non-Null Count  Dtype \n",
      "---  ------     --------------  ----- \n",
      " 0   Device     500 non-null    object\n",
      " 1   End Ts     500 non-null    object\n",
      " 2   Source Id  500 non-null    int64 \n",
      " 3   Start Ts   500 non-null    object\n",
      " 4   Uid        500 non-null    uint64\n",
      "dtypes: int64(1), object(3), uint64(1)\n",
      "memory usage: 101.4 KB\n"
     ]
    }
   ],
   "source": [
    "#Mostramos una muestra de 5 filas del DF\n",
    "display(visits.sample(5))\n",
    "#Mostramos la información del DF junto con el espacio en memoria de la muestra\n",
    "visits.info(memory_usage='deep')"
   ]
  },
  {
   "cell_type": "markdown",
   "metadata": {},
   "source": [
    "Los datos se dividen en 5 columnas:\n",
    "- **Device**: \n",
    "    - Descripción: Contiene el dispositivo del usuario.\n",
    "    - Tipo de dato: Objeto, almacena strings.\n",
    "    - Valores ausentes: En esta muestra no aparecen valores ausentes.\n",
    "- **End Ts**: \n",
    "    - Descripción: Fecha y hora del término de la sesión.\n",
    "    - Tipo de dato: Objeto, almacena fechas en formato AAAA-MM-DD.\n",
    "    - Valores ausentes: En esta muestra no aparecen valores ausentes.\n",
    "- **Source Id**: \n",
    "    - Descripción: Identificador de la fuente de anuncios de la que proviene el usuario.\n",
    "    - Tipo de dato: Entero, almacena números.\n",
    "    - Valores ausentes: En esta muestra no aparecen valores ausentes.\n",
    "- **Start Ts**: \n",
    "    - Descripción: Fecha y hora de inicio de la sesión.\n",
    "    - Tipo de dato: Objeto, almacena fechas en formato AAAA-MM-DD.\n",
    "    - Valores ausentes: En esta muestra no aparecen valores ausentes.\n",
    "- **Uid**: \n",
    "    - Descripción: Identificador único del usuario.\n",
    "    - Tipo de dato: Entero sin signo, almacena números.\n",
    "    - Valores ausentes: En esta muestra no aparecen valores ausentes.\n",
    "    \n",
    "Es importante señalar que los nombres de las columnas no cuentan con la convención snake_case, por lo que haremos el cambio más adelante.\n",
    "    \n",
    "#### Optimización de los datos.\n",
    "\n",
    "Debemos optimizar los datos, eso significa utilizar lo menos posible el tipo 'object' ya que ocupa bastante memoria, por lo que debemos analizar las columnas que los contengan: Device, End Ts y Start Ts."
   ]
  },
  {
   "cell_type": "code",
   "execution_count": 4,
   "metadata": {},
   "outputs": [],
   "source": [
    "#Función que nos ayuda a imprimir los valores únicos en una columna o un Series y cómo se distribuyen.\n",
    "def val_nuniq(columna):\n",
    "    print('Lista de valores únicos y su distribución en:', columna.name) #Se muestra el nombre de la columna\n",
    "    print(columna.value_counts()) #Se muestra la distribución de valores únicos\n",
    "    return None"
   ]
  },
  {
   "cell_type": "code",
   "execution_count": 5,
   "metadata": {},
   "outputs": [
    {
     "name": "stdout",
     "output_type": "stream",
     "text": [
      "Lista de valores únicos y su distribución en: Device\n",
      "Device\n",
      "desktop    363\n",
      "touch      137\n",
      "Name: count, dtype: int64\n"
     ]
    }
   ],
   "source": [
    "#Analizamos los datos existentes en la columna 'Device':\n",
    "val_nuniq(visits['Device'])"
   ]
  },
  {
   "cell_type": "markdown",
   "metadata": {},
   "source": [
    "Notamos que solo se muestran 2 valores: 'desktop' y 'touch' lo que probablemente se refiere a la categoría del dispositivo que utilizó el usuario. De esta manera, al solo tener dos valores en la columna podemos utilizar el tipo de dato 'category' que es muy parecido a 'object' pero usa menos espacio.\n",
    "\n",
    "En las columnas 'Start Ts' y 'End Ts' tenemos los datos de fecha y hora, la fecha en formato AAAA-MM-DD, esto almecenado en strings, lo cual hace que se utilice bastante espacio, para ello convertiremos al tipo 'datetime', el cual es más \"ligero\".\n",
    "\n",
    "Con esto, completamos el análisis preliminar, ahora podemos cargar el dataset completo pasando las conversiones correspondientes desde el momento de la lectura."
   ]
  },
  {
   "cell_type": "code",
   "execution_count": 6,
   "metadata": {},
   "outputs": [
    {
     "name": "stdout",
     "output_type": "stream",
     "text": [
      "<class 'pandas.core.frame.DataFrame'>\n",
      "RangeIndex: 359400 entries, 0 to 359399\n",
      "Data columns (total 5 columns):\n",
      " #   Column     Non-Null Count   Dtype         \n",
      "---  ------     --------------   -----         \n",
      " 0   Device     359400 non-null  category      \n",
      " 1   End Ts     359400 non-null  datetime64[ns]\n",
      " 2   Source Id  359400 non-null  int64         \n",
      " 3   Start Ts   359400 non-null  datetime64[ns]\n",
      " 4   Uid        359400 non-null  uint64        \n",
      "dtypes: category(1), datetime64[ns](2), int64(1), uint64(1)\n",
      "memory usage: 11.3 MB\n"
     ]
    }
   ],
   "source": [
    "#Cargamos el dataset completo realizando la conversión de tipo de datos correspondientes\n",
    "visits = pd.read_csv('visits_log_us.csv', dtype={'Device':'category'}, parse_dates=['Start Ts','End Ts'])\n",
    "#Mostramos la información del DF junto a su espacio en memoria\n",
    "visits.info(memory_usage = 'deep')"
   ]
  },
  {
   "cell_type": "code",
   "execution_count": 7,
   "metadata": {},
   "outputs": [],
   "source": [
    "#Función que nos ayuda a transformar los nombres de las columnas a la convención snake_case\n",
    "def snake_case(columns_list):\n",
    "    #Convertimos a minusculas\n",
    "    columns_list = columns_list.str.lower()\n",
    "    new_cols = [] #Lista vacia\n",
    "    for old in columns_list:\n",
    "        no_spaces = old.replace(' ','_') #Reemplazamos espacios por guión bajo\n",
    "        new_cols.append(no_spaces) #Agregamos a la lista \n",
    "    return new_cols #regresamos la lista con los nombres en snake_case"
   ]
  },
  {
   "cell_type": "code",
   "execution_count": 8,
   "metadata": {},
   "outputs": [
    {
     "name": "stdout",
     "output_type": "stream",
     "text": [
      "    device              end_ts  source_id            start_ts  \\\n",
      "0    touch 2017-12-20 17:38:00          4 2017-12-20 17:20:00   \n",
      "1  desktop 2018-02-19 17:21:00          2 2018-02-19 16:53:00   \n",
      "\n",
      "                    uid  \n",
      "0  16879256277535980062  \n",
      "1    104060357244891740  \n"
     ]
    }
   ],
   "source": [
    "#Transformarmos el nombre de las columnas a la convención snake_case\n",
    "visits.columns = snake_case(visits.columns)\n",
    "print(visits.head(2)) #Mostramos el resultado"
   ]
  },
  {
   "cell_type": "markdown",
   "metadata": {},
   "source": [
    "#### Tratamiento de valores ausentes.\n",
    "\n",
    "No hay presencia de valores ausentes.\n",
    "\n",
    "#### Valores duplicados.\n",
    "Haremos un pequeño análisis sobre la presencia de valores duplicados:"
   ]
  },
  {
   "cell_type": "code",
   "execution_count": 9,
   "metadata": {},
   "outputs": [
    {
     "name": "stdout",
     "output_type": "stream",
     "text": [
      "Número de valores duplicados:\n",
      " device       0\n",
      "end_ts       0\n",
      "source_id    0\n",
      "start_ts     0\n",
      "uid          0\n",
      "dtype: int64\n"
     ]
    }
   ],
   "source": [
    "#Imprimimos el número de valores duplicados\n",
    "print('Número de valores duplicados:\\n',visits[visits.duplicated()].count())"
   ]
  },
  {
   "cell_type": "markdown",
   "metadata": {},
   "source": [
    "No hay presencia de valores duplicados, por lo que ya está listo este conjunto de datos.\n",
    "\n",
    "### Orders\n",
    "\n",
    "#### Comprensión general del dataset\n",
    "\n",
    "El dataframe 'orders' contiene información sobre los datos de los pedidos. Mostramos la información del dataframe y una pequeña muestra."
   ]
  },
  {
   "cell_type": "code",
   "execution_count": 10,
   "metadata": {},
   "outputs": [
    {
     "data": {
      "text/html": [
       "<div>\n",
       "<style scoped>\n",
       "    .dataframe tbody tr th:only-of-type {\n",
       "        vertical-align: middle;\n",
       "    }\n",
       "\n",
       "    .dataframe tbody tr th {\n",
       "        vertical-align: top;\n",
       "    }\n",
       "\n",
       "    .dataframe thead th {\n",
       "        text-align: right;\n",
       "    }\n",
       "</style>\n",
       "<table border=\"1\" class=\"dataframe\">\n",
       "  <thead>\n",
       "    <tr style=\"text-align: right;\">\n",
       "      <th></th>\n",
       "      <th>Buy Ts</th>\n",
       "      <th>Revenue</th>\n",
       "      <th>Uid</th>\n",
       "    </tr>\n",
       "  </thead>\n",
       "  <tbody>\n",
       "    <tr>\n",
       "      <th>290</th>\n",
       "      <td>2017-06-04 12:28:00</td>\n",
       "      <td>0.92</td>\n",
       "      <td>14784846369406963928</td>\n",
       "    </tr>\n",
       "    <tr>\n",
       "      <th>457</th>\n",
       "      <td>2017-06-05 19:20:00</td>\n",
       "      <td>9.90</td>\n",
       "      <td>148401564840028266</td>\n",
       "    </tr>\n",
       "    <tr>\n",
       "      <th>66</th>\n",
       "      <td>2017-06-01 21:09:00</td>\n",
       "      <td>2.44</td>\n",
       "      <td>9729244501093943694</td>\n",
       "    </tr>\n",
       "    <tr>\n",
       "      <th>31</th>\n",
       "      <td>2017-06-01 14:36:00</td>\n",
       "      <td>0.24</td>\n",
       "      <td>13830803930846284958</td>\n",
       "    </tr>\n",
       "    <tr>\n",
       "      <th>146</th>\n",
       "      <td>2017-06-02 13:16:00</td>\n",
       "      <td>0.37</td>\n",
       "      <td>3146568862597774354</td>\n",
       "    </tr>\n",
       "  </tbody>\n",
       "</table>\n",
       "</div>"
      ],
      "text/plain": [
       "                  Buy Ts  Revenue                   Uid\n",
       "290  2017-06-04 12:28:00     0.92  14784846369406963928\n",
       "457  2017-06-05 19:20:00     9.90    148401564840028266\n",
       "66   2017-06-01 21:09:00     2.44   9729244501093943694\n",
       "31   2017-06-01 14:36:00     0.24  13830803930846284958\n",
       "146  2017-06-02 13:16:00     0.37   3146568862597774354"
      ]
     },
     "metadata": {},
     "output_type": "display_data"
    },
    {
     "name": "stdout",
     "output_type": "stream",
     "text": [
      "<class 'pandas.core.frame.DataFrame'>\n",
      "RangeIndex: 500 entries, 0 to 499\n",
      "Data columns (total 3 columns):\n",
      " #   Column   Non-Null Count  Dtype  \n",
      "---  ------   --------------  -----  \n",
      " 0   Buy Ts   500 non-null    object \n",
      " 1   Revenue  500 non-null    float64\n",
      " 2   Uid      500 non-null    uint64 \n",
      "dtypes: float64(1), object(1), uint64(1)\n",
      "memory usage: 41.1 KB\n"
     ]
    }
   ],
   "source": [
    "#Mostramos una muestra de 5 filas del DF\n",
    "display(orders.sample(5))\n",
    "#Mostramos la informacion del Df junto con el espacio en memoria de la muestra\n",
    "orders.info(memory_usage='deep')"
   ]
  },
  {
   "cell_type": "markdown",
   "metadata": {},
   "source": [
    "Los datos se dividen en 3 columnas:\n",
    "- **Buy Ts**: \n",
    "    - Descripción: Fecha y hora del pedido.\n",
    "    - Tipo de dato: Objeto, almacena fechas.\n",
    "    - Valores ausentes: No hay presencia de valores ausentes en esta muestra.\n",
    "- **Revenue**: \n",
    "    - Descripción: Ingresos de Y.Afisha del pedido.\n",
    "    - Tipo de dato: Flotante, almacena el valor del pedido.\n",
    "    - Valores ausentes: No hay presencia de valores ausentes en esta muestra.\n",
    "- **Uid**: \n",
    "    - Descripción: Identificador único del usuario que realiza el pedido.\n",
    "    - Tipo de dato: Entero sin signo, almacena números.\n",
    "    - Valores ausentes: No hay presencia de valores ausentes en esta muestra.\n",
    " \n",
    "Es importante señalar que los nombres de las columnas no cuentan con la convención snake_case, por lo que haremos el cambio más adelante.\n",
    "\n",
    "    \n",
    "#### Optimización de los datos.\n",
    "\n",
    "Como explicamos anteriormente, debemos analizar las columnas que tengan el tipo de dato 'object'.\n",
    "\n",
    "De igual forma que en el conjunto anterior, la columna **'Buy Ts'** almacena fechas en formato AAAA-MM-DD como strings, los cuales utilizan bastante espacio y hay que transformarlos al tipo 'datetime'.\n",
    "\n",
    "Siendo este el único cambio de tipo de dato para este conjunto de datos, procedemos a cargar el dataset completo con las conversiones correspondientes."
   ]
  },
  {
   "cell_type": "code",
   "execution_count": 11,
   "metadata": {},
   "outputs": [
    {
     "name": "stdout",
     "output_type": "stream",
     "text": [
      "<class 'pandas.core.frame.DataFrame'>\n",
      "RangeIndex: 50415 entries, 0 to 50414\n",
      "Data columns (total 3 columns):\n",
      " #   Column   Non-Null Count  Dtype         \n",
      "---  ------   --------------  -----         \n",
      " 0   Buy Ts   50415 non-null  datetime64[ns]\n",
      " 1   Revenue  50415 non-null  float64       \n",
      " 2   Uid      50415 non-null  uint64        \n",
      "dtypes: datetime64[ns](1), float64(1), uint64(1)\n",
      "memory usage: 1.2 MB\n"
     ]
    }
   ],
   "source": [
    "#Cargamos el dataset completo realizando la conversión de las fechas a datetime\n",
    "orders = pd.read_csv('orders_log_us.csv', parse_dates=['Buy Ts'])\n",
    "#Mostramos la información del DF junto a su espacio en memoria.\n",
    "orders.info(memory_usage = 'deep')"
   ]
  },
  {
   "cell_type": "code",
   "execution_count": 12,
   "metadata": {},
   "outputs": [
    {
     "name": "stdout",
     "output_type": "stream",
     "text": [
      "               buy_ts  revenue                   uid\n",
      "0 2017-06-01 00:10:00    17.00  10329302124590727494\n",
      "1 2017-06-01 00:25:00     0.55  11627257723692907447\n"
     ]
    }
   ],
   "source": [
    "#Transformarmos el nombre de las columnas a la convención snake_case\n",
    "orders.columns = snake_case(orders.columns)\n",
    "print(orders.head(2)) #Mostramos el resultado"
   ]
  },
  {
   "cell_type": "markdown",
   "metadata": {},
   "source": [
    "#### Tratamiento de valores ausentes.\n",
    "\n",
    "No hay presencia de valores ausentes.\n",
    "\n",
    "#### Valores duplicados.\n",
    "Haremos un pequeño análisis sobre la presencia de valores duplicados:"
   ]
  },
  {
   "cell_type": "code",
   "execution_count": 13,
   "metadata": {},
   "outputs": [
    {
     "name": "stdout",
     "output_type": "stream",
     "text": [
      "Número de valores duplicados:\n",
      " buy_ts     0\n",
      "revenue    0\n",
      "uid        0\n",
      "dtype: int64\n"
     ]
    }
   ],
   "source": [
    "#Imprimimos el número de valores duplicados\n",
    "print('Número de valores duplicados:\\n',orders[orders.duplicated()].count())"
   ]
  },
  {
   "cell_type": "markdown",
   "metadata": {},
   "source": [
    "No hay presencia de valores duplicados, por lo que ya está listo este conjunto de datos.\n",
    "\n",
    "\n",
    "### Costs\n",
    "\n",
    "#### Comprensión general del dataset\n",
    "\n",
    "El dataframe 'costs' contiene información sobre los datos de los gastos de marketing. Mostramos la información del dataframe y una pequeña muestra."
   ]
  },
  {
   "cell_type": "code",
   "execution_count": 14,
   "metadata": {},
   "outputs": [
    {
     "data": {
      "text/html": [
       "<div>\n",
       "<style scoped>\n",
       "    .dataframe tbody tr th:only-of-type {\n",
       "        vertical-align: middle;\n",
       "    }\n",
       "\n",
       "    .dataframe tbody tr th {\n",
       "        vertical-align: top;\n",
       "    }\n",
       "\n",
       "    .dataframe thead th {\n",
       "        text-align: right;\n",
       "    }\n",
       "</style>\n",
       "<table border=\"1\" class=\"dataframe\">\n",
       "  <thead>\n",
       "    <tr style=\"text-align: right;\">\n",
       "      <th></th>\n",
       "      <th>source_id</th>\n",
       "      <th>dt</th>\n",
       "      <th>costs</th>\n",
       "    </tr>\n",
       "  </thead>\n",
       "  <tbody>\n",
       "    <tr>\n",
       "      <th>475</th>\n",
       "      <td>2</td>\n",
       "      <td>2017-09-21</td>\n",
       "      <td>140.29</td>\n",
       "    </tr>\n",
       "    <tr>\n",
       "      <th>484</th>\n",
       "      <td>2</td>\n",
       "      <td>2017-09-30</td>\n",
       "      <td>120.10</td>\n",
       "    </tr>\n",
       "    <tr>\n",
       "      <th>166</th>\n",
       "      <td>1</td>\n",
       "      <td>2017-11-14</td>\n",
       "      <td>61.88</td>\n",
       "    </tr>\n",
       "    <tr>\n",
       "      <th>283</th>\n",
       "      <td>1</td>\n",
       "      <td>2018-03-11</td>\n",
       "      <td>49.35</td>\n",
       "    </tr>\n",
       "    <tr>\n",
       "      <th>362</th>\n",
       "      <td>1</td>\n",
       "      <td>2018-05-31</td>\n",
       "      <td>141.70</td>\n",
       "    </tr>\n",
       "  </tbody>\n",
       "</table>\n",
       "</div>"
      ],
      "text/plain": [
       "     source_id          dt   costs\n",
       "475          2  2017-09-21  140.29\n",
       "484          2  2017-09-30  120.10\n",
       "166          1  2017-11-14   61.88\n",
       "283          1  2018-03-11   49.35\n",
       "362          1  2018-05-31  141.70"
      ]
     },
     "metadata": {},
     "output_type": "display_data"
    },
    {
     "name": "stdout",
     "output_type": "stream",
     "text": [
      "<class 'pandas.core.frame.DataFrame'>\n",
      "RangeIndex: 500 entries, 0 to 499\n",
      "Data columns (total 3 columns):\n",
      " #   Column     Non-Null Count  Dtype  \n",
      "---  ------     --------------  -----  \n",
      " 0   source_id  500 non-null    int64  \n",
      " 1   dt         500 non-null    object \n",
      " 2   costs      500 non-null    float64\n",
      "dtypes: float64(1), int64(1), object(1)\n",
      "memory usage: 36.8 KB\n"
     ]
    }
   ],
   "source": [
    "#Mostramos una muestra de 5 filas del conjunto de datos\n",
    "display(costs.sample(5))\n",
    "#Mostramos la información del dataframe y cuanta memoria ocupa\n",
    "costs.info(memory_usage='deep')"
   ]
  },
  {
   "cell_type": "markdown",
   "metadata": {},
   "source": [
    "Los datos se dividen en 3 columnas:\n",
    "- **source_id**: \n",
    "    - Descripción: Identificador de la fuente de anuncios. \n",
    "    - Tipo de dato: Entero, almacena números. \n",
    "    - Valores ausentes: No hay presencia de valores ausentes en esta muestra.\n",
    "- **dt**: \n",
    "    - Descripción: Fecha del gasto realizado de marketing.\n",
    "    - Tipo de dato: Object, almacena fechas.\n",
    "    - Valores ausentes: No hay presencia de valores ausentes en esta muestra.\n",
    "- **costs**: \n",
    "    - Descripción: Gastos en esta fuente de anuncios en el día señalado.\n",
    "    - Tipo de dato: Flotante, almacena números\n",
    "    - Valores ausentes: No hay presencia de valores ausentes en esta muestra.\n",
    "    \n",
    "#### Optimización de los datos.\n",
    "\n",
    "La columna **\"dt\"** almacena fechas en formato AAAA-MM-DD como strings, los cuales utilizan bastante espacio y hay que transformarlos al tipo 'datetime'.\n",
    "\n",
    "Siendo este el único cambio de tipo de dato para este conjunto de datos, procedemos a cargar el dataset completo con las conversiones correspondientes."
   ]
  },
  {
   "cell_type": "code",
   "execution_count": 15,
   "metadata": {},
   "outputs": [
    {
     "name": "stdout",
     "output_type": "stream",
     "text": [
      "<class 'pandas.core.frame.DataFrame'>\n",
      "RangeIndex: 2542 entries, 0 to 2541\n",
      "Data columns (total 3 columns):\n",
      " #   Column     Non-Null Count  Dtype         \n",
      "---  ------     --------------  -----         \n",
      " 0   source_id  2542 non-null   int64         \n",
      " 1   dt         2542 non-null   datetime64[ns]\n",
      " 2   costs      2542 non-null   float64       \n",
      "dtypes: datetime64[ns](1), float64(1), int64(1)\n",
      "memory usage: 59.7 KB\n"
     ]
    }
   ],
   "source": [
    "#Cargamos el dataset completo realizando la conversión de las fechas a datetime\n",
    "costs = pd.read_csv('costs_us.csv', parse_dates=['dt'])\n",
    "#Mostramos la información del dataframe completo.\n",
    "costs.info(memory_usage = 'deep')"
   ]
  },
  {
   "cell_type": "markdown",
   "metadata": {},
   "source": [
    "#### Tratamiento de valores ausentes.\n",
    "\n",
    "No hay presencia de valores ausentes.\n",
    "\n",
    "#### Valores duplicados.\n",
    "Haremos un pequeño análisis sobre la presencia de valores duplicados:"
   ]
  },
  {
   "cell_type": "code",
   "execution_count": 16,
   "metadata": {},
   "outputs": [
    {
     "name": "stdout",
     "output_type": "stream",
     "text": [
      "Número de valores duplicados:\n",
      " source_id    0\n",
      "dt           0\n",
      "costs        0\n",
      "dtype: int64\n"
     ]
    }
   ],
   "source": [
    "#Imprimimos el número de valores duplicados\n",
    "print('Número de valores duplicados:\\n',costs[costs.duplicated()].count())"
   ]
  },
  {
   "cell_type": "markdown",
   "metadata": {},
   "source": [
    "No hay presencia de valores duplicados, por lo que ya está listo este conjunto de datos y terminamos con la sección de preparación de los datos.\n",
    "\n",
    "## Análisis de Negocio\n",
    "\n",
    "Ahora que tenemos los datos listos, pasaremos al análisis. \n",
    "\n",
    "### Visitas\n",
    "\n",
    "\n",
    "#### Actividad de los usuarios\n",
    "\n",
    "En esta sección, analizaremos la cantidad de usuarios que utilizan el servicio durante diferentes periodos de tiempo. Para lo cual nos sirven las siguientes métricas:\n",
    "* **DAU**: Número de usuarios activos diarios.\n",
    "* **WAU**: Número de usuarios activos semanales.\n",
    "* **MAU**: Número de usuarios activos mensuales.\n",
    "\n",
    "De esta forma, para poder calcularlas debemos obtener la información específica de la fecha de cada sesión realizada.\n"
   ]
  },
  {
   "cell_type": "code",
   "execution_count": 17,
   "metadata": {},
   "outputs": [
    {
     "data": {
      "text/html": [
       "<div>\n",
       "<style scoped>\n",
       "    .dataframe tbody tr th:only-of-type {\n",
       "        vertical-align: middle;\n",
       "    }\n",
       "\n",
       "    .dataframe tbody tr th {\n",
       "        vertical-align: top;\n",
       "    }\n",
       "\n",
       "    .dataframe thead th {\n",
       "        text-align: right;\n",
       "    }\n",
       "</style>\n",
       "<table border=\"1\" class=\"dataframe\">\n",
       "  <thead>\n",
       "    <tr style=\"text-align: right;\">\n",
       "      <th></th>\n",
       "      <th>device</th>\n",
       "      <th>end_ts</th>\n",
       "      <th>source_id</th>\n",
       "      <th>start_ts</th>\n",
       "      <th>uid</th>\n",
       "      <th>session_year</th>\n",
       "      <th>session_month</th>\n",
       "      <th>session_week</th>\n",
       "      <th>session_date</th>\n",
       "    </tr>\n",
       "  </thead>\n",
       "  <tbody>\n",
       "    <tr>\n",
       "      <th>0</th>\n",
       "      <td>touch</td>\n",
       "      <td>2017-12-20 17:38:00</td>\n",
       "      <td>4</td>\n",
       "      <td>2017-12-20 17:20:00</td>\n",
       "      <td>16879256277535980062</td>\n",
       "      <td>2017</td>\n",
       "      <td>12</td>\n",
       "      <td>51</td>\n",
       "      <td>2017-12-20</td>\n",
       "    </tr>\n",
       "    <tr>\n",
       "      <th>1</th>\n",
       "      <td>desktop</td>\n",
       "      <td>2018-02-19 17:21:00</td>\n",
       "      <td>2</td>\n",
       "      <td>2018-02-19 16:53:00</td>\n",
       "      <td>104060357244891740</td>\n",
       "      <td>2018</td>\n",
       "      <td>2</td>\n",
       "      <td>8</td>\n",
       "      <td>2018-02-19</td>\n",
       "    </tr>\n",
       "    <tr>\n",
       "      <th>2</th>\n",
       "      <td>touch</td>\n",
       "      <td>2017-07-01 01:54:00</td>\n",
       "      <td>5</td>\n",
       "      <td>2017-07-01 01:54:00</td>\n",
       "      <td>7459035603376831527</td>\n",
       "      <td>2017</td>\n",
       "      <td>7</td>\n",
       "      <td>26</td>\n",
       "      <td>2017-07-01</td>\n",
       "    </tr>\n",
       "    <tr>\n",
       "      <th>3</th>\n",
       "      <td>desktop</td>\n",
       "      <td>2018-05-20 11:23:00</td>\n",
       "      <td>9</td>\n",
       "      <td>2018-05-20 10:59:00</td>\n",
       "      <td>16174680259334210214</td>\n",
       "      <td>2018</td>\n",
       "      <td>5</td>\n",
       "      <td>20</td>\n",
       "      <td>2018-05-20</td>\n",
       "    </tr>\n",
       "    <tr>\n",
       "      <th>4</th>\n",
       "      <td>desktop</td>\n",
       "      <td>2017-12-27 14:06:00</td>\n",
       "      <td>3</td>\n",
       "      <td>2017-12-27 14:06:00</td>\n",
       "      <td>9969694820036681168</td>\n",
       "      <td>2017</td>\n",
       "      <td>12</td>\n",
       "      <td>52</td>\n",
       "      <td>2017-12-27</td>\n",
       "    </tr>\n",
       "  </tbody>\n",
       "</table>\n",
       "</div>"
      ],
      "text/plain": [
       "    device              end_ts  source_id            start_ts  \\\n",
       "0    touch 2017-12-20 17:38:00          4 2017-12-20 17:20:00   \n",
       "1  desktop 2018-02-19 17:21:00          2 2018-02-19 16:53:00   \n",
       "2    touch 2017-07-01 01:54:00          5 2017-07-01 01:54:00   \n",
       "3  desktop 2018-05-20 11:23:00          9 2018-05-20 10:59:00   \n",
       "4  desktop 2017-12-27 14:06:00          3 2017-12-27 14:06:00   \n",
       "\n",
       "                    uid  session_year  session_month  session_week  \\\n",
       "0  16879256277535980062          2017             12            51   \n",
       "1    104060357244891740          2018              2             8   \n",
       "2   7459035603376831527          2017              7            26   \n",
       "3  16174680259334210214          2018              5            20   \n",
       "4   9969694820036681168          2017             12            52   \n",
       "\n",
       "  session_date  \n",
       "0   2017-12-20  \n",
       "1   2018-02-19  \n",
       "2   2017-07-01  \n",
       "3   2018-05-20  \n",
       "4   2017-12-27  "
      ]
     },
     "metadata": {},
     "output_type": "display_data"
    }
   ],
   "source": [
    "#Recuperamos información de la fecha de 'start_ts'\n",
    "visits['session_year'] = visits['start_ts'].dt.isocalendar().year #año\n",
    "visits['session_month'] = visits['start_ts'].dt.month #mes\n",
    "visits['session_week'] = visits['start_ts'].dt.isocalendar().week #semana\n",
    "visits['session_date'] = visits['start_ts'].dt.date #fecha\n",
    "\n",
    "#Mostramos el DF con las modificaciones realizadas:\n",
    "display(visits.head(5))"
   ]
  },
  {
   "cell_type": "code",
   "execution_count": 18,
   "metadata": {},
   "outputs": [
    {
     "name": "stderr",
     "output_type": "stream",
     "text": [
      "C:\\Users\\oscar\\AppData\\Local\\Temp\\ipykernel_21212\\2840445659.py:14: FutureWarning: Calling int on a single element Series is deprecated and will raise a TypeError in the future. Use int(ser.iloc[0]) instead\n",
      "  d = {'Metrica':['Diarios','Semanales','Mensuales'],'Valor':[int(dau_total),int(wau_total),int(mau_total)]}\n"
     ]
    },
    {
     "data": {
      "application/vnd.plotly.v1+json": {
       "config": {
        "plotlyServerURL": "https://plot.ly"
       },
       "data": [
        {
         "alignmentgroup": "True",
         "hovertemplate": "Metrica=%{x}<br>Usuarios=%{text}<extra></extra>",
         "legendgroup": "Diarios",
         "marker": {
          "color": "#636efa",
          "pattern": {
           "shape": ""
          }
         },
         "name": "Diarios",
         "offsetgroup": "Diarios",
         "orientation": "v",
         "showlegend": true,
         "text": [
          907
         ],
         "textposition": "auto",
         "type": "bar",
         "x": [
          "Diarios"
         ],
         "xaxis": "x",
         "y": [
          907
         ],
         "yaxis": "y"
        },
        {
         "alignmentgroup": "True",
         "hovertemplate": "Metrica=%{x}<br>Usuarios=%{text}<extra></extra>",
         "legendgroup": "Semanales",
         "marker": {
          "color": "#EF553B",
          "pattern": {
           "shape": ""
          }
         },
         "name": "Semanales",
         "offsetgroup": "Semanales",
         "orientation": "v",
         "showlegend": true,
         "text": [
          5716
         ],
         "textposition": "auto",
         "type": "bar",
         "x": [
          "Semanales"
         ],
         "xaxis": "x",
         "y": [
          5716
         ],
         "yaxis": "y"
        },
        {
         "alignmentgroup": "True",
         "hovertemplate": "Metrica=%{x}<br>Usuarios=%{text}<extra></extra>",
         "legendgroup": "Mensuales",
         "marker": {
          "color": "#00cc96",
          "pattern": {
           "shape": ""
          }
         },
         "name": "Mensuales",
         "offsetgroup": "Mensuales",
         "orientation": "v",
         "showlegend": true,
         "text": [
          23228
         ],
         "textposition": "auto",
         "type": "bar",
         "x": [
          "Mensuales"
         ],
         "xaxis": "x",
         "y": [
          23228
         ],
         "yaxis": "y"
        }
       ],
       "layout": {
        "barmode": "relative",
        "legend": {
         "title": {
          "text": "Metrica"
         },
         "tracegroupgap": 0
        },
        "template": {
         "data": {
          "bar": [
           {
            "error_x": {
             "color": "#2a3f5f"
            },
            "error_y": {
             "color": "#2a3f5f"
            },
            "marker": {
             "line": {
              "color": "#E5ECF6",
              "width": 0.5
             },
             "pattern": {
              "fillmode": "overlay",
              "size": 10,
              "solidity": 0.2
             }
            },
            "type": "bar"
           }
          ],
          "barpolar": [
           {
            "marker": {
             "line": {
              "color": "#E5ECF6",
              "width": 0.5
             },
             "pattern": {
              "fillmode": "overlay",
              "size": 10,
              "solidity": 0.2
             }
            },
            "type": "barpolar"
           }
          ],
          "carpet": [
           {
            "aaxis": {
             "endlinecolor": "#2a3f5f",
             "gridcolor": "white",
             "linecolor": "white",
             "minorgridcolor": "white",
             "startlinecolor": "#2a3f5f"
            },
            "baxis": {
             "endlinecolor": "#2a3f5f",
             "gridcolor": "white",
             "linecolor": "white",
             "minorgridcolor": "white",
             "startlinecolor": "#2a3f5f"
            },
            "type": "carpet"
           }
          ],
          "choropleth": [
           {
            "colorbar": {
             "outlinewidth": 0,
             "ticks": ""
            },
            "type": "choropleth"
           }
          ],
          "contour": [
           {
            "colorbar": {
             "outlinewidth": 0,
             "ticks": ""
            },
            "colorscale": [
             [
              0,
              "#0d0887"
             ],
             [
              0.1111111111111111,
              "#46039f"
             ],
             [
              0.2222222222222222,
              "#7201a8"
             ],
             [
              0.3333333333333333,
              "#9c179e"
             ],
             [
              0.4444444444444444,
              "#bd3786"
             ],
             [
              0.5555555555555556,
              "#d8576b"
             ],
             [
              0.6666666666666666,
              "#ed7953"
             ],
             [
              0.7777777777777778,
              "#fb9f3a"
             ],
             [
              0.8888888888888888,
              "#fdca26"
             ],
             [
              1,
              "#f0f921"
             ]
            ],
            "type": "contour"
           }
          ],
          "contourcarpet": [
           {
            "colorbar": {
             "outlinewidth": 0,
             "ticks": ""
            },
            "type": "contourcarpet"
           }
          ],
          "heatmap": [
           {
            "colorbar": {
             "outlinewidth": 0,
             "ticks": ""
            },
            "colorscale": [
             [
              0,
              "#0d0887"
             ],
             [
              0.1111111111111111,
              "#46039f"
             ],
             [
              0.2222222222222222,
              "#7201a8"
             ],
             [
              0.3333333333333333,
              "#9c179e"
             ],
             [
              0.4444444444444444,
              "#bd3786"
             ],
             [
              0.5555555555555556,
              "#d8576b"
             ],
             [
              0.6666666666666666,
              "#ed7953"
             ],
             [
              0.7777777777777778,
              "#fb9f3a"
             ],
             [
              0.8888888888888888,
              "#fdca26"
             ],
             [
              1,
              "#f0f921"
             ]
            ],
            "type": "heatmap"
           }
          ],
          "heatmapgl": [
           {
            "colorbar": {
             "outlinewidth": 0,
             "ticks": ""
            },
            "colorscale": [
             [
              0,
              "#0d0887"
             ],
             [
              0.1111111111111111,
              "#46039f"
             ],
             [
              0.2222222222222222,
              "#7201a8"
             ],
             [
              0.3333333333333333,
              "#9c179e"
             ],
             [
              0.4444444444444444,
              "#bd3786"
             ],
             [
              0.5555555555555556,
              "#d8576b"
             ],
             [
              0.6666666666666666,
              "#ed7953"
             ],
             [
              0.7777777777777778,
              "#fb9f3a"
             ],
             [
              0.8888888888888888,
              "#fdca26"
             ],
             [
              1,
              "#f0f921"
             ]
            ],
            "type": "heatmapgl"
           }
          ],
          "histogram": [
           {
            "marker": {
             "pattern": {
              "fillmode": "overlay",
              "size": 10,
              "solidity": 0.2
             }
            },
            "type": "histogram"
           }
          ],
          "histogram2d": [
           {
            "colorbar": {
             "outlinewidth": 0,
             "ticks": ""
            },
            "colorscale": [
             [
              0,
              "#0d0887"
             ],
             [
              0.1111111111111111,
              "#46039f"
             ],
             [
              0.2222222222222222,
              "#7201a8"
             ],
             [
              0.3333333333333333,
              "#9c179e"
             ],
             [
              0.4444444444444444,
              "#bd3786"
             ],
             [
              0.5555555555555556,
              "#d8576b"
             ],
             [
              0.6666666666666666,
              "#ed7953"
             ],
             [
              0.7777777777777778,
              "#fb9f3a"
             ],
             [
              0.8888888888888888,
              "#fdca26"
             ],
             [
              1,
              "#f0f921"
             ]
            ],
            "type": "histogram2d"
           }
          ],
          "histogram2dcontour": [
           {
            "colorbar": {
             "outlinewidth": 0,
             "ticks": ""
            },
            "colorscale": [
             [
              0,
              "#0d0887"
             ],
             [
              0.1111111111111111,
              "#46039f"
             ],
             [
              0.2222222222222222,
              "#7201a8"
             ],
             [
              0.3333333333333333,
              "#9c179e"
             ],
             [
              0.4444444444444444,
              "#bd3786"
             ],
             [
              0.5555555555555556,
              "#d8576b"
             ],
             [
              0.6666666666666666,
              "#ed7953"
             ],
             [
              0.7777777777777778,
              "#fb9f3a"
             ],
             [
              0.8888888888888888,
              "#fdca26"
             ],
             [
              1,
              "#f0f921"
             ]
            ],
            "type": "histogram2dcontour"
           }
          ],
          "mesh3d": [
           {
            "colorbar": {
             "outlinewidth": 0,
             "ticks": ""
            },
            "type": "mesh3d"
           }
          ],
          "parcoords": [
           {
            "line": {
             "colorbar": {
              "outlinewidth": 0,
              "ticks": ""
             }
            },
            "type": "parcoords"
           }
          ],
          "pie": [
           {
            "automargin": true,
            "type": "pie"
           }
          ],
          "scatter": [
           {
            "fillpattern": {
             "fillmode": "overlay",
             "size": 10,
             "solidity": 0.2
            },
            "type": "scatter"
           }
          ],
          "scatter3d": [
           {
            "line": {
             "colorbar": {
              "outlinewidth": 0,
              "ticks": ""
             }
            },
            "marker": {
             "colorbar": {
              "outlinewidth": 0,
              "ticks": ""
             }
            },
            "type": "scatter3d"
           }
          ],
          "scattercarpet": [
           {
            "marker": {
             "colorbar": {
              "outlinewidth": 0,
              "ticks": ""
             }
            },
            "type": "scattercarpet"
           }
          ],
          "scattergeo": [
           {
            "marker": {
             "colorbar": {
              "outlinewidth": 0,
              "ticks": ""
             }
            },
            "type": "scattergeo"
           }
          ],
          "scattergl": [
           {
            "marker": {
             "colorbar": {
              "outlinewidth": 0,
              "ticks": ""
             }
            },
            "type": "scattergl"
           }
          ],
          "scattermapbox": [
           {
            "marker": {
             "colorbar": {
              "outlinewidth": 0,
              "ticks": ""
             }
            },
            "type": "scattermapbox"
           }
          ],
          "scatterpolar": [
           {
            "marker": {
             "colorbar": {
              "outlinewidth": 0,
              "ticks": ""
             }
            },
            "type": "scatterpolar"
           }
          ],
          "scatterpolargl": [
           {
            "marker": {
             "colorbar": {
              "outlinewidth": 0,
              "ticks": ""
             }
            },
            "type": "scatterpolargl"
           }
          ],
          "scatterternary": [
           {
            "marker": {
             "colorbar": {
              "outlinewidth": 0,
              "ticks": ""
             }
            },
            "type": "scatterternary"
           }
          ],
          "surface": [
           {
            "colorbar": {
             "outlinewidth": 0,
             "ticks": ""
            },
            "colorscale": [
             [
              0,
              "#0d0887"
             ],
             [
              0.1111111111111111,
              "#46039f"
             ],
             [
              0.2222222222222222,
              "#7201a8"
             ],
             [
              0.3333333333333333,
              "#9c179e"
             ],
             [
              0.4444444444444444,
              "#bd3786"
             ],
             [
              0.5555555555555556,
              "#d8576b"
             ],
             [
              0.6666666666666666,
              "#ed7953"
             ],
             [
              0.7777777777777778,
              "#fb9f3a"
             ],
             [
              0.8888888888888888,
              "#fdca26"
             ],
             [
              1,
              "#f0f921"
             ]
            ],
            "type": "surface"
           }
          ],
          "table": [
           {
            "cells": {
             "fill": {
              "color": "#EBF0F8"
             },
             "line": {
              "color": "white"
             }
            },
            "header": {
             "fill": {
              "color": "#C8D4E3"
             },
             "line": {
              "color": "white"
             }
            },
            "type": "table"
           }
          ]
         },
         "layout": {
          "annotationdefaults": {
           "arrowcolor": "#2a3f5f",
           "arrowhead": 0,
           "arrowwidth": 1
          },
          "autotypenumbers": "strict",
          "coloraxis": {
           "colorbar": {
            "outlinewidth": 0,
            "ticks": ""
           }
          },
          "colorscale": {
           "diverging": [
            [
             0,
             "#8e0152"
            ],
            [
             0.1,
             "#c51b7d"
            ],
            [
             0.2,
             "#de77ae"
            ],
            [
             0.3,
             "#f1b6da"
            ],
            [
             0.4,
             "#fde0ef"
            ],
            [
             0.5,
             "#f7f7f7"
            ],
            [
             0.6,
             "#e6f5d0"
            ],
            [
             0.7,
             "#b8e186"
            ],
            [
             0.8,
             "#7fbc41"
            ],
            [
             0.9,
             "#4d9221"
            ],
            [
             1,
             "#276419"
            ]
           ],
           "sequential": [
            [
             0,
             "#0d0887"
            ],
            [
             0.1111111111111111,
             "#46039f"
            ],
            [
             0.2222222222222222,
             "#7201a8"
            ],
            [
             0.3333333333333333,
             "#9c179e"
            ],
            [
             0.4444444444444444,
             "#bd3786"
            ],
            [
             0.5555555555555556,
             "#d8576b"
            ],
            [
             0.6666666666666666,
             "#ed7953"
            ],
            [
             0.7777777777777778,
             "#fb9f3a"
            ],
            [
             0.8888888888888888,
             "#fdca26"
            ],
            [
             1,
             "#f0f921"
            ]
           ],
           "sequentialminus": [
            [
             0,
             "#0d0887"
            ],
            [
             0.1111111111111111,
             "#46039f"
            ],
            [
             0.2222222222222222,
             "#7201a8"
            ],
            [
             0.3333333333333333,
             "#9c179e"
            ],
            [
             0.4444444444444444,
             "#bd3786"
            ],
            [
             0.5555555555555556,
             "#d8576b"
            ],
            [
             0.6666666666666666,
             "#ed7953"
            ],
            [
             0.7777777777777778,
             "#fb9f3a"
            ],
            [
             0.8888888888888888,
             "#fdca26"
            ],
            [
             1,
             "#f0f921"
            ]
           ]
          },
          "colorway": [
           "#636efa",
           "#EF553B",
           "#00cc96",
           "#ab63fa",
           "#FFA15A",
           "#19d3f3",
           "#FF6692",
           "#B6E880",
           "#FF97FF",
           "#FECB52"
          ],
          "font": {
           "color": "#2a3f5f"
          },
          "geo": {
           "bgcolor": "white",
           "lakecolor": "white",
           "landcolor": "#E5ECF6",
           "showlakes": true,
           "showland": true,
           "subunitcolor": "white"
          },
          "hoverlabel": {
           "align": "left"
          },
          "hovermode": "closest",
          "mapbox": {
           "style": "light"
          },
          "paper_bgcolor": "white",
          "plot_bgcolor": "#E5ECF6",
          "polar": {
           "angularaxis": {
            "gridcolor": "white",
            "linecolor": "white",
            "ticks": ""
           },
           "bgcolor": "#E5ECF6",
           "radialaxis": {
            "gridcolor": "white",
            "linecolor": "white",
            "ticks": ""
           }
          },
          "scene": {
           "xaxis": {
            "backgroundcolor": "#E5ECF6",
            "gridcolor": "white",
            "gridwidth": 2,
            "linecolor": "white",
            "showbackground": true,
            "ticks": "",
            "zerolinecolor": "white"
           },
           "yaxis": {
            "backgroundcolor": "#E5ECF6",
            "gridcolor": "white",
            "gridwidth": 2,
            "linecolor": "white",
            "showbackground": true,
            "ticks": "",
            "zerolinecolor": "white"
           },
           "zaxis": {
            "backgroundcolor": "#E5ECF6",
            "gridcolor": "white",
            "gridwidth": 2,
            "linecolor": "white",
            "showbackground": true,
            "ticks": "",
            "zerolinecolor": "white"
           }
          },
          "shapedefaults": {
           "line": {
            "color": "#2a3f5f"
           }
          },
          "ternary": {
           "aaxis": {
            "gridcolor": "white",
            "linecolor": "white",
            "ticks": ""
           },
           "baxis": {
            "gridcolor": "white",
            "linecolor": "white",
            "ticks": ""
           },
           "bgcolor": "#E5ECF6",
           "caxis": {
            "gridcolor": "white",
            "linecolor": "white",
            "ticks": ""
           }
          },
          "title": {
           "x": 0.05
          },
          "xaxis": {
           "automargin": true,
           "gridcolor": "white",
           "linecolor": "white",
           "ticks": "",
           "title": {
            "standoff": 15
           },
           "zerolinecolor": "white",
           "zerolinewidth": 2
          },
          "yaxis": {
           "automargin": true,
           "gridcolor": "white",
           "linecolor": "white",
           "ticks": "",
           "title": {
            "standoff": 15
           },
           "zerolinecolor": "white",
           "zerolinewidth": 2
          }
         }
        },
        "title": {
         "text": "Usuarios activos por periodo de tiempo."
        },
        "xaxis": {
         "anchor": "y",
         "categoryarray": [
          "Diarios",
          "Semanales",
          "Mensuales"
         ],
         "categoryorder": "array",
         "domain": [
          0,
          1
         ],
         "title": {
          "text": "Metrica"
         }
        },
        "yaxis": {
         "anchor": "x",
         "domain": [
          0,
          1
         ],
         "title": {
          "text": "Usuarios"
         }
        }
       }
      }
     },
     "metadata": {},
     "output_type": "display_data"
    }
   ],
   "source": [
    "# Obtenemos las métricas correspondientes, para ello agrupamos por fecha de interés.\n",
    "# Usamos la función 'nunique' para obtener el número único de usuarios por periodo, y sacamos el promedio\n",
    "\n",
    "#Usuarios activos diarios\n",
    "dau_total = visits.groupby('session_date').agg({'uid':'nunique'}).mean()\n",
    "\n",
    "#Usuarios activos semanales\n",
    "wau_total = visits.groupby(['session_year','session_week']).agg({'uid':'nunique'}).mean()\n",
    "\n",
    "#Usuarios activos mensuales\n",
    "mau_total = visits.groupby(['session_year','session_month']).agg({'uid':'nunique'}).mean()\n",
    "\n",
    "#Creamos un dataframe para agrupar esta información y desplegarla en un gráfico\n",
    "d = {'Metrica':['Diarios','Semanales','Mensuales'],'Valor':[int(dau_total),int(wau_total),int(mau_total)]}\n",
    "user_metrics = pd.DataFrame(data=d)\n",
    "\n",
    "#Creación del gráfico\n",
    "fig_1 = px.bar(user_metrics,\n",
    "               x='Metrica',y='Valor', text='Valor', \n",
    "               color = 'Metrica',\n",
    "               title='Usuarios activos por periodo de tiempo.',\n",
    "              labels={'Metrica': 'Metrica', 'Valor':'Usuarios'})\n",
    "fig_1.show()"
   ]
  },
  {
   "cell_type": "markdown",
   "metadata": {},
   "source": [
    "Así, notamos que tenemos las siguientes cantidades de usuarios:\n",
    "* **907** usuarios activos por día.\n",
    "* **5,716** usuarios activos por semana.\n",
    "* **23,228** usuarios activos por mes.\n",
    "\n",
    "\n",
    "También es de importancia conocer la frecuencia con la que los usuarios y usuarias regresan al servicio, lo que podemos conocer si obtenemos el 'Sticky factor':"
   ]
  },
  {
   "cell_type": "code",
   "execution_count": 19,
   "metadata": {},
   "outputs": [
    {
     "name": "stdout",
     "output_type": "stream",
     "text": [
      "Sticky factor semanal: 15 usuarios a la semana.\n",
      "Sticky factor mensual: 3 usuarios al mes\n"
     ]
    },
    {
     "name": "stderr",
     "output_type": "stream",
     "text": [
      "C:\\Users\\oscar\\AppData\\Local\\Temp\\ipykernel_21212\\1877386772.py:6: FutureWarning:\n",
      "\n",
      "Calling int on a single element Series is deprecated and will raise a TypeError in the future. Use int(ser.iloc[0]) instead\n",
      "\n",
      "C:\\Users\\oscar\\AppData\\Local\\Temp\\ipykernel_21212\\1877386772.py:7: FutureWarning:\n",
      "\n",
      "Calling int on a single element Series is deprecated and will raise a TypeError in the future. Use int(ser.iloc[0]) instead\n",
      "\n"
     ]
    }
   ],
   "source": [
    "#Calculamos el sticky factor semanal y mensual\n",
    "sticky_factor_weekly = dau_total / wau_total * 100\n",
    "sticky_factor_monthly = dau_total / mau_total * 100\n",
    "\n",
    "#Mostramos\n",
    "print('Sticky factor semanal: {} usuarios a la semana.'.format(int(sticky_factor_weekly)))\n",
    "print('Sticky factor mensual: {} usuarios al mes'.format(int(sticky_factor_monthly)))"
   ]
  },
  {
   "cell_type": "markdown",
   "metadata": {},
   "source": [
    "#### Sesiones de los usuarios\n",
    "\n",
    "También es de nuestro interés conocer la duración promedio de las sesiones de los usuarios, ya que eso nos dará una pista si los usuarios están aprovechando el servicio de la manera correcta.\n"
   ]
  },
  {
   "cell_type": "code",
   "execution_count": 20,
   "metadata": {},
   "outputs": [
    {
     "name": "stdout",
     "output_type": "stream",
     "text": [
      "Sesiones totales promedio por día:  987.36\n",
      "Sesiones promedio por usuario por día:  1.082\n",
      "Duración promedio de una sesión: 643.51 segundos\n"
     ]
    },
    {
     "data": {
      "text/plain": [
       "count    359400.000000\n",
       "mean        643.506489\n",
       "std        1016.334786\n",
       "min           0.000000\n",
       "25%         120.000000\n",
       "50%         300.000000\n",
       "75%         840.000000\n",
       "max       84480.000000\n",
       "Name: session_duration, dtype: float64"
      ]
     },
     "execution_count": 20,
     "metadata": {},
     "output_type": "execute_result"
    }
   ],
   "source": [
    "#Agrupamos por fecha ya que nos interesa el número de sesiones por día\n",
    "#Contamos el total de sesiones en un día con la función count\n",
    "#Contamos el número de usuarios únicos en el mismo día con nunique.\n",
    "sessions = visits.groupby('session_date').agg({'uid':['count','nunique']})\n",
    "\n",
    "#Renombramos las columnas\n",
    "sessions.columns = ['n_sessions','n_users']\n",
    "\n",
    "#Obtenemos el número de sesiones por usuario en cada día\n",
    "sessions['sessions_per_user'] = sessions['n_sessions'] / sessions['n_users']\n",
    "\n",
    "#Mostramos el número de sesiones totales promedio por día\n",
    "print('Sesiones totales promedio por día: ',round(sessions['n_sessions'].mean(),2))\n",
    "#Mostramos el número de sesiones promedio por usuario al día\n",
    "print('Sesiones promedio por usuario por día: ',round(sessions['sessions_per_user'].mean(),3))\n",
    "\n",
    "#Calculamos la duración de cada sesión en segundos\n",
    "visits['session_duration'] = (visits['end_ts'] - visits['start_ts']).dt.seconds\n",
    "#Mostramos la duración promedio de cada sesión.\n",
    "print('Duración promedio de una sesión: {} segundos'.format(round(visits['session_duration'].mean(),2)))\n",
    "visits['session_duration'].describe()"
   ]
  },
  {
   "cell_type": "code",
   "execution_count": 21,
   "metadata": {},
   "outputs": [
    {
     "data": {
      "image/png": "[encoded data removed]",
      "text/plain": [
       "<Figure size 640x480 with 1 Axes>"
      ]
     },
     "metadata": {},
     "output_type": "display_data"
    }
   ],
   "source": [
    "#Creación de un boxplot para mostrar más a detalle la duración de cada sesión.\n",
    "sns.boxplot(x=visits['session_duration'],showfliers = False,\n",
    "            showmeans=True,\n",
    "            meanprops={'marker':'o',\n",
    "                       'markerfacecolor':'white', \n",
    "                       'markeredgecolor':'black',\n",
    "                       'markersize':'10'}).set(\n",
    "    xlabel='Duración de la sesión [segundos]',\n",
    "    title='Distribución de la duración de las sesiones de usuario.'\n",
    ")\n",
    "plt.show()"
   ]
  },
  {
   "cell_type": "markdown",
   "metadata": {},
   "source": [
    "De esta forma sabemos que en un día, tomando en cuenta a todos los usuarios, se tiene un promedio de **987.36 sesiones realizadas**, lo cual concuerda con la métrica DAU obtenida anterioremente, que nos dice que tenemos 907 usuarios activos por día, siendo que cada usuario realiza **1.082 sesiones** promedio al día, es decir, que son contados los usuarios que realizan más de una sesión diaria.\n",
    "\n",
    "Así mismo, la duración promedio de cada sesión es de 643.51 segundos, lo que es poco más de **10 minutos** por sesión. \n",
    "Como observamos en el diagrama de caja, notamos que el tercer cuartil se encuentra alrededor de 850 segundos, es decir, que el 75% de nuestros usuarios realizan sesiones de menos de 15 minutos. La mitad de los usuarios tiene sesiones por debajo de los 300 segundos, es decir, 5 minutos. Esto nos indica que nuestros usuarios realizan sesiones rápidas y no pasan horas en nuestro producto. \n",
    "\n",
    "\n",
    "#### Tasa de retención de los usuarios\n",
    "\n",
    "Nos interesa conocer el porcentaje de usuarios que regresa mes con mes. Para ello será necesario realizar la creación de cohortes mensuales para así hacer el seguimiento mensual de los usuarios que regresan a nuestro servicio."
   ]
  },
  {
   "cell_type": "code",
   "execution_count": 22,
   "metadata": {},
   "outputs": [],
   "source": [
    "#Obtenemos la fecha de registro:\n",
    "first_session_date = visits.groupby(['uid'])['start_ts'].min()\n",
    "first_session_date.name = 'first_session_date' #Modificamos el nombre del series obtenido\n",
    "#Agregamos al dataframe 'Visits':\n",
    "visits = visits.join(first_session_date,on='uid')\n",
    "#display(visits) #Linea para comprobar resultados"
   ]
  },
  {
   "cell_type": "code",
   "execution_count": 24,
   "metadata": {},
   "outputs": [],
   "source": [
    "#Para crear los cohortes, debemos extraer el mes y el año de la columna 'first_session_date'\n",
    "visits['first_session_month'] = pd.to_datetime(visits['first_session_date'],unit='d') - pd.to_timedelta(visits['first_session_date'].dt.day,unit='d')\n",
    "visits['first_session_month'] = (visits['first_session_month'] + np.timedelta64(1,'D')).dt.date\n",
    "\n",
    "#También debemos extraer el mes y el año de cada session (columna 'start_ts')\n",
    "visits['session_y_m'] = pd.to_datetime(visits['start_ts'],unit='d') - pd.to_timedelta(visits['start_ts'].dt.day,unit='d')\n",
    "visits['session_y_m'] = (visits['session_y_m'] + np.timedelta64(1,'D')).dt.date\n",
    "\n",
    "#Agrupamos por el cohort(mes de primer sesion) y por el mes de cada sesion\n",
    "#Contamos el número de usuarios únicos al mes.\n",
    "visits_gb_cohorts = visits.groupby(['first_session_month','session_y_m']).agg({'uid':'nunique'}).reset_index()\n",
    "\n",
    "#Obtenemos el ciclo de vida:\n",
    "visits_gb_cohorts['cohort_lifetime'] = visits_gb_cohorts['session_y_m'] - visits_gb_cohorts['first_session_month']\n",
    "visits_gb_cohorts['cohort_lifetime'] = round(visits_gb_cohorts['cohort_lifetime'] / np.timedelta64(30, 'D')).astype(int)\n",
    "#display(visits_gb_cohorts) #Linea para comprobar cambios"
   ]
  },
  {
   "cell_type": "code",
   "execution_count": 25,
   "metadata": {},
   "outputs": [
    {
     "data": {
      "text/html": [
       "<div>\n",
       "<style scoped>\n",
       "    .dataframe tbody tr th:only-of-type {\n",
       "        vertical-align: middle;\n",
       "    }\n",
       "\n",
       "    .dataframe tbody tr th {\n",
       "        vertical-align: top;\n",
       "    }\n",
       "\n",
       "    .dataframe thead th {\n",
       "        text-align: right;\n",
       "    }\n",
       "</style>\n",
       "<table border=\"1\" class=\"dataframe\">\n",
       "  <thead>\n",
       "    <tr style=\"text-align: right;\">\n",
       "      <th></th>\n",
       "      <th>first_session_month</th>\n",
       "      <th>session_y_m</th>\n",
       "      <th>uid</th>\n",
       "      <th>cohort_lifetime</th>\n",
       "      <th>cohort_users</th>\n",
       "      <th>retention_rate</th>\n",
       "    </tr>\n",
       "  </thead>\n",
       "  <tbody>\n",
       "    <tr>\n",
       "      <th>0</th>\n",
       "      <td>2017-06-01</td>\n",
       "      <td>2017-06-01</td>\n",
       "      <td>13259</td>\n",
       "      <td>0</td>\n",
       "      <td>13259</td>\n",
       "      <td>1.000000</td>\n",
       "    </tr>\n",
       "    <tr>\n",
       "      <th>1</th>\n",
       "      <td>2017-06-01</td>\n",
       "      <td>2017-07-01</td>\n",
       "      <td>1043</td>\n",
       "      <td>1</td>\n",
       "      <td>13259</td>\n",
       "      <td>0.078664</td>\n",
       "    </tr>\n",
       "    <tr>\n",
       "      <th>2</th>\n",
       "      <td>2017-06-01</td>\n",
       "      <td>2017-08-01</td>\n",
       "      <td>713</td>\n",
       "      <td>2</td>\n",
       "      <td>13259</td>\n",
       "      <td>0.053775</td>\n",
       "    </tr>\n",
       "    <tr>\n",
       "      <th>3</th>\n",
       "      <td>2017-06-01</td>\n",
       "      <td>2017-09-01</td>\n",
       "      <td>814</td>\n",
       "      <td>3</td>\n",
       "      <td>13259</td>\n",
       "      <td>0.061392</td>\n",
       "    </tr>\n",
       "    <tr>\n",
       "      <th>4</th>\n",
       "      <td>2017-06-01</td>\n",
       "      <td>2017-10-01</td>\n",
       "      <td>909</td>\n",
       "      <td>4</td>\n",
       "      <td>13259</td>\n",
       "      <td>0.068557</td>\n",
       "    </tr>\n",
       "    <tr>\n",
       "      <th>...</th>\n",
       "      <td>...</td>\n",
       "      <td>...</td>\n",
       "      <td>...</td>\n",
       "      <td>...</td>\n",
       "      <td>...</td>\n",
       "      <td>...</td>\n",
       "    </tr>\n",
       "    <tr>\n",
       "      <th>73</th>\n",
       "      <td>2018-03-01</td>\n",
       "      <td>2018-04-01</td>\n",
       "      <td>861</td>\n",
       "      <td>1</td>\n",
       "      <td>20589</td>\n",
       "      <td>0.041818</td>\n",
       "    </tr>\n",
       "    <tr>\n",
       "      <th>74</th>\n",
       "      <td>2018-03-01</td>\n",
       "      <td>2018-05-01</td>\n",
       "      <td>557</td>\n",
       "      <td>2</td>\n",
       "      <td>20589</td>\n",
       "      <td>0.027053</td>\n",
       "    </tr>\n",
       "    <tr>\n",
       "      <th>75</th>\n",
       "      <td>2018-04-01</td>\n",
       "      <td>2018-04-01</td>\n",
       "      <td>15709</td>\n",
       "      <td>0</td>\n",
       "      <td>15709</td>\n",
       "      <td>1.000000</td>\n",
       "    </tr>\n",
       "    <tr>\n",
       "      <th>76</th>\n",
       "      <td>2018-04-01</td>\n",
       "      <td>2018-05-01</td>\n",
       "      <td>760</td>\n",
       "      <td>1</td>\n",
       "      <td>15709</td>\n",
       "      <td>0.048380</td>\n",
       "    </tr>\n",
       "    <tr>\n",
       "      <th>77</th>\n",
       "      <td>2018-05-01</td>\n",
       "      <td>2018-05-01</td>\n",
       "      <td>15273</td>\n",
       "      <td>0</td>\n",
       "      <td>15273</td>\n",
       "      <td>1.000000</td>\n",
       "    </tr>\n",
       "  </tbody>\n",
       "</table>\n",
       "<p>78 rows × 6 columns</p>\n",
       "</div>"
      ],
      "text/plain": [
       "   first_session_month session_y_m    uid  cohort_lifetime  cohort_users  \\\n",
       "0           2017-06-01  2017-06-01  13259                0         13259   \n",
       "1           2017-06-01  2017-07-01   1043                1         13259   \n",
       "2           2017-06-01  2017-08-01    713                2         13259   \n",
       "3           2017-06-01  2017-09-01    814                3         13259   \n",
       "4           2017-06-01  2017-10-01    909                4         13259   \n",
       "..                 ...         ...    ...              ...           ...   \n",
       "73          2018-03-01  2018-04-01    861                1         20589   \n",
       "74          2018-03-01  2018-05-01    557                2         20589   \n",
       "75          2018-04-01  2018-04-01  15709                0         15709   \n",
       "76          2018-04-01  2018-05-01    760                1         15709   \n",
       "77          2018-05-01  2018-05-01  15273                0         15273   \n",
       "\n",
       "    retention_rate  \n",
       "0         1.000000  \n",
       "1         0.078664  \n",
       "2         0.053775  \n",
       "3         0.061392  \n",
       "4         0.068557  \n",
       "..             ...  \n",
       "73        0.041818  \n",
       "74        0.027053  \n",
       "75        1.000000  \n",
       "76        0.048380  \n",
       "77        1.000000  \n",
       "\n",
       "[78 rows x 6 columns]"
      ]
     },
     "metadata": {},
     "output_type": "display_data"
    }
   ],
   "source": [
    "#Obtenemos el tamaño del cohorte en su mes 0\n",
    "initial_users_visits = visits_gb_cohorts[visits_gb_cohorts['cohort_lifetime']==0][['first_session_month','uid']]\n",
    "initial_users_visits = initial_users_visits.rename(columns={'uid':'cohort_users'}) \n",
    "#display(initial_users_visits)\n",
    "#Agregamos esta información a la tabla donde tenemos la información de los cohortes\n",
    "retention_report = visits_gb_cohorts.merge(initial_users_visits,on='first_session_month')\n",
    "#Obtenemos la tasa de retencion\n",
    "retention_report['retention_rate'] = retention_report['uid'] / retention_report['cohort_users']\n",
    "display(retention_report) #Mostramos los cambios"
   ]
  },
  {
   "cell_type": "code",
   "execution_count": 26,
   "metadata": {},
   "outputs": [
    {
     "data": {
      "image/png": "[encoded data removed]",
      "text/plain": [
       "<Figure size 1300x900 with 2 Axes>"
      ]
     },
     "metadata": {},
     "output_type": "display_data"
    }
   ],
   "source": [
    "#Creamos la tabla dinámica\n",
    "retention_pivot = retention_report.pivot_table( index='first_session_month',\n",
    "                                              columns='cohort_lifetime',\n",
    "                                               values='retention_rate'\n",
    "                                              )\n",
    "#Creamos un mapa de calor para mostrar la información.\n",
    "#Definimos tamaño de la figura\n",
    "plt.figure(figsize=(13, 9))\n",
    "plt.title('Tasa de retención mensual para cada cohorte') #titulo\n",
    "#Creamos un mapa de calor\n",
    "sns.heatmap(\n",
    "    retention_pivot,\n",
    "    cmap=\"coolwarm\",\n",
    "    annot=True,\n",
    "    fmt='.1%',\n",
    "    linewidths=1,\n",
    "    linecolor='gray',\n",
    ")\n",
    "#Renombramos los ejes\n",
    "plt.xlabel(\"Tiempo de vida[mes]\")\n",
    "plt.ylabel(\"Cohort\")\n",
    "plt.show() #mostramos"
   ]
  },
  {
   "cell_type": "markdown",
   "metadata": {},
   "source": [
    "Como podemos observar, inicialmente todas presentan un 100% pero esto corresponde al mes 0, cuando tenemos nuestros usuarios totales. En el mes 1, el porcentaje cae abruptamente, y nos indica el número de usuarios que en realidad se quedaron en nuestro servicio, en este caso el mejor cohorte corresponde al de Septiembre de 2017 con una tasa del 8.5% mientras que el peor es el cohorte de Marzo,2018 con una tasa del 4.2%. Sin embargo, podemos señalar que el primer cohorte obtenido Junio,2017 ha mantenido un buen porcentaje de retención a lo largo del tiempo, el cual no ha bajado del 4%, esto es un buen indicador ya que los usuarios que les interesa nuestro servicio siguen presentes.\n",
    "\n",
    "Pero también es importante señalar que la tasa de retención en cohortes más recientes ha disminuido considerablemente, lo cual nos indica que se deben realizar estrategias para mantenerlos a lo largo del tiempo.\n",
    "\n",
    "\n",
    "### Ventas\n",
    "\n",
    "En esta sección nos interesa dar respuesta a las preguntas:\n",
    "- ¿Cuándo la gente empieza a comprar?\n",
    "- ¿Cuántos pedidos hacen durante un tiempo dado?\n",
    "- ¿Cuál es el tamaño promedio de compra?\n",
    "- ¿Cuánto dinero aporta cada cliente?\n",
    "\n",
    "Se dedicará una sección para responder cada una de estas preguntas.\n",
    "\n",
    "#### Tiempo de conversión a cliente:\n",
    "\n",
    "Nos interesa conocer el tiempo entre que el cliente se registra y se convierte a cliente, es decir, realiza su primer compra.\n",
    "Para ello debemos utilizar la fecha de su primer sesión en 'Visits' y obtener la fecha de su primer compra en 'Orders'."
   ]
  },
  {
   "cell_type": "code",
   "execution_count": 27,
   "metadata": {},
   "outputs": [],
   "source": [
    "#Para conocer el tiempo en el que empiezan a comprar\n",
    "# Necesitamos conocer la fecha de registro o de primer sesion en el DF 'Visits' y de la primer compra en el DF 'orders'\n",
    "\n",
    "#Ya obtuvimos la fecha de registro en la sección anterior\n",
    "\n",
    "#Obtenemos la fecha de la primer compra:\n",
    "first_order_date = orders.groupby(['uid'])['buy_ts'].min()\n",
    "first_order_date.name = 'first_order_date' #Modificamos el nombre del series obtenido\n",
    "#Agregamos al dataframe 'Orders'\n",
    "orders = orders.join(first_order_date,on='uid')\n",
    "#display(orders)"
   ]
  },
  {
   "cell_type": "code",
   "execution_count": 28,
   "metadata": {},
   "outputs": [
    {
     "data": {
      "text/plain": [
       "count                         36523\n",
       "mean     16 days 21:40:10.550064343\n",
       "std      47 days 01:44:46.481416776\n",
       "min                 0 days 00:00:00\n",
       "25%                 0 days 00:04:00\n",
       "50%                 0 days 00:16:00\n",
       "75%                 2 days 00:17:00\n",
       "max               363 days 07:04:00\n",
       "Name: total_time, dtype: object"
      ]
     },
     "metadata": {},
     "output_type": "display_data"
    }
   ],
   "source": [
    "#Creamos un dataframe donde almacenaremos ambos Series combinandolo por usuario('uid')\n",
    "time_to_first_order = pd.merge(first_session_date,first_order_date,on='uid')\n",
    "#Obtenemos el tiempo total entre la primer orden y la primer sesión del usuario\n",
    "time_to_first_order['total_time'] = time_to_first_order['first_order_date'] - time_to_first_order['first_session_date']\n",
    "\n",
    "#Mostramos la descripción estadística de los tiempos entre el registro y la primer compra:\n",
    "display(time_to_first_order['total_time'].describe())"
   ]
  },
  {
   "cell_type": "markdown",
   "metadata": {},
   "source": [
    "Notamos que se tienen los siguientes valores:\n",
    "- **Tiempo mínimo** entre el registro y la primer compra: 0 segundos; lo que significa que el registro se dió junto a su primer orden. Hay plataformas que nos permiten agregar elementos al carrito sin tener una cuenta y el registro se realiza un paso antes de hacer el pago, este puede ser el caso.\n",
    "- **Tiempo máximo** entre el registro y la primer compra: 363 días con 7 horas, es decir, que tenemos la presencia de usuarios que realizaron su registro y no hicieron alguna compra hasta varios meses después, siendo este el caso más extenso. \n",
    "\n",
    "Este último punto es bastante importante, ya que tenemos una **mediana** de 16 minutos, mostrando que la mitad de nuestros usuarios tardaron en comprar *hasta* 16 minutos después de su registro, y con el **tercer cuartil**, sabemos que una cuarta parte de los usuarios tardaron entre 16 minutos hasta un máximo de 2 días con 17 minutos. Esto nos indica que *no podemos confiar* en la **media** de 16 días con casi 22 horas, ya que esta se ve sesgada por los usuarios que tardaron bastante tiempo en realizar su primer compra."
   ]
  },
  {
   "cell_type": "code",
   "execution_count": 29,
   "metadata": {},
   "outputs": [
    {
     "name": "stdout",
     "output_type": "stream",
     "text": [
      "Moda: 0 days 00:01:00\n",
      "Porcentaje de usuarios que realizaron su primer comprar en la primer hora de registro 61.9 %\n"
     ]
    }
   ],
   "source": [
    "#Obtenemos y mostramos la moda\n",
    "print('Moda:',time_to_first_order['total_time'].mode()[0])\n",
    "#Mostramos el porcentaje de usuarios que realizan su primer compra en la primer hora después de registrarse\n",
    "first_hour_percentage = time_to_first_order[time_to_first_order['total_time']<='1 hour']['total_time'].count() / time_to_first_order.shape[0] *100\n",
    "print('Porcentaje de usuarios que realizaron su primer comprar en la primer hora de registro {} %'.format(round(first_hour_percentage,2)))"
   ]
  },
  {
   "cell_type": "markdown",
   "metadata": {},
   "source": [
    "Otra variable estadística que nos sirve conocer en estos casos es la **moda** la cual nos indica el valor que más se repite en nuestro conjunto de datos, en este caso, el tiempo entre el registro y la primer compra que más se repite es de 1 minuto.\n",
    "\n",
    "También mostramos el porcentaje de usuarios que realizaron su primer compra en la primer hora después de su registro: 61.9% esto es muy importante ya que nos indica que la mayor parte de clientes atraidos, realizan su registro con la intención de realizar una compra al momento. \n",
    "\n",
    "#### Análisis por cohorte\n",
    "\n",
    "Ahora analizaremos cómo es el comportamiento de los usuarios a través del tiempo, como tenemos datos sobre un año entero de operaciones, crearemos cohortes mensuales. De esta forma, obtendremos la siguiente información para cada mes, pero nos interesa solo la información de los clientes que han realizado pedidos, por lo que trabajaremos con el dataframe 'orders'.\n",
    "\n",
    "De primera mano, obtendremos los cohortes mensuales y calcularemos valores de interés: Ingreso total, pedidos totales y usuarios del cohorte."
   ]
  },
  {
   "cell_type": "code",
   "execution_count": 30,
   "metadata": {},
   "outputs": [
    {
     "data": {
      "text/html": [
       "<div>\n",
       "<style scoped>\n",
       "    .dataframe tbody tr th:only-of-type {\n",
       "        vertical-align: middle;\n",
       "    }\n",
       "\n",
       "    .dataframe tbody tr th {\n",
       "        vertical-align: top;\n",
       "    }\n",
       "\n",
       "    .dataframe thead th {\n",
       "        text-align: right;\n",
       "    }\n",
       "</style>\n",
       "<table border=\"1\" class=\"dataframe\">\n",
       "  <thead>\n",
       "    <tr style=\"text-align: right;\">\n",
       "      <th></th>\n",
       "      <th>buy_ts</th>\n",
       "      <th>revenue</th>\n",
       "      <th>uid</th>\n",
       "      <th>first_order_date</th>\n",
       "      <th>first_order_month</th>\n",
       "      <th>order_month</th>\n",
       "    </tr>\n",
       "  </thead>\n",
       "  <tbody>\n",
       "    <tr>\n",
       "      <th>0</th>\n",
       "      <td>2017-06-01 00:10:00</td>\n",
       "      <td>17.00</td>\n",
       "      <td>10329302124590727494</td>\n",
       "      <td>2017-06-01 00:10:00</td>\n",
       "      <td>2017-06-01</td>\n",
       "      <td>2017-06-01</td>\n",
       "    </tr>\n",
       "    <tr>\n",
       "      <th>1</th>\n",
       "      <td>2017-06-01 00:25:00</td>\n",
       "      <td>0.55</td>\n",
       "      <td>11627257723692907447</td>\n",
       "      <td>2017-06-01 00:25:00</td>\n",
       "      <td>2017-06-01</td>\n",
       "      <td>2017-06-01</td>\n",
       "    </tr>\n",
       "    <tr>\n",
       "      <th>2</th>\n",
       "      <td>2017-06-01 00:27:00</td>\n",
       "      <td>0.37</td>\n",
       "      <td>17903680561304213844</td>\n",
       "      <td>2017-06-01 00:27:00</td>\n",
       "      <td>2017-06-01</td>\n",
       "      <td>2017-06-01</td>\n",
       "    </tr>\n",
       "    <tr>\n",
       "      <th>3</th>\n",
       "      <td>2017-06-01 00:29:00</td>\n",
       "      <td>0.55</td>\n",
       "      <td>16109239769442553005</td>\n",
       "      <td>2017-06-01 00:29:00</td>\n",
       "      <td>2017-06-01</td>\n",
       "      <td>2017-06-01</td>\n",
       "    </tr>\n",
       "    <tr>\n",
       "      <th>4</th>\n",
       "      <td>2017-06-01 07:58:00</td>\n",
       "      <td>0.37</td>\n",
       "      <td>14200605875248379450</td>\n",
       "      <td>2017-06-01 07:58:00</td>\n",
       "      <td>2017-06-01</td>\n",
       "      <td>2017-06-01</td>\n",
       "    </tr>\n",
       "    <tr>\n",
       "      <th>...</th>\n",
       "      <td>...</td>\n",
       "      <td>...</td>\n",
       "      <td>...</td>\n",
       "      <td>...</td>\n",
       "      <td>...</td>\n",
       "      <td>...</td>\n",
       "    </tr>\n",
       "    <tr>\n",
       "      <th>50410</th>\n",
       "      <td>2018-05-31 23:50:00</td>\n",
       "      <td>4.64</td>\n",
       "      <td>12296626599487328624</td>\n",
       "      <td>2018-05-31 23:50:00</td>\n",
       "      <td>2018-05-01</td>\n",
       "      <td>2018-05-01</td>\n",
       "    </tr>\n",
       "    <tr>\n",
       "      <th>50411</th>\n",
       "      <td>2018-05-31 23:50:00</td>\n",
       "      <td>5.80</td>\n",
       "      <td>11369640365507475976</td>\n",
       "      <td>2018-05-31 23:50:00</td>\n",
       "      <td>2018-05-01</td>\n",
       "      <td>2018-05-01</td>\n",
       "    </tr>\n",
       "    <tr>\n",
       "      <th>50412</th>\n",
       "      <td>2018-05-31 23:54:00</td>\n",
       "      <td>0.30</td>\n",
       "      <td>1786462140797698849</td>\n",
       "      <td>2018-05-31 23:54:00</td>\n",
       "      <td>2018-05-01</td>\n",
       "      <td>2018-05-01</td>\n",
       "    </tr>\n",
       "    <tr>\n",
       "      <th>50413</th>\n",
       "      <td>2018-05-31 23:56:00</td>\n",
       "      <td>3.67</td>\n",
       "      <td>3993697860786194247</td>\n",
       "      <td>2018-05-31 23:56:00</td>\n",
       "      <td>2018-05-01</td>\n",
       "      <td>2018-05-01</td>\n",
       "    </tr>\n",
       "    <tr>\n",
       "      <th>50414</th>\n",
       "      <td>2018-06-01 00:02:00</td>\n",
       "      <td>3.42</td>\n",
       "      <td>83872787173869366</td>\n",
       "      <td>2018-06-01 00:02:00</td>\n",
       "      <td>2018-06-01</td>\n",
       "      <td>2018-06-01</td>\n",
       "    </tr>\n",
       "  </tbody>\n",
       "</table>\n",
       "<p>50415 rows × 6 columns</p>\n",
       "</div>"
      ],
      "text/plain": [
       "                   buy_ts  revenue                   uid    first_order_date  \\\n",
       "0     2017-06-01 00:10:00    17.00  10329302124590727494 2017-06-01 00:10:00   \n",
       "1     2017-06-01 00:25:00     0.55  11627257723692907447 2017-06-01 00:25:00   \n",
       "2     2017-06-01 00:27:00     0.37  17903680561304213844 2017-06-01 00:27:00   \n",
       "3     2017-06-01 00:29:00     0.55  16109239769442553005 2017-06-01 00:29:00   \n",
       "4     2017-06-01 07:58:00     0.37  14200605875248379450 2017-06-01 07:58:00   \n",
       "...                   ...      ...                   ...                 ...   \n",
       "50410 2018-05-31 23:50:00     4.64  12296626599487328624 2018-05-31 23:50:00   \n",
       "50411 2018-05-31 23:50:00     5.80  11369640365507475976 2018-05-31 23:50:00   \n",
       "50412 2018-05-31 23:54:00     0.30   1786462140797698849 2018-05-31 23:54:00   \n",
       "50413 2018-05-31 23:56:00     3.67   3993697860786194247 2018-05-31 23:56:00   \n",
       "50414 2018-06-01 00:02:00     3.42     83872787173869366 2018-06-01 00:02:00   \n",
       "\n",
       "      first_order_month order_month  \n",
       "0            2017-06-01  2017-06-01  \n",
       "1            2017-06-01  2017-06-01  \n",
       "2            2017-06-01  2017-06-01  \n",
       "3            2017-06-01  2017-06-01  \n",
       "4            2017-06-01  2017-06-01  \n",
       "...                 ...         ...  \n",
       "50410        2018-05-01  2018-05-01  \n",
       "50411        2018-05-01  2018-05-01  \n",
       "50412        2018-05-01  2018-05-01  \n",
       "50413        2018-05-01  2018-05-01  \n",
       "50414        2018-06-01  2018-06-01  \n",
       "\n",
       "[50415 rows x 6 columns]"
      ]
     },
     "metadata": {},
     "output_type": "display_data"
    },
    {
     "data": {
      "text/html": [
       "<div>\n",
       "<style scoped>\n",
       "    .dataframe tbody tr th:only-of-type {\n",
       "        vertical-align: middle;\n",
       "    }\n",
       "\n",
       "    .dataframe tbody tr th {\n",
       "        vertical-align: top;\n",
       "    }\n",
       "\n",
       "    .dataframe thead th {\n",
       "        text-align: right;\n",
       "    }\n",
       "</style>\n",
       "<table border=\"1\" class=\"dataframe\">\n",
       "  <thead>\n",
       "    <tr style=\"text-align: right;\">\n",
       "      <th></th>\n",
       "      <th>first_order_month</th>\n",
       "      <th>order_month</th>\n",
       "      <th>total_orders</th>\n",
       "      <th>total_revenue</th>\n",
       "      <th>n_users</th>\n",
       "    </tr>\n",
       "  </thead>\n",
       "  <tbody>\n",
       "    <tr>\n",
       "      <th>0</th>\n",
       "      <td>2017-06-01</td>\n",
       "      <td>2017-06-01</td>\n",
       "      <td>2354</td>\n",
       "      <td>9557.49</td>\n",
       "      <td>2023</td>\n",
       "    </tr>\n",
       "    <tr>\n",
       "      <th>1</th>\n",
       "      <td>2017-06-01</td>\n",
       "      <td>2017-07-01</td>\n",
       "      <td>177</td>\n",
       "      <td>981.82</td>\n",
       "      <td>61</td>\n",
       "    </tr>\n",
       "    <tr>\n",
       "      <th>2</th>\n",
       "      <td>2017-06-01</td>\n",
       "      <td>2017-08-01</td>\n",
       "      <td>174</td>\n",
       "      <td>885.34</td>\n",
       "      <td>50</td>\n",
       "    </tr>\n",
       "    <tr>\n",
       "      <th>3</th>\n",
       "      <td>2017-06-01</td>\n",
       "      <td>2017-09-01</td>\n",
       "      <td>226</td>\n",
       "      <td>1931.30</td>\n",
       "      <td>54</td>\n",
       "    </tr>\n",
       "    <tr>\n",
       "      <th>4</th>\n",
       "      <td>2017-06-01</td>\n",
       "      <td>2017-10-01</td>\n",
       "      <td>292</td>\n",
       "      <td>2068.58</td>\n",
       "      <td>88</td>\n",
       "    </tr>\n",
       "    <tr>\n",
       "      <th>...</th>\n",
       "      <td>...</td>\n",
       "      <td>...</td>\n",
       "      <td>...</td>\n",
       "      <td>...</td>\n",
       "      <td>...</td>\n",
       "    </tr>\n",
       "    <tr>\n",
       "      <th>74</th>\n",
       "      <td>2018-03-01</td>\n",
       "      <td>2018-05-01</td>\n",
       "      <td>176</td>\n",
       "      <td>1114.87</td>\n",
       "      <td>58</td>\n",
       "    </tr>\n",
       "    <tr>\n",
       "      <th>75</th>\n",
       "      <td>2018-04-01</td>\n",
       "      <td>2018-04-01</td>\n",
       "      <td>2495</td>\n",
       "      <td>10600.69</td>\n",
       "      <td>2276</td>\n",
       "    </tr>\n",
       "    <tr>\n",
       "      <th>76</th>\n",
       "      <td>2018-04-01</td>\n",
       "      <td>2018-05-01</td>\n",
       "      <td>195</td>\n",
       "      <td>1209.92</td>\n",
       "      <td>69</td>\n",
       "    </tr>\n",
       "    <tr>\n",
       "      <th>77</th>\n",
       "      <td>2018-05-01</td>\n",
       "      <td>2018-05-01</td>\n",
       "      <td>3249</td>\n",
       "      <td>13925.76</td>\n",
       "      <td>2988</td>\n",
       "    </tr>\n",
       "    <tr>\n",
       "      <th>78</th>\n",
       "      <td>2018-06-01</td>\n",
       "      <td>2018-06-01</td>\n",
       "      <td>1</td>\n",
       "      <td>3.42</td>\n",
       "      <td>1</td>\n",
       "    </tr>\n",
       "  </tbody>\n",
       "</table>\n",
       "<p>79 rows × 5 columns</p>\n",
       "</div>"
      ],
      "text/plain": [
       "   first_order_month order_month  total_orders  total_revenue  n_users\n",
       "0         2017-06-01  2017-06-01          2354        9557.49     2023\n",
       "1         2017-06-01  2017-07-01           177         981.82       61\n",
       "2         2017-06-01  2017-08-01           174         885.34       50\n",
       "3         2017-06-01  2017-09-01           226        1931.30       54\n",
       "4         2017-06-01  2017-10-01           292        2068.58       88\n",
       "..               ...         ...           ...            ...      ...\n",
       "74        2018-03-01  2018-05-01           176        1114.87       58\n",
       "75        2018-04-01  2018-04-01          2495       10600.69     2276\n",
       "76        2018-04-01  2018-05-01           195        1209.92       69\n",
       "77        2018-05-01  2018-05-01          3249       13925.76     2988\n",
       "78        2018-06-01  2018-06-01             1           3.42        1\n",
       "\n",
       "[79 rows x 5 columns]"
      ]
     },
     "metadata": {},
     "output_type": "display_data"
    }
   ],
   "source": [
    "#Para crear los cohortes, debemos extraer el mes y el año de la columna 'first_order_date'\n",
    "orders['first_order_month'] = pd.to_datetime(orders['first_order_date'],unit='d') - pd.to_timedelta(orders['first_order_date'].dt.day,unit='d')\n",
    "orders['first_order_month'] = (orders['first_order_month'] + np.timedelta64(1,'D')).dt.date\n",
    "\n",
    "#También debemos extraer el mes y el año de cada compra (columna 'buy_ts')\n",
    "orders['order_month'] = pd.to_datetime(orders['buy_ts'],unit='d') - pd.to_timedelta(orders['buy_ts'].dt.day,unit='d')\n",
    "orders['order_month'] = (orders['order_month'] + np.timedelta64(1,'D')).dt.date\n",
    "display(orders)\n",
    "#Agrupamos por el cohort(mes de primer order) y por el mes de cada orden\n",
    "#Contamos el número de ordenes al mes, el ingreso total al mes y el numero de usuarios únicos al mes.\n",
    "orders_gb_cohorts = orders.groupby(['first_order_month','order_month']).agg({\n",
    "    'buy_ts':'count','revenue':'sum','uid':'nunique'})\n",
    "\n",
    "#Cambiamos el nombre de las columnas\n",
    "orders_gb_cohorts.columns = ['total_orders','total_revenue','n_users']\n",
    "\n",
    "#Reseteamos el index\n",
    "orders_gb_cohorts = orders_gb_cohorts.reset_index()\n",
    "#Linea para mostrar resultado\n",
    "display(orders_gb_cohorts)"
   ]
  },
  {
   "cell_type": "code",
   "execution_count": 33,
   "metadata": {},
   "outputs": [
    {
     "data": {
      "text/html": [
       "<div>\n",
       "<style scoped>\n",
       "    .dataframe tbody tr th:only-of-type {\n",
       "        vertical-align: middle;\n",
       "    }\n",
       "\n",
       "    .dataframe tbody tr th {\n",
       "        vertical-align: top;\n",
       "    }\n",
       "\n",
       "    .dataframe thead th {\n",
       "        text-align: right;\n",
       "    }\n",
       "</style>\n",
       "<table border=\"1\" class=\"dataframe\">\n",
       "  <thead>\n",
       "    <tr style=\"text-align: right;\">\n",
       "      <th></th>\n",
       "      <th>first_order_month</th>\n",
       "      <th>order_month</th>\n",
       "      <th>total_orders</th>\n",
       "      <th>total_revenue</th>\n",
       "      <th>n_users</th>\n",
       "      <th>cohort_lifetime</th>\n",
       "    </tr>\n",
       "  </thead>\n",
       "  <tbody>\n",
       "    <tr>\n",
       "      <th>0</th>\n",
       "      <td>2017-06-01</td>\n",
       "      <td>2017-06-01</td>\n",
       "      <td>2354</td>\n",
       "      <td>9557.49</td>\n",
       "      <td>2023</td>\n",
       "      <td>0</td>\n",
       "    </tr>\n",
       "    <tr>\n",
       "      <th>1</th>\n",
       "      <td>2017-06-01</td>\n",
       "      <td>2017-07-01</td>\n",
       "      <td>177</td>\n",
       "      <td>981.82</td>\n",
       "      <td>61</td>\n",
       "      <td>1</td>\n",
       "    </tr>\n",
       "    <tr>\n",
       "      <th>2</th>\n",
       "      <td>2017-06-01</td>\n",
       "      <td>2017-08-01</td>\n",
       "      <td>174</td>\n",
       "      <td>885.34</td>\n",
       "      <td>50</td>\n",
       "      <td>2</td>\n",
       "    </tr>\n",
       "    <tr>\n",
       "      <th>3</th>\n",
       "      <td>2017-06-01</td>\n",
       "      <td>2017-09-01</td>\n",
       "      <td>226</td>\n",
       "      <td>1931.30</td>\n",
       "      <td>54</td>\n",
       "      <td>3</td>\n",
       "    </tr>\n",
       "    <tr>\n",
       "      <th>4</th>\n",
       "      <td>2017-06-01</td>\n",
       "      <td>2017-10-01</td>\n",
       "      <td>292</td>\n",
       "      <td>2068.58</td>\n",
       "      <td>88</td>\n",
       "      <td>4</td>\n",
       "    </tr>\n",
       "    <tr>\n",
       "      <th>...</th>\n",
       "      <td>...</td>\n",
       "      <td>...</td>\n",
       "      <td>...</td>\n",
       "      <td>...</td>\n",
       "      <td>...</td>\n",
       "      <td>...</td>\n",
       "    </tr>\n",
       "    <tr>\n",
       "      <th>74</th>\n",
       "      <td>2018-03-01</td>\n",
       "      <td>2018-05-01</td>\n",
       "      <td>176</td>\n",
       "      <td>1114.87</td>\n",
       "      <td>58</td>\n",
       "      <td>2</td>\n",
       "    </tr>\n",
       "    <tr>\n",
       "      <th>75</th>\n",
       "      <td>2018-04-01</td>\n",
       "      <td>2018-04-01</td>\n",
       "      <td>2495</td>\n",
       "      <td>10600.69</td>\n",
       "      <td>2276</td>\n",
       "      <td>0</td>\n",
       "    </tr>\n",
       "    <tr>\n",
       "      <th>76</th>\n",
       "      <td>2018-04-01</td>\n",
       "      <td>2018-05-01</td>\n",
       "      <td>195</td>\n",
       "      <td>1209.92</td>\n",
       "      <td>69</td>\n",
       "      <td>1</td>\n",
       "    </tr>\n",
       "    <tr>\n",
       "      <th>77</th>\n",
       "      <td>2018-05-01</td>\n",
       "      <td>2018-05-01</td>\n",
       "      <td>3249</td>\n",
       "      <td>13925.76</td>\n",
       "      <td>2988</td>\n",
       "      <td>0</td>\n",
       "    </tr>\n",
       "    <tr>\n",
       "      <th>78</th>\n",
       "      <td>2018-06-01</td>\n",
       "      <td>2018-06-01</td>\n",
       "      <td>1</td>\n",
       "      <td>3.42</td>\n",
       "      <td>1</td>\n",
       "      <td>0</td>\n",
       "    </tr>\n",
       "  </tbody>\n",
       "</table>\n",
       "<p>79 rows × 6 columns</p>\n",
       "</div>"
      ],
      "text/plain": [
       "   first_order_month order_month  total_orders  total_revenue  n_users  \\\n",
       "0         2017-06-01  2017-06-01          2354        9557.49     2023   \n",
       "1         2017-06-01  2017-07-01           177         981.82       61   \n",
       "2         2017-06-01  2017-08-01           174         885.34       50   \n",
       "3         2017-06-01  2017-09-01           226        1931.30       54   \n",
       "4         2017-06-01  2017-10-01           292        2068.58       88   \n",
       "..               ...         ...           ...            ...      ...   \n",
       "74        2018-03-01  2018-05-01           176        1114.87       58   \n",
       "75        2018-04-01  2018-04-01          2495       10600.69     2276   \n",
       "76        2018-04-01  2018-05-01           195        1209.92       69   \n",
       "77        2018-05-01  2018-05-01          3249       13925.76     2988   \n",
       "78        2018-06-01  2018-06-01             1           3.42        1   \n",
       "\n",
       "    cohort_lifetime  \n",
       "0                 0  \n",
       "1                 1  \n",
       "2                 2  \n",
       "3                 3  \n",
       "4                 4  \n",
       "..              ...  \n",
       "74                2  \n",
       "75                0  \n",
       "76                1  \n",
       "77                0  \n",
       "78                0  \n",
       "\n",
       "[79 rows x 6 columns]"
      ]
     },
     "metadata": {},
     "output_type": "display_data"
    }
   ],
   "source": [
    "#Obtenemos el ciclo de vida:\n",
    "orders_gb_cohorts['cohort_lifetime'] = orders_gb_cohorts['order_month'] - orders_gb_cohorts['first_order_month']\n",
    "orders_gb_cohorts['cohort_lifetime'] = round(orders_gb_cohorts['cohort_lifetime'] / np.timedelta64(30, 'D')).astype(int)\n",
    "\n",
    "#Linea para mostrar resultado\n",
    "display(orders_gb_cohorts)"
   ]
  },
  {
   "cell_type": "markdown",
   "metadata": {},
   "source": [
    "##### Ordenes promedio por cliente\n",
    "\n",
    "En esta sección responderemos a la pregunta '¿Cuántos pedidos hacen durante un tiempo dado?', de manera que nos interesa conocer el número promedio de órdenes por usuario al mes."
   ]
  },
  {
   "cell_type": "code",
   "execution_count": 34,
   "metadata": {},
   "outputs": [],
   "source": [
    "#Obtenemos el número de órdenes promedio\n",
    "orders_gb_cohorts['orders_per_user'] = orders_gb_cohorts['total_orders'] / orders_gb_cohorts['n_users']\n",
    "\n",
    "#Creamos la tabla dinamica para mostrar los cambios en las ordenes por usuario:\n",
    "orders_per_user_pivot = orders_gb_cohorts.pivot_table(\n",
    "                                index = 'first_order_month',\n",
    "                                columns = 'cohort_lifetime',\n",
    "                                values = 'orders_per_user'\n",
    ")\n",
    "#Línea para mostrar el resultado:\n",
    "#display(orders_per_user_pivot)"
   ]
  },
  {
   "cell_type": "code",
   "execution_count": 35,
   "metadata": {},
   "outputs": [
    {
     "data": {
      "image/png": "[encoded data removed]",
      "text/plain": [
       "<Figure size 1300x900 with 2 Axes>"
      ]
     },
     "metadata": {},
     "output_type": "display_data"
    }
   ],
   "source": [
    "#Creamos un mapa de calor para mostrar la información.\n",
    "#Definimos tamaño de la figura\n",
    "plt.figure(figsize=(13, 9))\n",
    "plt.title('Ordenes promedio por cliente al mes') #titulo\n",
    "#Creamos un mapa de calor\n",
    "sns.heatmap(\n",
    "    orders_per_user_pivot,\n",
    "    cmap=\"Blues\",\n",
    "    annot=True,\n",
    "    fmt='.1f',\n",
    "    linewidths=1,\n",
    "    linecolor='gray',\n",
    ")\n",
    "#Renombramos los ejes\n",
    "plt.xlabel(\"Tiempo de vida[mes]\")\n",
    "plt.ylabel(\"Cohort\")\n",
    "plt.show() #mostramos"
   ]
  },
  {
   "cell_type": "markdown",
   "metadata": {},
   "source": [
    "Observamos que el primer cohorte (Junio,2017) tiene los mejores números de órdenes promedio mensuales, donde los meses 3 y 6 de su ciclo de vida presentan picos de hasta 4.5 órdenes por cliente. \n",
    "\n",
    "Los cohortes de clientes creados desde el mes de Octubre,2017 a Febrero,2018 son los que presentan los \"peores\" números ya que su pico máximo son 2 órdenes promedio por cliente, lo que nos indica que algo afectó las ventas para los nuevos clientes en estos meses. Esto porque los cohorts más nuevos (Marzo y Abril,2018) presentan números más cercanos al primer cohorte(Junio,2017), con lo que podríamos suponer que tendrán mejores ventas a lo largo del tiempo.\n",
    "\n",
    "##### Precio promedio por compra\n",
    "\n",
    "En esta sección responderemos las pregunta '¿Cuál es el tamaño promedio de compra?', lo que significa que nos interesa conocer el precio promedio de cada compra al mes. "
   ]
  },
  {
   "cell_type": "code",
   "execution_count": 36,
   "metadata": {},
   "outputs": [],
   "source": [
    "#Obtenemos el número de órdenes promedio\n",
    "orders_gb_cohorts['revenue_per_order'] = orders_gb_cohorts['total_revenue'] / orders_gb_cohorts['total_orders']\n",
    "\n",
    "#Creamos la tabla dinamica para mostrar los cambios en las ordenes por usuario:\n",
    "revenue_per_order_pivot = orders_gb_cohorts.pivot_table(\n",
    "                                index = 'first_order_month',\n",
    "                                columns = 'cohort_lifetime',\n",
    "                                values = 'revenue_per_order'\n",
    ")\n",
    "#Línea para mostrar el resultado:\n",
    "#display(revenue_per_user_pivot)"
   ]
  },
  {
   "cell_type": "code",
   "execution_count": 37,
   "metadata": {},
   "outputs": [
    {
     "data": {
      "image/png": "[encoded data removed]",
      "text/plain": [
       "<Figure size 1300x900 with 2 Axes>"
      ]
     },
     "metadata": {},
     "output_type": "display_data"
    }
   ],
   "source": [
    "#Definimos tamaño de la figura\n",
    "plt.figure(figsize=(13, 9))\n",
    "plt.title('Precio promedio por compra al mes') #titulo\n",
    "#Creamos un mapa de calor\n",
    "sns.heatmap(\n",
    "    revenue_per_order_pivot,\n",
    "    cmap=\"crest\",\n",
    "    annot=True,\n",
    "    fmt='.1f',\n",
    "    linewidths=1,\n",
    "    linecolor='gray',\n",
    ")\n",
    "#Renombramos los ejes\n",
    "plt.xlabel(\"Tiempo de vida[mes]\")\n",
    "plt.ylabel(\"Cohort\")\n",
    "plt.show() #mostramos"
   ]
  },
  {
   "cell_type": "markdown",
   "metadata": {},
   "source": [
    "Este gráfico es muy interesante, ya que al complementarse con el número de pedidos promedio al mes, notamos que a pesar que el cohort de Septiembre,2017 tiene un promedio de 2 órdenes promedio en el tercer mes de su ciclo de vida, el precio promedio de estas 2 compras es de 62.6 dolares. Justo este mes corresponde a diciembre de ese mismo año, lo que nos indica que hubo un producto de costo elevado que atrajo la atención de este grupo de personas, y probablemente la compra se vio influenciada por las fechas decembrinas. \n",
    "\n",
    "En la sección anterior, señalamos con interés los cohortes: Junio,2017, Marzo y Abril, 2018, los cuales presentan los mejores números en órdenes promedio mensuales, y también notamos que coinciden en el precio promedio de las órdenes, las cuales tienen un rango de 4 a 12 dólares. De esta forma, podemos decir que estos grupos de personas realizan múltiples compras de precios moderados. \n",
    "\n",
    "De igual forma, señalamos los cohortes creados de Octubre,2017 a Febrero, 2018, los cuales no presentaban más de 2 órdenes promedio al mes y en esta sección no es la excepción, los precios promedio de cada compra realizada también son relativamente bajos, yendo desde los 3.5 dolares hasta los 6.5 dolares con casos muy puntuales que llegan a los 7 dólares.\n",
    "\n",
    "Solo es importante señalar, que de este último grupo el cohorte de Diciembre,2017 es la excepción, ya que a partir de su segundo mes de ciclo de vida aumentaron el precio de las órdenes promedio hasta 20 dólares, siguen presentando pocas órdenes por cliente, pero cada órden tiene bastante más valor.\n",
    "\n",
    "\n",
    "##### Valor del costo de vida (LTV)\n",
    "\n",
    "En esta sección, respondemos a la pregunta '¿Cuánto dinero aporta cada cliente?', por lo que se desea obtener el valor \"de vida\" de cada usuario, es decir, la cantidad total de dinero que un usuario aporta a la empresa en promedio al realizar compras."
   ]
  },
  {
   "cell_type": "code",
   "execution_count": 38,
   "metadata": {},
   "outputs": [
    {
     "data": {
      "text/html": [
       "<div>\n",
       "<style scoped>\n",
       "    .dataframe tbody tr th:only-of-type {\n",
       "        vertical-align: middle;\n",
       "    }\n",
       "\n",
       "    .dataframe tbody tr th {\n",
       "        vertical-align: top;\n",
       "    }\n",
       "\n",
       "    .dataframe thead th {\n",
       "        text-align: right;\n",
       "    }\n",
       "</style>\n",
       "<table border=\"1\" class=\"dataframe\">\n",
       "  <thead>\n",
       "    <tr style=\"text-align: right;\">\n",
       "      <th>cohort_lifetime</th>\n",
       "      <th>0</th>\n",
       "      <th>1</th>\n",
       "      <th>2</th>\n",
       "      <th>3</th>\n",
       "      <th>4</th>\n",
       "      <th>5</th>\n",
       "      <th>6</th>\n",
       "      <th>7</th>\n",
       "      <th>8</th>\n",
       "      <th>9</th>\n",
       "      <th>10</th>\n",
       "      <th>11</th>\n",
       "    </tr>\n",
       "    <tr>\n",
       "      <th>first_order_month</th>\n",
       "      <th></th>\n",
       "      <th></th>\n",
       "      <th></th>\n",
       "      <th></th>\n",
       "      <th></th>\n",
       "      <th></th>\n",
       "      <th></th>\n",
       "      <th></th>\n",
       "      <th></th>\n",
       "      <th></th>\n",
       "      <th></th>\n",
       "      <th></th>\n",
       "    </tr>\n",
       "  </thead>\n",
       "  <tbody>\n",
       "    <tr>\n",
       "      <th>2017-06-01</th>\n",
       "      <td>4.72</td>\n",
       "      <td>0.49</td>\n",
       "      <td>0.44</td>\n",
       "      <td>0.95</td>\n",
       "      <td>1.02</td>\n",
       "      <td>0.74</td>\n",
       "      <td>0.95</td>\n",
       "      <td>0.58</td>\n",
       "      <td>0.55</td>\n",
       "      <td>0.61</td>\n",
       "      <td>0.57</td>\n",
       "      <td>0.26</td>\n",
       "    </tr>\n",
       "    <tr>\n",
       "      <th>2017-07-01</th>\n",
       "      <td>6.01</td>\n",
       "      <td>0.34</td>\n",
       "      <td>0.62</td>\n",
       "      <td>0.36</td>\n",
       "      <td>0.18</td>\n",
       "      <td>0.16</td>\n",
       "      <td>0.12</td>\n",
       "      <td>0.14</td>\n",
       "      <td>0.16</td>\n",
       "      <td>0.15</td>\n",
       "      <td>0.16</td>\n",
       "      <td>NaN</td>\n",
       "    </tr>\n",
       "    <tr>\n",
       "      <th>2017-08-01</th>\n",
       "      <td>5.28</td>\n",
       "      <td>0.47</td>\n",
       "      <td>0.46</td>\n",
       "      <td>0.39</td>\n",
       "      <td>0.49</td>\n",
       "      <td>0.28</td>\n",
       "      <td>0.21</td>\n",
       "      <td>0.41</td>\n",
       "      <td>0.29</td>\n",
       "      <td>0.19</td>\n",
       "      <td>NaN</td>\n",
       "      <td>NaN</td>\n",
       "    </tr>\n",
       "    <tr>\n",
       "      <th>2017-09-01</th>\n",
       "      <td>5.64</td>\n",
       "      <td>1.12</td>\n",
       "      <td>0.52</td>\n",
       "      <td>3.98</td>\n",
       "      <td>0.40</td>\n",
       "      <td>0.65</td>\n",
       "      <td>0.70</td>\n",
       "      <td>0.24</td>\n",
       "      <td>0.18</td>\n",
       "      <td>NaN</td>\n",
       "      <td>NaN</td>\n",
       "      <td>NaN</td>\n",
       "    </tr>\n",
       "    <tr>\n",
       "      <th>2017-10-01</th>\n",
       "      <td>5.00</td>\n",
       "      <td>0.54</td>\n",
       "      <td>0.19</td>\n",
       "      <td>0.16</td>\n",
       "      <td>0.15</td>\n",
       "      <td>0.12</td>\n",
       "      <td>0.08</td>\n",
       "      <td>0.12</td>\n",
       "      <td>NaN</td>\n",
       "      <td>NaN</td>\n",
       "      <td>NaN</td>\n",
       "      <td>NaN</td>\n",
       "    </tr>\n",
       "    <tr>\n",
       "      <th>2017-11-01</th>\n",
       "      <td>5.15</td>\n",
       "      <td>0.40</td>\n",
       "      <td>0.20</td>\n",
       "      <td>0.32</td>\n",
       "      <td>0.15</td>\n",
       "      <td>0.05</td>\n",
       "      <td>0.11</td>\n",
       "      <td>NaN</td>\n",
       "      <td>NaN</td>\n",
       "      <td>NaN</td>\n",
       "      <td>NaN</td>\n",
       "      <td>NaN</td>\n",
       "    </tr>\n",
       "    <tr>\n",
       "      <th>2017-12-01</th>\n",
       "      <td>4.74</td>\n",
       "      <td>0.26</td>\n",
       "      <td>0.93</td>\n",
       "      <td>1.07</td>\n",
       "      <td>0.31</td>\n",
       "      <td>0.34</td>\n",
       "      <td>NaN</td>\n",
       "      <td>NaN</td>\n",
       "      <td>NaN</td>\n",
       "      <td>NaN</td>\n",
       "      <td>NaN</td>\n",
       "      <td>NaN</td>\n",
       "    </tr>\n",
       "    <tr>\n",
       "      <th>2018-01-01</th>\n",
       "      <td>4.14</td>\n",
       "      <td>0.29</td>\n",
       "      <td>0.30</td>\n",
       "      <td>0.14</td>\n",
       "      <td>0.06</td>\n",
       "      <td>NaN</td>\n",
       "      <td>NaN</td>\n",
       "      <td>NaN</td>\n",
       "      <td>NaN</td>\n",
       "      <td>NaN</td>\n",
       "      <td>NaN</td>\n",
       "      <td>NaN</td>\n",
       "    </tr>\n",
       "    <tr>\n",
       "      <th>2018-02-01</th>\n",
       "      <td>4.16</td>\n",
       "      <td>0.28</td>\n",
       "      <td>0.08</td>\n",
       "      <td>0.07</td>\n",
       "      <td>NaN</td>\n",
       "      <td>NaN</td>\n",
       "      <td>NaN</td>\n",
       "      <td>NaN</td>\n",
       "      <td>NaN</td>\n",
       "      <td>NaN</td>\n",
       "      <td>NaN</td>\n",
       "      <td>NaN</td>\n",
       "    </tr>\n",
       "    <tr>\n",
       "      <th>2018-03-01</th>\n",
       "      <td>4.84</td>\n",
       "      <td>0.30</td>\n",
       "      <td>0.32</td>\n",
       "      <td>NaN</td>\n",
       "      <td>NaN</td>\n",
       "      <td>NaN</td>\n",
       "      <td>NaN</td>\n",
       "      <td>NaN</td>\n",
       "      <td>NaN</td>\n",
       "      <td>NaN</td>\n",
       "      <td>NaN</td>\n",
       "      <td>NaN</td>\n",
       "    </tr>\n",
       "    <tr>\n",
       "      <th>2018-04-01</th>\n",
       "      <td>4.66</td>\n",
       "      <td>0.53</td>\n",
       "      <td>NaN</td>\n",
       "      <td>NaN</td>\n",
       "      <td>NaN</td>\n",
       "      <td>NaN</td>\n",
       "      <td>NaN</td>\n",
       "      <td>NaN</td>\n",
       "      <td>NaN</td>\n",
       "      <td>NaN</td>\n",
       "      <td>NaN</td>\n",
       "      <td>NaN</td>\n",
       "    </tr>\n",
       "    <tr>\n",
       "      <th>2018-05-01</th>\n",
       "      <td>4.66</td>\n",
       "      <td>NaN</td>\n",
       "      <td>NaN</td>\n",
       "      <td>NaN</td>\n",
       "      <td>NaN</td>\n",
       "      <td>NaN</td>\n",
       "      <td>NaN</td>\n",
       "      <td>NaN</td>\n",
       "      <td>NaN</td>\n",
       "      <td>NaN</td>\n",
       "      <td>NaN</td>\n",
       "      <td>NaN</td>\n",
       "    </tr>\n",
       "    <tr>\n",
       "      <th>2018-06-01</th>\n",
       "      <td>3.42</td>\n",
       "      <td>NaN</td>\n",
       "      <td>NaN</td>\n",
       "      <td>NaN</td>\n",
       "      <td>NaN</td>\n",
       "      <td>NaN</td>\n",
       "      <td>NaN</td>\n",
       "      <td>NaN</td>\n",
       "      <td>NaN</td>\n",
       "      <td>NaN</td>\n",
       "      <td>NaN</td>\n",
       "      <td>NaN</td>\n",
       "    </tr>\n",
       "  </tbody>\n",
       "</table>\n",
       "</div>"
      ],
      "text/plain": [
       "cohort_lifetime      0     1     2     3     4     5     6     7     8     9   \\\n",
       "first_order_month                                                               \n",
       "2017-06-01         4.72  0.49  0.44  0.95  1.02  0.74  0.95  0.58  0.55  0.61   \n",
       "2017-07-01         6.01  0.34  0.62  0.36  0.18  0.16  0.12  0.14  0.16  0.15   \n",
       "2017-08-01         5.28  0.47  0.46  0.39  0.49  0.28  0.21  0.41  0.29  0.19   \n",
       "2017-09-01         5.64  1.12  0.52  3.98  0.40  0.65  0.70  0.24  0.18   NaN   \n",
       "2017-10-01         5.00  0.54  0.19  0.16  0.15  0.12  0.08  0.12   NaN   NaN   \n",
       "2017-11-01         5.15  0.40  0.20  0.32  0.15  0.05  0.11   NaN   NaN   NaN   \n",
       "2017-12-01         4.74  0.26  0.93  1.07  0.31  0.34   NaN   NaN   NaN   NaN   \n",
       "2018-01-01         4.14  0.29  0.30  0.14  0.06   NaN   NaN   NaN   NaN   NaN   \n",
       "2018-02-01         4.16  0.28  0.08  0.07   NaN   NaN   NaN   NaN   NaN   NaN   \n",
       "2018-03-01         4.84  0.30  0.32   NaN   NaN   NaN   NaN   NaN   NaN   NaN   \n",
       "2018-04-01         4.66  0.53   NaN   NaN   NaN   NaN   NaN   NaN   NaN   NaN   \n",
       "2018-05-01         4.66   NaN   NaN   NaN   NaN   NaN   NaN   NaN   NaN   NaN   \n",
       "2018-06-01         3.42   NaN   NaN   NaN   NaN   NaN   NaN   NaN   NaN   NaN   \n",
       "\n",
       "cohort_lifetime      10    11  \n",
       "first_order_month              \n",
       "2017-06-01         0.57  0.26  \n",
       "2017-07-01         0.16   NaN  \n",
       "2017-08-01          NaN   NaN  \n",
       "2017-09-01          NaN   NaN  \n",
       "2017-10-01          NaN   NaN  \n",
       "2017-11-01          NaN   NaN  \n",
       "2017-12-01          NaN   NaN  \n",
       "2018-01-01          NaN   NaN  \n",
       "2018-02-01          NaN   NaN  \n",
       "2018-03-01          NaN   NaN  \n",
       "2018-04-01          NaN   NaN  \n",
       "2018-05-01          NaN   NaN  \n",
       "2018-06-01          NaN   NaN  "
      ]
     },
     "metadata": {},
     "output_type": "display_data"
    }
   ],
   "source": [
    "#Obtenemos el tamaño inicial de cada cohorte\n",
    "cohort_sizes = orders.groupby(['first_order_month']).agg({'uid':'nunique'}).reset_index()\n",
    "#Cambiamos nombre\n",
    "cohort_sizes.columns = ['first_order_month','n_users_initial']\n",
    "#Agregamos al DF orders_gb_cohorts, obtenido anteriormente\n",
    "report = pd.merge(cohort_sizes,orders_gb_cohorts,on='first_order_month')\n",
    "#Calculamos LTV mensual\n",
    "report['ltv'] = report['total_revenue'] / report['n_users_initial']\n",
    "#Agrupamos para obtener la información bien acomodada\n",
    "output = report.pivot_table(index='first_order_month',\n",
    "                            columns='cohort_lifetime',\n",
    "                            values='ltv'\n",
    "                           ).round(2)\n",
    "#Linea para comprobar resultado\n",
    "display(output)\n",
    "ltv_acum = output.cumsum(axis=1).round(2)"
   ]
  },
  {
   "cell_type": "code",
   "execution_count": 39,
   "metadata": {},
   "outputs": [
    {
     "data": {
      "image/png": "[encoded data removed]",
      "text/plain": [
       "<Figure size 1300x900 with 2 Axes>"
      ]
     },
     "metadata": {},
     "output_type": "display_data"
    }
   ],
   "source": [
    "#Visualización del LTV a través del tiempo para cada cohorte\n",
    "#Creamos un mapa de calor para mostrar la información.\n",
    "#Definimos tamaño de la figura\n",
    "plt.figure(figsize=(13, 9))\n",
    "plt.title('Valor del tiempo de vida para cada cohorte') #titulo\n",
    "#Creamos un mapa de calor\n",
    "sns.heatmap(\n",
    "    ltv_acum,\n",
    "    cmap=\"YlOrBr\",\n",
    "    annot=True,\n",
    "    fmt='.1f',\n",
    "    linewidths=1,\n",
    "    linecolor='gray',\n",
    ")\n",
    "#Renombramos los ejes\n",
    "plt.xlabel(\"Tiempo de vida[mes]\")\n",
    "plt.ylabel(\"Cohort\")\n",
    "plt.show() #mostramos"
   ]
  },
  {
   "cell_type": "markdown",
   "metadata": {},
   "source": [
    "En esta representación del valor de cada cliente para la empresa notamos que la mayoría de los cohortes comienzan con un valor entre 4 y 6 dólares por cliente, por lo que el cohorte de Junio,2018 presenta números muy bajos por el momento y es un factor que se debe tomar bastante en cuenta.\n",
    "\n",
    "Notamos que los cohortes Junio y Septiembre, 2017 son los que presentan mejores números sobrepasando los 10 dólares por cliente. lo cual se corrobora con los resultados obtenidos anteriormente. Por ejemplo, el cohorte de Septiembre obtuvo valores de precio de compra muy altos en su mes 3, y justo en este gráfico notamos que el valor de cada cliente subió bastante en ese mismo mes. \n",
    "\n",
    "Por otro lado, notamos que los meses de Enero y Febrero,2018 presentan números bastante bajos y que al ser un valor acumulativo, es de preocuparse que no se tenga un avance más pronunciado."
   ]
  },
  {
   "cell_type": "code",
   "execution_count": 61,
   "metadata": {},
   "outputs": [],
   "source": [
    "#Creamos una función para obtener el LTV para cada cohorte\n",
    "def ltv_per_cohort(df):\n",
    "    #Inicializamos listas\n",
    "    ltv_values = []\n",
    "    cohorts = []\n",
    "    #Recorremos para cada cohort\n",
    "    for cohort in df.index:\n",
    "        aux = df.loc[cohort].sum().round(2) #Obtenemos el LTV total\n",
    "        ltv_values.append(aux) #Agregamos a la lista\n",
    "        cohorts.append(cohort) #Agregamos a la lista del cohorte\n",
    "    #Creamos un diccionario con la información\n",
    "    data = {'cohort': cohorts, 'ltv': ltv_values}\n",
    "    #Creamos un DF\n",
    "    ltv_per_cohort = pd.DataFrame(data)\n",
    "    #Hacemos transformacion para obtener los cohortes solo como '2017-01'\n",
    "    ltv_per_cohort['cohort'] = pd.to_datetime(ltv_per_cohort['cohort']).dt.to_period('M')\n",
    "    ltv_per_cohort['cohort'] = ltv_per_cohort['cohort'].astype('str')\n",
    "    return ltv_per_cohort #Regresamos el valor"
   ]
  },
  {
   "cell_type": "code",
   "execution_count": 64,
   "metadata": {},
   "outputs": [
    {
     "data": {
      "application/vnd.plotly.v1+json": {
       "config": {
        "plotlyServerURL": "https://plot.ly"
       },
       "data": [
        {
         "alignmentgroup": "True",
         "hovertemplate": "Cohort=%{y}<br>Cantidad que aporta [$]=%{text}<extra></extra>",
         "legendgroup": "2017-06",
         "marker": {
          "color": "#636efa",
          "pattern": {
           "shape": ""
          }
         },
         "name": "2017-06",
         "offsetgroup": "2017-06",
         "orientation": "h",
         "showlegend": true,
         "text": [
          11.88
         ],
         "textposition": "auto",
         "type": "bar",
         "x": [
          11.88
         ],
         "xaxis": "x",
         "y": [
          "2017-06"
         ],
         "yaxis": "y"
        },
        {
         "alignmentgroup": "True",
         "hovertemplate": "Cohort=%{y}<br>Cantidad que aporta [$]=%{text}<extra></extra>",
         "legendgroup": "2017-07",
         "marker": {
          "color": "#EF553B",
          "pattern": {
           "shape": ""
          }
         },
         "name": "2017-07",
         "offsetgroup": "2017-07",
         "orientation": "h",
         "showlegend": true,
         "text": [
          8.4
         ],
         "textposition": "auto",
         "type": "bar",
         "x": [
          8.4
         ],
         "xaxis": "x",
         "y": [
          "2017-07"
         ],
         "yaxis": "y"
        },
        {
         "alignmentgroup": "True",
         "hovertemplate": "Cohort=%{y}<br>Cantidad que aporta [$]=%{text}<extra></extra>",
         "legendgroup": "2017-08",
         "marker": {
          "color": "#00cc96",
          "pattern": {
           "shape": ""
          }
         },
         "name": "2017-08",
         "offsetgroup": "2017-08",
         "orientation": "h",
         "showlegend": true,
         "text": [
          8.47
         ],
         "textposition": "auto",
         "type": "bar",
         "x": [
          8.47
         ],
         "xaxis": "x",
         "y": [
          "2017-08"
         ],
         "yaxis": "y"
        },
        {
         "alignmentgroup": "True",
         "hovertemplate": "Cohort=%{y}<br>Cantidad que aporta [$]=%{text}<extra></extra>",
         "legendgroup": "2017-09",
         "marker": {
          "color": "#ab63fa",
          "pattern": {
           "shape": ""
          }
         },
         "name": "2017-09",
         "offsetgroup": "2017-09",
         "orientation": "h",
         "showlegend": true,
         "text": [
          13.43
         ],
         "textposition": "auto",
         "type": "bar",
         "x": [
          13.43
         ],
         "xaxis": "x",
         "y": [
          "2017-09"
         ],
         "yaxis": "y"
        },
        {
         "alignmentgroup": "True",
         "hovertemplate": "Cohort=%{y}<br>Cantidad que aporta [$]=%{text}<extra></extra>",
         "legendgroup": "2017-10",
         "marker": {
          "color": "#FFA15A",
          "pattern": {
           "shape": ""
          }
         },
         "name": "2017-10",
         "offsetgroup": "2017-10",
         "orientation": "h",
         "showlegend": true,
         "text": [
          6.36
         ],
         "textposition": "auto",
         "type": "bar",
         "x": [
          6.36
         ],
         "xaxis": "x",
         "y": [
          "2017-10"
         ],
         "yaxis": "y"
        },
        {
         "alignmentgroup": "True",
         "hovertemplate": "Cohort=%{y}<br>Cantidad que aporta [$]=%{text}<extra></extra>",
         "legendgroup": "2017-11",
         "marker": {
          "color": "#19d3f3",
          "pattern": {
           "shape": ""
          }
         },
         "name": "2017-11",
         "offsetgroup": "2017-11",
         "orientation": "h",
         "showlegend": true,
         "text": [
          6.38
         ],
         "textposition": "auto",
         "type": "bar",
         "x": [
          6.38
         ],
         "xaxis": "x",
         "y": [
          "2017-11"
         ],
         "yaxis": "y"
        },
        {
         "alignmentgroup": "True",
         "hovertemplate": "Cohort=%{y}<br>Cantidad que aporta [$]=%{text}<extra></extra>",
         "legendgroup": "2017-12",
         "marker": {
          "color": "#FF6692",
          "pattern": {
           "shape": ""
          }
         },
         "name": "2017-12",
         "offsetgroup": "2017-12",
         "orientation": "h",
         "showlegend": true,
         "text": [
          7.65
         ],
         "textposition": "auto",
         "type": "bar",
         "x": [
          7.65
         ],
         "xaxis": "x",
         "y": [
          "2017-12"
         ],
         "yaxis": "y"
        },
        {
         "alignmentgroup": "True",
         "hovertemplate": "Cohort=%{y}<br>Cantidad que aporta [$]=%{text}<extra></extra>",
         "legendgroup": "2018-01",
         "marker": {
          "color": "#B6E880",
          "pattern": {
           "shape": ""
          }
         },
         "name": "2018-01",
         "offsetgroup": "2018-01",
         "orientation": "h",
         "showlegend": true,
         "text": [
          4.93
         ],
         "textposition": "auto",
         "type": "bar",
         "x": [
          4.93
         ],
         "xaxis": "x",
         "y": [
          "2018-01"
         ],
         "yaxis": "y"
        },
        {
         "alignmentgroup": "True",
         "hovertemplate": "Cohort=%{y}<br>Cantidad que aporta [$]=%{text}<extra></extra>",
         "legendgroup": "2018-02",
         "marker": {
          "color": "#FF97FF",
          "pattern": {
           "shape": ""
          }
         },
         "name": "2018-02",
         "offsetgroup": "2018-02",
         "orientation": "h",
         "showlegend": true,
         "text": [
          4.59
         ],
         "textposition": "auto",
         "type": "bar",
         "x": [
          4.59
         ],
         "xaxis": "x",
         "y": [
          "2018-02"
         ],
         "yaxis": "y"
        },
        {
         "alignmentgroup": "True",
         "hovertemplate": "Cohort=%{y}<br>Cantidad que aporta [$]=%{text}<extra></extra>",
         "legendgroup": "2018-03",
         "marker": {
          "color": "#FECB52",
          "pattern": {
           "shape": ""
          }
         },
         "name": "2018-03",
         "offsetgroup": "2018-03",
         "orientation": "h",
         "showlegend": true,
         "text": [
          5.46
         ],
         "textposition": "auto",
         "type": "bar",
         "x": [
          5.46
         ],
         "xaxis": "x",
         "y": [
          "2018-03"
         ],
         "yaxis": "y"
        },
        {
         "alignmentgroup": "True",
         "hovertemplate": "Cohort=%{y}<br>Cantidad que aporta [$]=%{text}<extra></extra>",
         "legendgroup": "2018-04",
         "marker": {
          "color": "#636efa",
          "pattern": {
           "shape": ""
          }
         },
         "name": "2018-04",
         "offsetgroup": "2018-04",
         "orientation": "h",
         "showlegend": true,
         "text": [
          5.19
         ],
         "textposition": "auto",
         "type": "bar",
         "x": [
          5.19
         ],
         "xaxis": "x",
         "y": [
          "2018-04"
         ],
         "yaxis": "y"
        },
        {
         "alignmentgroup": "True",
         "hovertemplate": "Cohort=%{y}<br>Cantidad que aporta [$]=%{text}<extra></extra>",
         "legendgroup": "2018-05",
         "marker": {
          "color": "#EF553B",
          "pattern": {
           "shape": ""
          }
         },
         "name": "2018-05",
         "offsetgroup": "2018-05",
         "orientation": "h",
         "showlegend": true,
         "text": [
          4.66
         ],
         "textposition": "auto",
         "type": "bar",
         "x": [
          4.66
         ],
         "xaxis": "x",
         "y": [
          "2018-05"
         ],
         "yaxis": "y"
        },
        {
         "alignmentgroup": "True",
         "hovertemplate": "Cohort=%{y}<br>Cantidad que aporta [$]=%{text}<extra></extra>",
         "legendgroup": "2018-06",
         "marker": {
          "color": "#00cc96",
          "pattern": {
           "shape": ""
          }
         },
         "name": "2018-06",
         "offsetgroup": "2018-06",
         "orientation": "h",
         "showlegend": true,
         "text": [
          3.42
         ],
         "textposition": "auto",
         "type": "bar",
         "x": [
          3.42
         ],
         "xaxis": "x",
         "y": [
          "2018-06"
         ],
         "yaxis": "y"
        }
       ],
       "layout": {
        "barmode": "relative",
        "legend": {
         "title": {
          "text": "Cohort"
         },
         "tracegroupgap": 0
        },
        "template": {
         "data": {
          "bar": [
           {
            "error_x": {
             "color": "#2a3f5f"
            },
            "error_y": {
             "color": "#2a3f5f"
            },
            "marker": {
             "line": {
              "color": "#E5ECF6",
              "width": 0.5
             },
             "pattern": {
              "fillmode": "overlay",
              "size": 10,
              "solidity": 0.2
             }
            },
            "type": "bar"
           }
          ],
          "barpolar": [
           {
            "marker": {
             "line": {
              "color": "#E5ECF6",
              "width": 0.5
             },
             "pattern": {
              "fillmode": "overlay",
              "size": 10,
              "solidity": 0.2
             }
            },
            "type": "barpolar"
           }
          ],
          "carpet": [
           {
            "aaxis": {
             "endlinecolor": "#2a3f5f",
             "gridcolor": "white",
             "linecolor": "white",
             "minorgridcolor": "white",
             "startlinecolor": "#2a3f5f"
            },
            "baxis": {
             "endlinecolor": "#2a3f5f",
             "gridcolor": "white",
             "linecolor": "white",
             "minorgridcolor": "white",
             "startlinecolor": "#2a3f5f"
            },
            "type": "carpet"
           }
          ],
          "choropleth": [
           {
            "colorbar": {
             "outlinewidth": 0,
             "ticks": ""
            },
            "type": "choropleth"
           }
          ],
          "contour": [
           {
            "colorbar": {
             "outlinewidth": 0,
             "ticks": ""
            },
            "colorscale": [
             [
              0,
              "#0d0887"
             ],
             [
              0.1111111111111111,
              "#46039f"
             ],
             [
              0.2222222222222222,
              "#7201a8"
             ],
             [
              0.3333333333333333,
              "#9c179e"
             ],
             [
              0.4444444444444444,
              "#bd3786"
             ],
             [
              0.5555555555555556,
              "#d8576b"
             ],
             [
              0.6666666666666666,
              "#ed7953"
             ],
             [
              0.7777777777777778,
              "#fb9f3a"
             ],
             [
              0.8888888888888888,
              "#fdca26"
             ],
             [
              1,
              "#f0f921"
             ]
            ],
            "type": "contour"
           }
          ],
          "contourcarpet": [
           {
            "colorbar": {
             "outlinewidth": 0,
             "ticks": ""
            },
            "type": "contourcarpet"
           }
          ],
          "heatmap": [
           {
            "colorbar": {
             "outlinewidth": 0,
             "ticks": ""
            },
            "colorscale": [
             [
              0,
              "#0d0887"
             ],
             [
              0.1111111111111111,
              "#46039f"
             ],
             [
              0.2222222222222222,
              "#7201a8"
             ],
             [
              0.3333333333333333,
              "#9c179e"
             ],
             [
              0.4444444444444444,
              "#bd3786"
             ],
             [
              0.5555555555555556,
              "#d8576b"
             ],
             [
              0.6666666666666666,
              "#ed7953"
             ],
             [
              0.7777777777777778,
              "#fb9f3a"
             ],
             [
              0.8888888888888888,
              "#fdca26"
             ],
             [
              1,
              "#f0f921"
             ]
            ],
            "type": "heatmap"
           }
          ],
          "heatmapgl": [
           {
            "colorbar": {
             "outlinewidth": 0,
             "ticks": ""
            },
            "colorscale": [
             [
              0,
              "#0d0887"
             ],
             [
              0.1111111111111111,
              "#46039f"
             ],
             [
              0.2222222222222222,
              "#7201a8"
             ],
             [
              0.3333333333333333,
              "#9c179e"
             ],
             [
              0.4444444444444444,
              "#bd3786"
             ],
             [
              0.5555555555555556,
              "#d8576b"
             ],
             [
              0.6666666666666666,
              "#ed7953"
             ],
             [
              0.7777777777777778,
              "#fb9f3a"
             ],
             [
              0.8888888888888888,
              "#fdca26"
             ],
             [
              1,
              "#f0f921"
             ]
            ],
            "type": "heatmapgl"
           }
          ],
          "histogram": [
           {
            "marker": {
             "pattern": {
              "fillmode": "overlay",
              "size": 10,
              "solidity": 0.2
             }
            },
            "type": "histogram"
           }
          ],
          "histogram2d": [
           {
            "colorbar": {
             "outlinewidth": 0,
             "ticks": ""
            },
            "colorscale": [
             [
              0,
              "#0d0887"
             ],
             [
              0.1111111111111111,
              "#46039f"
             ],
             [
              0.2222222222222222,
              "#7201a8"
             ],
             [
              0.3333333333333333,
              "#9c179e"
             ],
             [
              0.4444444444444444,
              "#bd3786"
             ],
             [
              0.5555555555555556,
              "#d8576b"
             ],
             [
              0.6666666666666666,
              "#ed7953"
             ],
             [
              0.7777777777777778,
              "#fb9f3a"
             ],
             [
              0.8888888888888888,
              "#fdca26"
             ],
             [
              1,
              "#f0f921"
             ]
            ],
            "type": "histogram2d"
           }
          ],
          "histogram2dcontour": [
           {
            "colorbar": {
             "outlinewidth": 0,
             "ticks": ""
            },
            "colorscale": [
             [
              0,
              "#0d0887"
             ],
             [
              0.1111111111111111,
              "#46039f"
             ],
             [
              0.2222222222222222,
              "#7201a8"
             ],
             [
              0.3333333333333333,
              "#9c179e"
             ],
             [
              0.4444444444444444,
              "#bd3786"
             ],
             [
              0.5555555555555556,
              "#d8576b"
             ],
             [
              0.6666666666666666,
              "#ed7953"
             ],
             [
              0.7777777777777778,
              "#fb9f3a"
             ],
             [
              0.8888888888888888,
              "#fdca26"
             ],
             [
              1,
              "#f0f921"
             ]
            ],
            "type": "histogram2dcontour"
           }
          ],
          "mesh3d": [
           {
            "colorbar": {
             "outlinewidth": 0,
             "ticks": ""
            },
            "type": "mesh3d"
           }
          ],
          "parcoords": [
           {
            "line": {
             "colorbar": {
              "outlinewidth": 0,
              "ticks": ""
             }
            },
            "type": "parcoords"
           }
          ],
          "pie": [
           {
            "automargin": true,
            "type": "pie"
           }
          ],
          "scatter": [
           {
            "fillpattern": {
             "fillmode": "overlay",
             "size": 10,
             "solidity": 0.2
            },
            "type": "scatter"
           }
          ],
          "scatter3d": [
           {
            "line": {
             "colorbar": {
              "outlinewidth": 0,
              "ticks": ""
             }
            },
            "marker": {
             "colorbar": {
              "outlinewidth": 0,
              "ticks": ""
             }
            },
            "type": "scatter3d"
           }
          ],
          "scattercarpet": [
           {
            "marker": {
             "colorbar": {
              "outlinewidth": 0,
              "ticks": ""
             }
            },
            "type": "scattercarpet"
           }
          ],
          "scattergeo": [
           {
            "marker": {
             "colorbar": {
              "outlinewidth": 0,
              "ticks": ""
             }
            },
            "type": "scattergeo"
           }
          ],
          "scattergl": [
           {
            "marker": {
             "colorbar": {
              "outlinewidth": 0,
              "ticks": ""
             }
            },
            "type": "scattergl"
           }
          ],
          "scattermapbox": [
           {
            "marker": {
             "colorbar": {
              "outlinewidth": 0,
              "ticks": ""
             }
            },
            "type": "scattermapbox"
           }
          ],
          "scatterpolar": [
           {
            "marker": {
             "colorbar": {
              "outlinewidth": 0,
              "ticks": ""
             }
            },
            "type": "scatterpolar"
           }
          ],
          "scatterpolargl": [
           {
            "marker": {
             "colorbar": {
              "outlinewidth": 0,
              "ticks": ""
             }
            },
            "type": "scatterpolargl"
           }
          ],
          "scatterternary": [
           {
            "marker": {
             "colorbar": {
              "outlinewidth": 0,
              "ticks": ""
             }
            },
            "type": "scatterternary"
           }
          ],
          "surface": [
           {
            "colorbar": {
             "outlinewidth": 0,
             "ticks": ""
            },
            "colorscale": [
             [
              0,
              "#0d0887"
             ],
             [
              0.1111111111111111,
              "#46039f"
             ],
             [
              0.2222222222222222,
              "#7201a8"
             ],
             [
              0.3333333333333333,
              "#9c179e"
             ],
             [
              0.4444444444444444,
              "#bd3786"
             ],
             [
              0.5555555555555556,
              "#d8576b"
             ],
             [
              0.6666666666666666,
              "#ed7953"
             ],
             [
              0.7777777777777778,
              "#fb9f3a"
             ],
             [
              0.8888888888888888,
              "#fdca26"
             ],
             [
              1,
              "#f0f921"
             ]
            ],
            "type": "surface"
           }
          ],
          "table": [
           {
            "cells": {
             "fill": {
              "color": "#EBF0F8"
             },
             "line": {
              "color": "white"
             }
            },
            "header": {
             "fill": {
              "color": "#C8D4E3"
             },
             "line": {
              "color": "white"
             }
            },
            "type": "table"
           }
          ]
         },
         "layout": {
          "annotationdefaults": {
           "arrowcolor": "#2a3f5f",
           "arrowhead": 0,
           "arrowwidth": 1
          },
          "autotypenumbers": "strict",
          "coloraxis": {
           "colorbar": {
            "outlinewidth": 0,
            "ticks": ""
           }
          },
          "colorscale": {
           "diverging": [
            [
             0,
             "#8e0152"
            ],
            [
             0.1,
             "#c51b7d"
            ],
            [
             0.2,
             "#de77ae"
            ],
            [
             0.3,
             "#f1b6da"
            ],
            [
             0.4,
             "#fde0ef"
            ],
            [
             0.5,
             "#f7f7f7"
            ],
            [
             0.6,
             "#e6f5d0"
            ],
            [
             0.7,
             "#b8e186"
            ],
            [
             0.8,
             "#7fbc41"
            ],
            [
             0.9,
             "#4d9221"
            ],
            [
             1,
             "#276419"
            ]
           ],
           "sequential": [
            [
             0,
             "#0d0887"
            ],
            [
             0.1111111111111111,
             "#46039f"
            ],
            [
             0.2222222222222222,
             "#7201a8"
            ],
            [
             0.3333333333333333,
             "#9c179e"
            ],
            [
             0.4444444444444444,
             "#bd3786"
            ],
            [
             0.5555555555555556,
             "#d8576b"
            ],
            [
             0.6666666666666666,
             "#ed7953"
            ],
            [
             0.7777777777777778,
             "#fb9f3a"
            ],
            [
             0.8888888888888888,
             "#fdca26"
            ],
            [
             1,
             "#f0f921"
            ]
           ],
           "sequentialminus": [
            [
             0,
             "#0d0887"
            ],
            [
             0.1111111111111111,
             "#46039f"
            ],
            [
             0.2222222222222222,
             "#7201a8"
            ],
            [
             0.3333333333333333,
             "#9c179e"
            ],
            [
             0.4444444444444444,
             "#bd3786"
            ],
            [
             0.5555555555555556,
             "#d8576b"
            ],
            [
             0.6666666666666666,
             "#ed7953"
            ],
            [
             0.7777777777777778,
             "#fb9f3a"
            ],
            [
             0.8888888888888888,
             "#fdca26"
            ],
            [
             1,
             "#f0f921"
            ]
           ]
          },
          "colorway": [
           "#636efa",
           "#EF553B",
           "#00cc96",
           "#ab63fa",
           "#FFA15A",
           "#19d3f3",
           "#FF6692",
           "#B6E880",
           "#FF97FF",
           "#FECB52"
          ],
          "font": {
           "color": "#2a3f5f"
          },
          "geo": {
           "bgcolor": "white",
           "lakecolor": "white",
           "landcolor": "#E5ECF6",
           "showlakes": true,
           "showland": true,
           "subunitcolor": "white"
          },
          "hoverlabel": {
           "align": "left"
          },
          "hovermode": "closest",
          "mapbox": {
           "style": "light"
          },
          "paper_bgcolor": "white",
          "plot_bgcolor": "#E5ECF6",
          "polar": {
           "angularaxis": {
            "gridcolor": "white",
            "linecolor": "white",
            "ticks": ""
           },
           "bgcolor": "#E5ECF6",
           "radialaxis": {
            "gridcolor": "white",
            "linecolor": "white",
            "ticks": ""
           }
          },
          "scene": {
           "xaxis": {
            "backgroundcolor": "#E5ECF6",
            "gridcolor": "white",
            "gridwidth": 2,
            "linecolor": "white",
            "showbackground": true,
            "ticks": "",
            "zerolinecolor": "white"
           },
           "yaxis": {
            "backgroundcolor": "#E5ECF6",
            "gridcolor": "white",
            "gridwidth": 2,
            "linecolor": "white",
            "showbackground": true,
            "ticks": "",
            "zerolinecolor": "white"
           },
           "zaxis": {
            "backgroundcolor": "#E5ECF6",
            "gridcolor": "white",
            "gridwidth": 2,
            "linecolor": "white",
            "showbackground": true,
            "ticks": "",
            "zerolinecolor": "white"
           }
          },
          "shapedefaults": {
           "line": {
            "color": "#2a3f5f"
           }
          },
          "ternary": {
           "aaxis": {
            "gridcolor": "white",
            "linecolor": "white",
            "ticks": ""
           },
           "baxis": {
            "gridcolor": "white",
            "linecolor": "white",
            "ticks": ""
           },
           "bgcolor": "#E5ECF6",
           "caxis": {
            "gridcolor": "white",
            "linecolor": "white",
            "ticks": ""
           }
          },
          "title": {
           "x": 0.05
          },
          "xaxis": {
           "automargin": true,
           "gridcolor": "white",
           "linecolor": "white",
           "ticks": "",
           "title": {
            "standoff": 15
           },
           "zerolinecolor": "white",
           "zerolinewidth": 2
          },
          "yaxis": {
           "automargin": true,
           "gridcolor": "white",
           "linecolor": "white",
           "ticks": "",
           "title": {
            "standoff": 15
           },
           "zerolinecolor": "white",
           "zerolinewidth": 2
          }
         }
        },
        "title": {
         "text": "Cantidad total que aporta cada usuario de cada cohort"
        },
        "xaxis": {
         "anchor": "y",
         "domain": [
          0,
          1
         ],
         "title": {
          "text": "Cantidad que aporta [$]"
         }
        },
        "yaxis": {
         "anchor": "x",
         "categoryarray": [
          "2018-06",
          "2018-05",
          "2018-04",
          "2018-03",
          "2018-02",
          "2018-01",
          "2017-12",
          "2017-11",
          "2017-10",
          "2017-09",
          "2017-08",
          "2017-07",
          "2017-06"
         ],
         "categoryorder": "array",
         "domain": [
          0,
          1
         ],
         "tickangle": 0,
         "tickvals": [
          "2017-06",
          "2017-07",
          "2017-08",
          "2017-09",
          "2017-10",
          "2017-11",
          "2017-12",
          "2018-01",
          "2018-02",
          "2018-03",
          "2018-04",
          "2018-05",
          "2018-06"
         ],
         "title": {
          "text": "Cohort"
         }
        }
       }
      }
     },
     "metadata": {},
     "output_type": "display_data"
    }
   ],
   "source": [
    "#Calculamos el LTV para nuestro grupo de cohortes\n",
    "ltv_cohort_result = ltv_per_cohort(output)\n",
    "#Linea para comprobar resultado\n",
    "#print(ltv_cohort_result)\n",
    "\n",
    "#Creamos un gráfico para comparar el LTV de cada cohorte creado\n",
    "fig_2 = px.bar(ltv_cohort_result,\n",
    "               x='ltv',y='cohort', text='ltv', \n",
    "               color = 'cohort',\n",
    "               title='Cantidad total que aporta cada usuario de cada cohort',\n",
    "              labels={'cohort': 'Cohort', 'ltv':'Cantidad que aporta [$]'},orientation='h')\n",
    "fig_2.update_yaxes(tickangle=0, tickvals = list(ltv_cohort_result['cohort'])) #Mostramos el cohorte en el eje Y\n",
    "fig_2.show() #Mostramos"
   ]
  },
  {
   "cell_type": "markdown",
   "metadata": {},
   "source": [
    "Observamos que el cohort correspondiente a Septiembre del 2017, es que tiene los usuarios más \"valiosos\" para la empresa, ya que cada usuario aporta 13.43 dólares en promedio durante todo su ciclo de vida, y tiene completo sentido ya que justo es el cohorte que presenta el pico de 62.5 dólares de precio promedio por cada compra. \n",
    "\n",
    "En segundo lugar, tenemos al cohorte de Junio del 2017, el cual si bien no tiene los precios por compra más altos, sí presenta los mejores ordenes promedio realizadas durante todo su ciclo de vida, es decir, compensan las órdenes de precios no tan altos, con la cantidad de órdenes que realizan. \n",
    "\n",
    "Como señalamos anteriormente, los cohortes de Octubre y Noviembre del 2017 junto con Enero y Febrero de 2018, muestran una cierta decadencia tanto en el número de órdenes promedio como en el precio promedio de cada órden. Sin embargo, como señalamos en la sección anterior, el cohort de Diciembre de 2017, repuntó en el valor de cada cliente al mejorar los precios promedio de cada compra a partir de su tercer mes. \n",
    "\n",
    "\n",
    "### Marketing\n",
    "\n",
    "En esta sección nos interesa dar respuesta a las preguntas:\n",
    "- ¿Cuánto dinero se gastó?\n",
    "- ¿Cuál fue el costo de adquisición de clientes de cada una de las fuentes?\n",
    "- ¿Cuán rentables eran las inversiones?\n",
    "\n",
    "Se dedicará una sección para responder cada una de estas preguntas.\n",
    "\n",
    "#### Costo de las fuentes de adquisición\n",
    "\n",
    "En esta sección respondemos a la pregunta '¿Cuánto dinero se gastó?', es decir, nos interesa saber cuál fue el total de los costos para cada fuente de adquisición a lo largo del tiempo. "
   ]
  },
  {
   "cell_type": "code",
   "execution_count": 65,
   "metadata": {},
   "outputs": [],
   "source": [
    "#Costo de las fuentes de adquisición\n",
    "\n",
    "#Obtenemos los meses de las fecha de cada gasto realizado en el DF 'Costs'\n",
    "costs['date_month'] = pd.to_datetime(costs['dt'],unit='d') - pd.to_timedelta(costs['dt'].dt.day,unit='d')\n",
    "costs['date_month'] = (costs['date_month'] + np.timedelta64(1,'D')).dt.date"
   ]
  },
  {
   "cell_type": "code",
   "execution_count": 66,
   "metadata": {},
   "outputs": [],
   "source": [
    "#Agrupamos por mes y por fuente\n",
    "costs_per_month = costs.groupby(['source_id','date_month']).agg({'costs':'sum'})\n",
    "#Obtenemos el costo total de cada fuente\n",
    "total_cost = costs.groupby(['source_id']).agg({'costs':'sum'}).round(2).reset_index()\n",
    "total_cost['source_id'] = total_cost['source_id'].astype('str')\n",
    "#display(costs_per_month)\n",
    "#display(total_cost)"
   ]
  },
  {
   "cell_type": "code",
   "execution_count": 67,
   "metadata": {},
   "outputs": [
    {
     "data": {
      "application/vnd.plotly.v1+json": {
       "config": {
        "plotlyServerURL": "https://plot.ly"
       },
       "data": [
        {
         "hovertemplate": "ID de la fuente=1<br>Mes en el que se realizó=%{x}<br>Gasto realizado[$]=%{y}<extra></extra>",
         "legendgroup": "1",
         "line": {
          "color": "#636efa",
          "dash": "solid"
         },
         "marker": {
          "symbol": "circle"
         },
         "mode": "lines+markers",
         "name": "1",
         "orientation": "v",
         "showlegend": true,
         "type": "scatter",
         "x": [
          "2017-06-01",
          "2017-07-01",
          "2017-08-01",
          "2017-09-01",
          "2017-10-01",
          "2017-11-01",
          "2017-12-01",
          "2018-01-01",
          "2018-02-01",
          "2018-03-01",
          "2018-04-01",
          "2018-05-01"
         ],
         "xaxis": "x",
         "y": [
          1125.61,
          1072.88,
          951.81,
          1502.01,
          2315.75,
          2445.16,
          2341.2,
          2186.18,
          2204.48,
          1893.09,
          1327.49,
          1467.61
         ],
         "yaxis": "y"
        },
        {
         "hovertemplate": "ID de la fuente=2<br>Mes en el que se realizó=%{x}<br>Gasto realizado[$]=%{y}<extra></extra>",
         "legendgroup": "2",
         "line": {
          "color": "#EF553B",
          "dash": "solid"
         },
         "marker": {
          "symbol": "diamond"
         },
         "mode": "lines+markers",
         "name": "2",
         "orientation": "v",
         "showlegend": true,
         "type": "scatter",
         "x": [
          "2017-06-01",
          "2017-07-01",
          "2017-08-01",
          "2017-09-01",
          "2017-10-01",
          "2017-11-01",
          "2017-12-01",
          "2018-01-01",
          "2018-02-01",
          "2018-03-01",
          "2018-04-01",
          "2018-05-01"
         ],
         "xaxis": "x",
         "y": [
          2427.38,
          2333.11,
          1811.05,
          2985.66,
          4845,
          5247.68,
          4897.8,
          4157.74,
          4474.34,
          3943.14,
          2993.7,
          2689.44
         ],
         "yaxis": "y"
        },
        {
         "hovertemplate": "ID de la fuente=3<br>Mes en el que se realizó=%{x}<br>Gasto realizado[$]=%{y}<extra></extra>",
         "legendgroup": "3",
         "line": {
          "color": "#00cc96",
          "dash": "solid"
         },
         "marker": {
          "symbol": "square"
         },
         "mode": "lines+markers",
         "name": "3",
         "orientation": "v",
         "showlegend": true,
         "type": "scatter",
         "x": [
          "2017-06-01",
          "2017-07-01",
          "2017-08-01",
          "2017-09-01",
          "2017-10-01",
          "2017-11-01",
          "2017-12-01",
          "2018-01-01",
          "2018-02-01",
          "2018-03-01",
          "2018-04-01",
          "2018-05-01"
         ],
         "xaxis": "x",
         "y": [
          7731.65,
          7674.37,
          6143.54,
          9963.55,
          15737.24,
          17025.34,
          16219.52,
          14808.78,
          14228.56,
          13080.85,
          9296.81,
          9411.42
         ],
         "yaxis": "y"
        },
        {
         "hovertemplate": "ID de la fuente=4<br>Mes en el que se realizó=%{x}<br>Gasto realizado[$]=%{y}<extra></extra>",
         "legendgroup": "4",
         "line": {
          "color": "#ab63fa",
          "dash": "solid"
         },
         "marker": {
          "symbol": "x"
         },
         "mode": "lines+markers",
         "name": "4",
         "orientation": "v",
         "showlegend": true,
         "type": "scatter",
         "x": [
          "2017-06-01",
          "2017-07-01",
          "2017-08-01",
          "2017-09-01",
          "2017-10-01",
          "2017-11-01",
          "2017-12-01",
          "2018-01-01",
          "2018-02-01",
          "2018-03-01",
          "2018-04-01",
          "2018-05-01"
         ],
         "xaxis": "x",
         "y": [
          3514.8,
          3529.73,
          3217.36,
          5192.26,
          6420.84,
          5388.82,
          7680.47,
          5832.79,
          5711.96,
          5961.87,
          4408.49,
          4214.21
         ],
         "yaxis": "y"
        },
        {
         "hovertemplate": "ID de la fuente=5<br>Mes en el que se realizó=%{x}<br>Gasto realizado[$]=%{y}<extra></extra>",
         "legendgroup": "5",
         "line": {
          "color": "#FFA15A",
          "dash": "solid"
         },
         "marker": {
          "symbol": "cross"
         },
         "mode": "lines+markers",
         "name": "5",
         "orientation": "v",
         "showlegend": true,
         "type": "scatter",
         "x": [
          "2017-06-01",
          "2017-07-01",
          "2017-08-01",
          "2017-09-01",
          "2017-10-01",
          "2017-11-01",
          "2017-12-01",
          "2018-01-01",
          "2018-02-01",
          "2018-03-01",
          "2018-04-01",
          "2018-05-01"
         ],
         "xaxis": "x",
         "y": [
          2616.12,
          2998.14,
          2185.28,
          3849.14,
          5767.4,
          6325.34,
          5872.52,
          5371.52,
          5071.31,
          4529.62,
          3501.15,
          3669.56
         ],
         "yaxis": "y"
        },
        {
         "hovertemplate": "ID de la fuente=9<br>Mes en el que se realizó=%{x}<br>Gasto realizado[$]=%{y}<extra></extra>",
         "legendgroup": "9",
         "line": {
          "color": "#19d3f3",
          "dash": "solid"
         },
         "marker": {
          "symbol": "circle"
         },
         "mode": "lines+markers",
         "name": "9",
         "orientation": "v",
         "showlegend": true,
         "type": "scatter",
         "x": [
          "2017-06-01",
          "2017-07-01",
          "2017-08-01",
          "2017-09-01",
          "2017-10-01",
          "2017-11-01",
          "2017-12-01",
          "2018-01-01",
          "2018-02-01",
          "2018-03-01",
          "2018-04-01",
          "2018-05-01"
         ],
         "xaxis": "x",
         "y": [
          285.22,
          302.54,
          248.93,
          415.62,
          609.41,
          683.18,
          657.98,
          547.16,
          551.5,
          480.29,
          373.49,
          362.17
         ],
         "yaxis": "y"
        },
        {
         "hovertemplate": "ID de la fuente=10<br>Mes en el que se realizó=%{x}<br>Gasto realizado[$]=%{y}<extra></extra>",
         "legendgroup": "10",
         "line": {
          "color": "#FF6692",
          "dash": "solid"
         },
         "marker": {
          "symbol": "diamond"
         },
         "mode": "lines+markers",
         "name": "10",
         "orientation": "v",
         "showlegend": true,
         "type": "scatter",
         "x": [
          "2017-06-01",
          "2017-07-01",
          "2017-08-01",
          "2017-09-01",
          "2017-10-01",
          "2017-11-01",
          "2017-12-01",
          "2018-01-01",
          "2018-02-01",
          "2018-03-01",
          "2018-04-01",
          "2018-05-01"
         ],
         "xaxis": "x",
         "y": [
          314.22,
          329.82,
          232.57,
          460.67,
          627.24,
          792.36,
          645.86,
          614.35,
          480.88,
          526.41,
          388.25,
          409.86
         ],
         "yaxis": "y"
        }
       ],
       "layout": {
        "legend": {
         "title": {
          "text": "ID de la fuente"
         },
         "tracegroupgap": 0
        },
        "template": {
         "data": {
          "bar": [
           {
            "error_x": {
             "color": "#2a3f5f"
            },
            "error_y": {
             "color": "#2a3f5f"
            },
            "marker": {
             "line": {
              "color": "#E5ECF6",
              "width": 0.5
             },
             "pattern": {
              "fillmode": "overlay",
              "size": 10,
              "solidity": 0.2
             }
            },
            "type": "bar"
           }
          ],
          "barpolar": [
           {
            "marker": {
             "line": {
              "color": "#E5ECF6",
              "width": 0.5
             },
             "pattern": {
              "fillmode": "overlay",
              "size": 10,
              "solidity": 0.2
             }
            },
            "type": "barpolar"
           }
          ],
          "carpet": [
           {
            "aaxis": {
             "endlinecolor": "#2a3f5f",
             "gridcolor": "white",
             "linecolor": "white",
             "minorgridcolor": "white",
             "startlinecolor": "#2a3f5f"
            },
            "baxis": {
             "endlinecolor": "#2a3f5f",
             "gridcolor": "white",
             "linecolor": "white",
             "minorgridcolor": "white",
             "startlinecolor": "#2a3f5f"
            },
            "type": "carpet"
           }
          ],
          "choropleth": [
           {
            "colorbar": {
             "outlinewidth": 0,
             "ticks": ""
            },
            "type": "choropleth"
           }
          ],
          "contour": [
           {
            "colorbar": {
             "outlinewidth": 0,
             "ticks": ""
            },
            "colorscale": [
             [
              0,
              "#0d0887"
             ],
             [
              0.1111111111111111,
              "#46039f"
             ],
             [
              0.2222222222222222,
              "#7201a8"
             ],
             [
              0.3333333333333333,
              "#9c179e"
             ],
             [
              0.4444444444444444,
              "#bd3786"
             ],
             [
              0.5555555555555556,
              "#d8576b"
             ],
             [
              0.6666666666666666,
              "#ed7953"
             ],
             [
              0.7777777777777778,
              "#fb9f3a"
             ],
             [
              0.8888888888888888,
              "#fdca26"
             ],
             [
              1,
              "#f0f921"
             ]
            ],
            "type": "contour"
           }
          ],
          "contourcarpet": [
           {
            "colorbar": {
             "outlinewidth": 0,
             "ticks": ""
            },
            "type": "contourcarpet"
           }
          ],
          "heatmap": [
           {
            "colorbar": {
             "outlinewidth": 0,
             "ticks": ""
            },
            "colorscale": [
             [
              0,
              "#0d0887"
             ],
             [
              0.1111111111111111,
              "#46039f"
             ],
             [
              0.2222222222222222,
              "#7201a8"
             ],
             [
              0.3333333333333333,
              "#9c179e"
             ],
             [
              0.4444444444444444,
              "#bd3786"
             ],
             [
              0.5555555555555556,
              "#d8576b"
             ],
             [
              0.6666666666666666,
              "#ed7953"
             ],
             [
              0.7777777777777778,
              "#fb9f3a"
             ],
             [
              0.8888888888888888,
              "#fdca26"
             ],
             [
              1,
              "#f0f921"
             ]
            ],
            "type": "heatmap"
           }
          ],
          "heatmapgl": [
           {
            "colorbar": {
             "outlinewidth": 0,
             "ticks": ""
            },
            "colorscale": [
             [
              0,
              "#0d0887"
             ],
             [
              0.1111111111111111,
              "#46039f"
             ],
             [
              0.2222222222222222,
              "#7201a8"
             ],
             [
              0.3333333333333333,
              "#9c179e"
             ],
             [
              0.4444444444444444,
              "#bd3786"
             ],
             [
              0.5555555555555556,
              "#d8576b"
             ],
             [
              0.6666666666666666,
              "#ed7953"
             ],
             [
              0.7777777777777778,
              "#fb9f3a"
             ],
             [
              0.8888888888888888,
              "#fdca26"
             ],
             [
              1,
              "#f0f921"
             ]
            ],
            "type": "heatmapgl"
           }
          ],
          "histogram": [
           {
            "marker": {
             "pattern": {
              "fillmode": "overlay",
              "size": 10,
              "solidity": 0.2
             }
            },
            "type": "histogram"
           }
          ],
          "histogram2d": [
           {
            "colorbar": {
             "outlinewidth": 0,
             "ticks": ""
            },
            "colorscale": [
             [
              0,
              "#0d0887"
             ],
             [
              0.1111111111111111,
              "#46039f"
             ],
             [
              0.2222222222222222,
              "#7201a8"
             ],
             [
              0.3333333333333333,
              "#9c179e"
             ],
             [
              0.4444444444444444,
              "#bd3786"
             ],
             [
              0.5555555555555556,
              "#d8576b"
             ],
             [
              0.6666666666666666,
              "#ed7953"
             ],
             [
              0.7777777777777778,
              "#fb9f3a"
             ],
             [
              0.8888888888888888,
              "#fdca26"
             ],
             [
              1,
              "#f0f921"
             ]
            ],
            "type": "histogram2d"
           }
          ],
          "histogram2dcontour": [
           {
            "colorbar": {
             "outlinewidth": 0,
             "ticks": ""
            },
            "colorscale": [
             [
              0,
              "#0d0887"
             ],
             [
              0.1111111111111111,
              "#46039f"
             ],
             [
              0.2222222222222222,
              "#7201a8"
             ],
             [
              0.3333333333333333,
              "#9c179e"
             ],
             [
              0.4444444444444444,
              "#bd3786"
             ],
             [
              0.5555555555555556,
              "#d8576b"
             ],
             [
              0.6666666666666666,
              "#ed7953"
             ],
             [
              0.7777777777777778,
              "#fb9f3a"
             ],
             [
              0.8888888888888888,
              "#fdca26"
             ],
             [
              1,
              "#f0f921"
             ]
            ],
            "type": "histogram2dcontour"
           }
          ],
          "mesh3d": [
           {
            "colorbar": {
             "outlinewidth": 0,
             "ticks": ""
            },
            "type": "mesh3d"
           }
          ],
          "parcoords": [
           {
            "line": {
             "colorbar": {
              "outlinewidth": 0,
              "ticks": ""
             }
            },
            "type": "parcoords"
           }
          ],
          "pie": [
           {
            "automargin": true,
            "type": "pie"
           }
          ],
          "scatter": [
           {
            "fillpattern": {
             "fillmode": "overlay",
             "size": 10,
             "solidity": 0.2
            },
            "type": "scatter"
           }
          ],
          "scatter3d": [
           {
            "line": {
             "colorbar": {
              "outlinewidth": 0,
              "ticks": ""
             }
            },
            "marker": {
             "colorbar": {
              "outlinewidth": 0,
              "ticks": ""
             }
            },
            "type": "scatter3d"
           }
          ],
          "scattercarpet": [
           {
            "marker": {
             "colorbar": {
              "outlinewidth": 0,
              "ticks": ""
             }
            },
            "type": "scattercarpet"
           }
          ],
          "scattergeo": [
           {
            "marker": {
             "colorbar": {
              "outlinewidth": 0,
              "ticks": ""
             }
            },
            "type": "scattergeo"
           }
          ],
          "scattergl": [
           {
            "marker": {
             "colorbar": {
              "outlinewidth": 0,
              "ticks": ""
             }
            },
            "type": "scattergl"
           }
          ],
          "scattermapbox": [
           {
            "marker": {
             "colorbar": {
              "outlinewidth": 0,
              "ticks": ""
             }
            },
            "type": "scattermapbox"
           }
          ],
          "scatterpolar": [
           {
            "marker": {
             "colorbar": {
              "outlinewidth": 0,
              "ticks": ""
             }
            },
            "type": "scatterpolar"
           }
          ],
          "scatterpolargl": [
           {
            "marker": {
             "colorbar": {
              "outlinewidth": 0,
              "ticks": ""
             }
            },
            "type": "scatterpolargl"
           }
          ],
          "scatterternary": [
           {
            "marker": {
             "colorbar": {
              "outlinewidth": 0,
              "ticks": ""
             }
            },
            "type": "scatterternary"
           }
          ],
          "surface": [
           {
            "colorbar": {
             "outlinewidth": 0,
             "ticks": ""
            },
            "colorscale": [
             [
              0,
              "#0d0887"
             ],
             [
              0.1111111111111111,
              "#46039f"
             ],
             [
              0.2222222222222222,
              "#7201a8"
             ],
             [
              0.3333333333333333,
              "#9c179e"
             ],
             [
              0.4444444444444444,
              "#bd3786"
             ],
             [
              0.5555555555555556,
              "#d8576b"
             ],
             [
              0.6666666666666666,
              "#ed7953"
             ],
             [
              0.7777777777777778,
              "#fb9f3a"
             ],
             [
              0.8888888888888888,
              "#fdca26"
             ],
             [
              1,
              "#f0f921"
             ]
            ],
            "type": "surface"
           }
          ],
          "table": [
           {
            "cells": {
             "fill": {
              "color": "#EBF0F8"
             },
             "line": {
              "color": "white"
             }
            },
            "header": {
             "fill": {
              "color": "#C8D4E3"
             },
             "line": {
              "color": "white"
             }
            },
            "type": "table"
           }
          ]
         },
         "layout": {
          "annotationdefaults": {
           "arrowcolor": "#2a3f5f",
           "arrowhead": 0,
           "arrowwidth": 1
          },
          "autotypenumbers": "strict",
          "coloraxis": {
           "colorbar": {
            "outlinewidth": 0,
            "ticks": ""
           }
          },
          "colorscale": {
           "diverging": [
            [
             0,
             "#8e0152"
            ],
            [
             0.1,
             "#c51b7d"
            ],
            [
             0.2,
             "#de77ae"
            ],
            [
             0.3,
             "#f1b6da"
            ],
            [
             0.4,
             "#fde0ef"
            ],
            [
             0.5,
             "#f7f7f7"
            ],
            [
             0.6,
             "#e6f5d0"
            ],
            [
             0.7,
             "#b8e186"
            ],
            [
             0.8,
             "#7fbc41"
            ],
            [
             0.9,
             "#4d9221"
            ],
            [
             1,
             "#276419"
            ]
           ],
           "sequential": [
            [
             0,
             "#0d0887"
            ],
            [
             0.1111111111111111,
             "#46039f"
            ],
            [
             0.2222222222222222,
             "#7201a8"
            ],
            [
             0.3333333333333333,
             "#9c179e"
            ],
            [
             0.4444444444444444,
             "#bd3786"
            ],
            [
             0.5555555555555556,
             "#d8576b"
            ],
            [
             0.6666666666666666,
             "#ed7953"
            ],
            [
             0.7777777777777778,
             "#fb9f3a"
            ],
            [
             0.8888888888888888,
             "#fdca26"
            ],
            [
             1,
             "#f0f921"
            ]
           ],
           "sequentialminus": [
            [
             0,
             "#0d0887"
            ],
            [
             0.1111111111111111,
             "#46039f"
            ],
            [
             0.2222222222222222,
             "#7201a8"
            ],
            [
             0.3333333333333333,
             "#9c179e"
            ],
            [
             0.4444444444444444,
             "#bd3786"
            ],
            [
             0.5555555555555556,
             "#d8576b"
            ],
            [
             0.6666666666666666,
             "#ed7953"
            ],
            [
             0.7777777777777778,
             "#fb9f3a"
            ],
            [
             0.8888888888888888,
             "#fdca26"
            ],
            [
             1,
             "#f0f921"
            ]
           ]
          },
          "colorway": [
           "#636efa",
           "#EF553B",
           "#00cc96",
           "#ab63fa",
           "#FFA15A",
           "#19d3f3",
           "#FF6692",
           "#B6E880",
           "#FF97FF",
           "#FECB52"
          ],
          "font": {
           "color": "#2a3f5f"
          },
          "geo": {
           "bgcolor": "white",
           "lakecolor": "white",
           "landcolor": "#E5ECF6",
           "showlakes": true,
           "showland": true,
           "subunitcolor": "white"
          },
          "hoverlabel": {
           "align": "left"
          },
          "hovermode": "closest",
          "mapbox": {
           "style": "light"
          },
          "paper_bgcolor": "white",
          "plot_bgcolor": "#E5ECF6",
          "polar": {
           "angularaxis": {
            "gridcolor": "white",
            "linecolor": "white",
            "ticks": ""
           },
           "bgcolor": "#E5ECF6",
           "radialaxis": {
            "gridcolor": "white",
            "linecolor": "white",
            "ticks": ""
           }
          },
          "scene": {
           "xaxis": {
            "backgroundcolor": "#E5ECF6",
            "gridcolor": "white",
            "gridwidth": 2,
            "linecolor": "white",
            "showbackground": true,
            "ticks": "",
            "zerolinecolor": "white"
           },
           "yaxis": {
            "backgroundcolor": "#E5ECF6",
            "gridcolor": "white",
            "gridwidth": 2,
            "linecolor": "white",
            "showbackground": true,
            "ticks": "",
            "zerolinecolor": "white"
           },
           "zaxis": {
            "backgroundcolor": "#E5ECF6",
            "gridcolor": "white",
            "gridwidth": 2,
            "linecolor": "white",
            "showbackground": true,
            "ticks": "",
            "zerolinecolor": "white"
           }
          },
          "shapedefaults": {
           "line": {
            "color": "#2a3f5f"
           }
          },
          "ternary": {
           "aaxis": {
            "gridcolor": "white",
            "linecolor": "white",
            "ticks": ""
           },
           "baxis": {
            "gridcolor": "white",
            "linecolor": "white",
            "ticks": ""
           },
           "bgcolor": "#E5ECF6",
           "caxis": {
            "gridcolor": "white",
            "linecolor": "white",
            "ticks": ""
           }
          },
          "title": {
           "x": 0.05
          },
          "xaxis": {
           "automargin": true,
           "gridcolor": "white",
           "linecolor": "white",
           "ticks": "",
           "title": {
            "standoff": 15
           },
           "zerolinecolor": "white",
           "zerolinewidth": 2
          },
          "yaxis": {
           "automargin": true,
           "gridcolor": "white",
           "linecolor": "white",
           "ticks": "",
           "title": {
            "standoff": 15
           },
           "zerolinecolor": "white",
           "zerolinewidth": 2
          }
         }
        },
        "title": {
         "text": "Costos mensuales de cada fuente de adquisición"
        },
        "xaxis": {
         "anchor": "y",
         "domain": [
          0,
          1
         ],
         "title": {
          "text": "Mes en el que se realizó"
         }
        },
        "yaxis": {
         "anchor": "x",
         "domain": [
          0,
          1
         ],
         "title": {
          "text": "Gasto realizado[$]"
         }
        }
       }
      }
     },
     "metadata": {},
     "output_type": "display_data"
    }
   ],
   "source": [
    "#Creamos una figura para mostrar los costos mensuales de cada fuente.\n",
    "fig_3 = px.line(costs_per_month.reset_index(),\n",
    "                x='date_month',y='costs',\n",
    "                symbol='source_id',\n",
    "                color='source_id',\n",
    "                title='Costos mensuales de cada fuente de adquisición',\n",
    "                labels={'costs': 'Gasto realizado[$]', 'date_month':'Mes en el que se realizó','source_id':'ID de la fuente'})\n",
    "fig_3.show()"
   ]
  },
  {
   "cell_type": "markdown",
   "metadata": {},
   "source": [
    "Observamos que la fuente de adquisición 3 es la que más gastos mensuales presenta durante todo nuestro análsis, teniendo un gasto mínimo de 6000 dólares en agosto de 2017 y teniendo un gasto máximo en noviembre de 2017. Las fuentes que menos gastos significaron fueron la 9 y 10 siendo menos de 500 dólares mensuales en cada una. Por último, notamos que todas las fuentes presentan una pequeña baja en agosto de 2017 y posteriormente suben paulatinamente los costos alcanzando un máximo en noviembre y diciembre de 2017, a partir de ahí empiezan a decaer hasta llegar a un mínimo en abril de 2017.  "
   ]
  },
  {
   "cell_type": "code",
   "execution_count": 68,
   "metadata": {},
   "outputs": [
    {
     "data": {
      "application/vnd.plotly.v1+json": {
       "config": {
        "plotlyServerURL": "https://plot.ly"
       },
       "data": [
        {
         "alignmentgroup": "True",
         "hovertemplate": "Fuente de adquisición=%{x}<br>Gasto realizado[$]=%{text}<extra></extra>",
         "legendgroup": "1",
         "marker": {
          "color": "#636efa",
          "pattern": {
           "shape": ""
          }
         },
         "name": "1",
         "offsetgroup": "1",
         "orientation": "v",
         "showlegend": true,
         "text": [
          20833.27
         ],
         "textposition": "auto",
         "type": "bar",
         "x": [
          "1"
         ],
         "xaxis": "x",
         "y": [
          20833.27
         ],
         "yaxis": "y"
        },
        {
         "alignmentgroup": "True",
         "hovertemplate": "Fuente de adquisición=%{x}<br>Gasto realizado[$]=%{text}<extra></extra>",
         "legendgroup": "2",
         "marker": {
          "color": "#EF553B",
          "pattern": {
           "shape": ""
          }
         },
         "name": "2",
         "offsetgroup": "2",
         "orientation": "v",
         "showlegend": true,
         "text": [
          42806.04
         ],
         "textposition": "auto",
         "type": "bar",
         "x": [
          "2"
         ],
         "xaxis": "x",
         "y": [
          42806.04
         ],
         "yaxis": "y"
        },
        {
         "alignmentgroup": "True",
         "hovertemplate": "Fuente de adquisición=%{x}<br>Gasto realizado[$]=%{text}<extra></extra>",
         "legendgroup": "3",
         "marker": {
          "color": "#00cc96",
          "pattern": {
           "shape": ""
          }
         },
         "name": "3",
         "offsetgroup": "3",
         "orientation": "v",
         "showlegend": true,
         "text": [
          141321.63
         ],
         "textposition": "auto",
         "type": "bar",
         "x": [
          "3"
         ],
         "xaxis": "x",
         "y": [
          141321.63
         ],
         "yaxis": "y"
        },
        {
         "alignmentgroup": "True",
         "hovertemplate": "Fuente de adquisición=%{x}<br>Gasto realizado[$]=%{text}<extra></extra>",
         "legendgroup": "4",
         "marker": {
          "color": "#ab63fa",
          "pattern": {
           "shape": ""
          }
         },
         "name": "4",
         "offsetgroup": "4",
         "orientation": "v",
         "showlegend": true,
         "text": [
          61073.6
         ],
         "textposition": "auto",
         "type": "bar",
         "x": [
          "4"
         ],
         "xaxis": "x",
         "y": [
          61073.6
         ],
         "yaxis": "y"
        },
        {
         "alignmentgroup": "True",
         "hovertemplate": "Fuente de adquisición=%{x}<br>Gasto realizado[$]=%{text}<extra></extra>",
         "legendgroup": "5",
         "marker": {
          "color": "#FFA15A",
          "pattern": {
           "shape": ""
          }
         },
         "name": "5",
         "offsetgroup": "5",
         "orientation": "v",
         "showlegend": true,
         "text": [
          51757.1
         ],
         "textposition": "auto",
         "type": "bar",
         "x": [
          "5"
         ],
         "xaxis": "x",
         "y": [
          51757.1
         ],
         "yaxis": "y"
        },
        {
         "alignmentgroup": "True",
         "hovertemplate": "Fuente de adquisición=%{x}<br>Gasto realizado[$]=%{text}<extra></extra>",
         "legendgroup": "9",
         "marker": {
          "color": "#19d3f3",
          "pattern": {
           "shape": ""
          }
         },
         "name": "9",
         "offsetgroup": "9",
         "orientation": "v",
         "showlegend": true,
         "text": [
          5517.49
         ],
         "textposition": "auto",
         "type": "bar",
         "x": [
          "9"
         ],
         "xaxis": "x",
         "y": [
          5517.49
         ],
         "yaxis": "y"
        },
        {
         "alignmentgroup": "True",
         "hovertemplate": "Fuente de adquisición=%{x}<br>Gasto realizado[$]=%{text}<extra></extra>",
         "legendgroup": "10",
         "marker": {
          "color": "#FF6692",
          "pattern": {
           "shape": ""
          }
         },
         "name": "10",
         "offsetgroup": "10",
         "orientation": "v",
         "showlegend": true,
         "text": [
          5822.49
         ],
         "textposition": "auto",
         "type": "bar",
         "x": [
          "10"
         ],
         "xaxis": "x",
         "y": [
          5822.49
         ],
         "yaxis": "y"
        }
       ],
       "layout": {
        "barmode": "relative",
        "legend": {
         "title": {
          "text": "Fuente de adquisición"
         },
         "tracegroupgap": 0
        },
        "template": {
         "data": {
          "bar": [
           {
            "error_x": {
             "color": "#2a3f5f"
            },
            "error_y": {
             "color": "#2a3f5f"
            },
            "marker": {
             "line": {
              "color": "#E5ECF6",
              "width": 0.5
             },
             "pattern": {
              "fillmode": "overlay",
              "size": 10,
              "solidity": 0.2
             }
            },
            "type": "bar"
           }
          ],
          "barpolar": [
           {
            "marker": {
             "line": {
              "color": "#E5ECF6",
              "width": 0.5
             },
             "pattern": {
              "fillmode": "overlay",
              "size": 10,
              "solidity": 0.2
             }
            },
            "type": "barpolar"
           }
          ],
          "carpet": [
           {
            "aaxis": {
             "endlinecolor": "#2a3f5f",
             "gridcolor": "white",
             "linecolor": "white",
             "minorgridcolor": "white",
             "startlinecolor": "#2a3f5f"
            },
            "baxis": {
             "endlinecolor": "#2a3f5f",
             "gridcolor": "white",
             "linecolor": "white",
             "minorgridcolor": "white",
             "startlinecolor": "#2a3f5f"
            },
            "type": "carpet"
           }
          ],
          "choropleth": [
           {
            "colorbar": {
             "outlinewidth": 0,
             "ticks": ""
            },
            "type": "choropleth"
           }
          ],
          "contour": [
           {
            "colorbar": {
             "outlinewidth": 0,
             "ticks": ""
            },
            "colorscale": [
             [
              0,
              "#0d0887"
             ],
             [
              0.1111111111111111,
              "#46039f"
             ],
             [
              0.2222222222222222,
              "#7201a8"
             ],
             [
              0.3333333333333333,
              "#9c179e"
             ],
             [
              0.4444444444444444,
              "#bd3786"
             ],
             [
              0.5555555555555556,
              "#d8576b"
             ],
             [
              0.6666666666666666,
              "#ed7953"
             ],
             [
              0.7777777777777778,
              "#fb9f3a"
             ],
             [
              0.8888888888888888,
              "#fdca26"
             ],
             [
              1,
              "#f0f921"
             ]
            ],
            "type": "contour"
           }
          ],
          "contourcarpet": [
           {
            "colorbar": {
             "outlinewidth": 0,
             "ticks": ""
            },
            "type": "contourcarpet"
           }
          ],
          "heatmap": [
           {
            "colorbar": {
             "outlinewidth": 0,
             "ticks": ""
            },
            "colorscale": [
             [
              0,
              "#0d0887"
             ],
             [
              0.1111111111111111,
              "#46039f"
             ],
             [
              0.2222222222222222,
              "#7201a8"
             ],
             [
              0.3333333333333333,
              "#9c179e"
             ],
             [
              0.4444444444444444,
              "#bd3786"
             ],
             [
              0.5555555555555556,
              "#d8576b"
             ],
             [
              0.6666666666666666,
              "#ed7953"
             ],
             [
              0.7777777777777778,
              "#fb9f3a"
             ],
             [
              0.8888888888888888,
              "#fdca26"
             ],
             [
              1,
              "#f0f921"
             ]
            ],
            "type": "heatmap"
           }
          ],
          "heatmapgl": [
           {
            "colorbar": {
             "outlinewidth": 0,
             "ticks": ""
            },
            "colorscale": [
             [
              0,
              "#0d0887"
             ],
             [
              0.1111111111111111,
              "#46039f"
             ],
             [
              0.2222222222222222,
              "#7201a8"
             ],
             [
              0.3333333333333333,
              "#9c179e"
             ],
             [
              0.4444444444444444,
              "#bd3786"
             ],
             [
              0.5555555555555556,
              "#d8576b"
             ],
             [
              0.6666666666666666,
              "#ed7953"
             ],
             [
              0.7777777777777778,
              "#fb9f3a"
             ],
             [
              0.8888888888888888,
              "#fdca26"
             ],
             [
              1,
              "#f0f921"
             ]
            ],
            "type": "heatmapgl"
           }
          ],
          "histogram": [
           {
            "marker": {
             "pattern": {
              "fillmode": "overlay",
              "size": 10,
              "solidity": 0.2
             }
            },
            "type": "histogram"
           }
          ],
          "histogram2d": [
           {
            "colorbar": {
             "outlinewidth": 0,
             "ticks": ""
            },
            "colorscale": [
             [
              0,
              "#0d0887"
             ],
             [
              0.1111111111111111,
              "#46039f"
             ],
             [
              0.2222222222222222,
              "#7201a8"
             ],
             [
              0.3333333333333333,
              "#9c179e"
             ],
             [
              0.4444444444444444,
              "#bd3786"
             ],
             [
              0.5555555555555556,
              "#d8576b"
             ],
             [
              0.6666666666666666,
              "#ed7953"
             ],
             [
              0.7777777777777778,
              "#fb9f3a"
             ],
             [
              0.8888888888888888,
              "#fdca26"
             ],
             [
              1,
              "#f0f921"
             ]
            ],
            "type": "histogram2d"
           }
          ],
          "histogram2dcontour": [
           {
            "colorbar": {
             "outlinewidth": 0,
             "ticks": ""
            },
            "colorscale": [
             [
              0,
              "#0d0887"
             ],
             [
              0.1111111111111111,
              "#46039f"
             ],
             [
              0.2222222222222222,
              "#7201a8"
             ],
             [
              0.3333333333333333,
              "#9c179e"
             ],
             [
              0.4444444444444444,
              "#bd3786"
             ],
             [
              0.5555555555555556,
              "#d8576b"
             ],
             [
              0.6666666666666666,
              "#ed7953"
             ],
             [
              0.7777777777777778,
              "#fb9f3a"
             ],
             [
              0.8888888888888888,
              "#fdca26"
             ],
             [
              1,
              "#f0f921"
             ]
            ],
            "type": "histogram2dcontour"
           }
          ],
          "mesh3d": [
           {
            "colorbar": {
             "outlinewidth": 0,
             "ticks": ""
            },
            "type": "mesh3d"
           }
          ],
          "parcoords": [
           {
            "line": {
             "colorbar": {
              "outlinewidth": 0,
              "ticks": ""
             }
            },
            "type": "parcoords"
           }
          ],
          "pie": [
           {
            "automargin": true,
            "type": "pie"
           }
          ],
          "scatter": [
           {
            "fillpattern": {
             "fillmode": "overlay",
             "size": 10,
             "solidity": 0.2
            },
            "type": "scatter"
           }
          ],
          "scatter3d": [
           {
            "line": {
             "colorbar": {
              "outlinewidth": 0,
              "ticks": ""
             }
            },
            "marker": {
             "colorbar": {
              "outlinewidth": 0,
              "ticks": ""
             }
            },
            "type": "scatter3d"
           }
          ],
          "scattercarpet": [
           {
            "marker": {
             "colorbar": {
              "outlinewidth": 0,
              "ticks": ""
             }
            },
            "type": "scattercarpet"
           }
          ],
          "scattergeo": [
           {
            "marker": {
             "colorbar": {
              "outlinewidth": 0,
              "ticks": ""
             }
            },
            "type": "scattergeo"
           }
          ],
          "scattergl": [
           {
            "marker": {
             "colorbar": {
              "outlinewidth": 0,
              "ticks": ""
             }
            },
            "type": "scattergl"
           }
          ],
          "scattermapbox": [
           {
            "marker": {
             "colorbar": {
              "outlinewidth": 0,
              "ticks": ""
             }
            },
            "type": "scattermapbox"
           }
          ],
          "scatterpolar": [
           {
            "marker": {
             "colorbar": {
              "outlinewidth": 0,
              "ticks": ""
             }
            },
            "type": "scatterpolar"
           }
          ],
          "scatterpolargl": [
           {
            "marker": {
             "colorbar": {
              "outlinewidth": 0,
              "ticks": ""
             }
            },
            "type": "scatterpolargl"
           }
          ],
          "scatterternary": [
           {
            "marker": {
             "colorbar": {
              "outlinewidth": 0,
              "ticks": ""
             }
            },
            "type": "scatterternary"
           }
          ],
          "surface": [
           {
            "colorbar": {
             "outlinewidth": 0,
             "ticks": ""
            },
            "colorscale": [
             [
              0,
              "#0d0887"
             ],
             [
              0.1111111111111111,
              "#46039f"
             ],
             [
              0.2222222222222222,
              "#7201a8"
             ],
             [
              0.3333333333333333,
              "#9c179e"
             ],
             [
              0.4444444444444444,
              "#bd3786"
             ],
             [
              0.5555555555555556,
              "#d8576b"
             ],
             [
              0.6666666666666666,
              "#ed7953"
             ],
             [
              0.7777777777777778,
              "#fb9f3a"
             ],
             [
              0.8888888888888888,
              "#fdca26"
             ],
             [
              1,
              "#f0f921"
             ]
            ],
            "type": "surface"
           }
          ],
          "table": [
           {
            "cells": {
             "fill": {
              "color": "#EBF0F8"
             },
             "line": {
              "color": "white"
             }
            },
            "header": {
             "fill": {
              "color": "#C8D4E3"
             },
             "line": {
              "color": "white"
             }
            },
            "type": "table"
           }
          ]
         },
         "layout": {
          "annotationdefaults": {
           "arrowcolor": "#2a3f5f",
           "arrowhead": 0,
           "arrowwidth": 1
          },
          "autotypenumbers": "strict",
          "coloraxis": {
           "colorbar": {
            "outlinewidth": 0,
            "ticks": ""
           }
          },
          "colorscale": {
           "diverging": [
            [
             0,
             "#8e0152"
            ],
            [
             0.1,
             "#c51b7d"
            ],
            [
             0.2,
             "#de77ae"
            ],
            [
             0.3,
             "#f1b6da"
            ],
            [
             0.4,
             "#fde0ef"
            ],
            [
             0.5,
             "#f7f7f7"
            ],
            [
             0.6,
             "#e6f5d0"
            ],
            [
             0.7,
             "#b8e186"
            ],
            [
             0.8,
             "#7fbc41"
            ],
            [
             0.9,
             "#4d9221"
            ],
            [
             1,
             "#276419"
            ]
           ],
           "sequential": [
            [
             0,
             "#0d0887"
            ],
            [
             0.1111111111111111,
             "#46039f"
            ],
            [
             0.2222222222222222,
             "#7201a8"
            ],
            [
             0.3333333333333333,
             "#9c179e"
            ],
            [
             0.4444444444444444,
             "#bd3786"
            ],
            [
             0.5555555555555556,
             "#d8576b"
            ],
            [
             0.6666666666666666,
             "#ed7953"
            ],
            [
             0.7777777777777778,
             "#fb9f3a"
            ],
            [
             0.8888888888888888,
             "#fdca26"
            ],
            [
             1,
             "#f0f921"
            ]
           ],
           "sequentialminus": [
            [
             0,
             "#0d0887"
            ],
            [
             0.1111111111111111,
             "#46039f"
            ],
            [
             0.2222222222222222,
             "#7201a8"
            ],
            [
             0.3333333333333333,
             "#9c179e"
            ],
            [
             0.4444444444444444,
             "#bd3786"
            ],
            [
             0.5555555555555556,
             "#d8576b"
            ],
            [
             0.6666666666666666,
             "#ed7953"
            ],
            [
             0.7777777777777778,
             "#fb9f3a"
            ],
            [
             0.8888888888888888,
             "#fdca26"
            ],
            [
             1,
             "#f0f921"
            ]
           ]
          },
          "colorway": [
           "#636efa",
           "#EF553B",
           "#00cc96",
           "#ab63fa",
           "#FFA15A",
           "#19d3f3",
           "#FF6692",
           "#B6E880",
           "#FF97FF",
           "#FECB52"
          ],
          "font": {
           "color": "#2a3f5f"
          },
          "geo": {
           "bgcolor": "white",
           "lakecolor": "white",
           "landcolor": "#E5ECF6",
           "showlakes": true,
           "showland": true,
           "subunitcolor": "white"
          },
          "hoverlabel": {
           "align": "left"
          },
          "hovermode": "closest",
          "mapbox": {
           "style": "light"
          },
          "paper_bgcolor": "white",
          "plot_bgcolor": "#E5ECF6",
          "polar": {
           "angularaxis": {
            "gridcolor": "white",
            "linecolor": "white",
            "ticks": ""
           },
           "bgcolor": "#E5ECF6",
           "radialaxis": {
            "gridcolor": "white",
            "linecolor": "white",
            "ticks": ""
           }
          },
          "scene": {
           "xaxis": {
            "backgroundcolor": "#E5ECF6",
            "gridcolor": "white",
            "gridwidth": 2,
            "linecolor": "white",
            "showbackground": true,
            "ticks": "",
            "zerolinecolor": "white"
           },
           "yaxis": {
            "backgroundcolor": "#E5ECF6",
            "gridcolor": "white",
            "gridwidth": 2,
            "linecolor": "white",
            "showbackground": true,
            "ticks": "",
            "zerolinecolor": "white"
           },
           "zaxis": {
            "backgroundcolor": "#E5ECF6",
            "gridcolor": "white",
            "gridwidth": 2,
            "linecolor": "white",
            "showbackground": true,
            "ticks": "",
            "zerolinecolor": "white"
           }
          },
          "shapedefaults": {
           "line": {
            "color": "#2a3f5f"
           }
          },
          "ternary": {
           "aaxis": {
            "gridcolor": "white",
            "linecolor": "white",
            "ticks": ""
           },
           "baxis": {
            "gridcolor": "white",
            "linecolor": "white",
            "ticks": ""
           },
           "bgcolor": "#E5ECF6",
           "caxis": {
            "gridcolor": "white",
            "linecolor": "white",
            "ticks": ""
           }
          },
          "title": {
           "x": 0.05
          },
          "xaxis": {
           "automargin": true,
           "gridcolor": "white",
           "linecolor": "white",
           "ticks": "",
           "title": {
            "standoff": 15
           },
           "zerolinecolor": "white",
           "zerolinewidth": 2
          },
          "yaxis": {
           "automargin": true,
           "gridcolor": "white",
           "linecolor": "white",
           "ticks": "",
           "title": {
            "standoff": 15
           },
           "zerolinecolor": "white",
           "zerolinewidth": 2
          }
         }
        },
        "title": {
         "text": "Costo total de cada fuente de adquisición"
        },
        "xaxis": {
         "anchor": "y",
         "categoryarray": [
          "1",
          "2",
          "3",
          "4",
          "5",
          "9",
          "10"
         ],
         "categoryorder": "array",
         "domain": [
          0,
          1
         ],
         "title": {
          "text": "Fuente de adquisición"
         }
        },
        "yaxis": {
         "anchor": "x",
         "domain": [
          0,
          1
         ],
         "title": {
          "text": "Gasto realizado[$]"
         }
        }
       }
      }
     },
     "metadata": {},
     "output_type": "display_data"
    }
   ],
   "source": [
    "#Figura para mostrar los gastos totales de cada fuente de adquisición\n",
    "fig_4 = px.bar(total_cost,\n",
    "               x='source_id',y='costs', text='costs', \n",
    "               color = 'source_id',\n",
    "               title='Costo total de cada fuente de adquisición',\n",
    "              labels={'source_id': 'Fuente de adquisición', 'costs':'Gasto realizado[$]'})\n",
    "fig_4.show()"
   ]
  },
  {
   "cell_type": "markdown",
   "metadata": {},
   "source": [
    "Como era de esperarse, la fuente de adquisición 3 es la que mayor gasto representa para la empresa, con un total de 141,321 dólares, mientras que las fuentes 9 y 10, solo tuvieron un costo menor a 6,000 dólares cada una. \n",
    "\n",
    "Igual podemos señalar que la fuente de adquisición 3 tiene un costo casi equivalente al de la suma de las fuentes 2, 4 y 5. De esta forma, debemos analizar si el costo de la fuente 3 en verdad está justificado o es necesario reducir costos.\n",
    "\n",
    "\n",
    "\n",
    "#### Costo de adquisición de Clientes (CAC)\n",
    "\n",
    "\n",
    "En esta sección responderemos la pregunta '¿Cuál fue el costo de adquisición de clientes para cada una de las fuentes?'.  "
   ]
  },
  {
   "cell_type": "code",
   "execution_count": 69,
   "metadata": {},
   "outputs": [],
   "source": [
    "#Debemos recuperar los usuarios convertidos para cada fuente\n",
    "#En el DF time_to_first_order tenemos en el índice a los usuarios convertidos\n",
    "#Unimos sobre 'uid' y agregamos 'first_order_date'\n",
    "visits_filtered = visits.merge(time_to_first_order.reset_index()[['uid','first_order_date']],on='uid')\n",
    "#Recuperamos el mes de conversión(primer mes de compra)\n",
    "visits_filtered['first_order_month'] = pd.to_datetime(visits_filtered['first_order_date'],unit='d') - pd.to_timedelta(visits_filtered['first_order_date'].dt.day,unit='d')\n",
    "visits_filtered['first_order_month'] = (visits_filtered['first_order_month'] + np.timedelta64(1,'D')).dt.date\n",
    "#Línea para comprobar resultados\n",
    "#display(visits_filtered)"
   ]
  },
  {
   "cell_type": "code",
   "execution_count": 70,
   "metadata": {},
   "outputs": [],
   "source": [
    "#Obtenemos el número de usuarios TOTALES por fuente:\n",
    "total_users_per_source = visits_filtered.groupby(['source_id']).agg({'uid':'nunique'})\n",
    "#Aparece una fuente 7 pero no tenemos esa informacion en los costos, así que la elminamos\n",
    "total_users_per_source.drop([7], axis=0, inplace=True)\n",
    "total_users_per_source.reset_index(inplace=True)"
   ]
  },
  {
   "cell_type": "code",
   "execution_count": 71,
   "metadata": {},
   "outputs": [
    {
     "data": {
      "text/html": [
       "<div>\n",
       "<style scoped>\n",
       "    .dataframe tbody tr th:only-of-type {\n",
       "        vertical-align: middle;\n",
       "    }\n",
       "\n",
       "    .dataframe tbody tr th {\n",
       "        vertical-align: top;\n",
       "    }\n",
       "\n",
       "    .dataframe thead th {\n",
       "        text-align: right;\n",
       "    }\n",
       "</style>\n",
       "<table border=\"1\" class=\"dataframe\">\n",
       "  <thead>\n",
       "    <tr style=\"text-align: right;\">\n",
       "      <th></th>\n",
       "      <th>source_id</th>\n",
       "      <th>total_cost</th>\n",
       "      <th>total_users</th>\n",
       "      <th>total_cac</th>\n",
       "    </tr>\n",
       "  </thead>\n",
       "  <tbody>\n",
       "    <tr>\n",
       "      <th>0</th>\n",
       "      <td>1</td>\n",
       "      <td>20833.27</td>\n",
       "      <td>7138</td>\n",
       "      <td>2.92</td>\n",
       "    </tr>\n",
       "    <tr>\n",
       "      <th>1</th>\n",
       "      <td>2</td>\n",
       "      <td>42806.04</td>\n",
       "      <td>7305</td>\n",
       "      <td>5.86</td>\n",
       "    </tr>\n",
       "    <tr>\n",
       "      <th>2</th>\n",
       "      <td>3</td>\n",
       "      <td>141321.63</td>\n",
       "      <td>13846</td>\n",
       "      <td>10.21</td>\n",
       "    </tr>\n",
       "    <tr>\n",
       "      <th>3</th>\n",
       "      <td>4</td>\n",
       "      <td>61073.60</td>\n",
       "      <td>14253</td>\n",
       "      <td>4.28</td>\n",
       "    </tr>\n",
       "    <tr>\n",
       "      <th>4</th>\n",
       "      <td>5</td>\n",
       "      <td>51757.10</td>\n",
       "      <td>10156</td>\n",
       "      <td>5.10</td>\n",
       "    </tr>\n",
       "    <tr>\n",
       "      <th>5</th>\n",
       "      <td>9</td>\n",
       "      <td>5517.49</td>\n",
       "      <td>2793</td>\n",
       "      <td>1.98</td>\n",
       "    </tr>\n",
       "    <tr>\n",
       "      <th>6</th>\n",
       "      <td>10</td>\n",
       "      <td>5822.49</td>\n",
       "      <td>1773</td>\n",
       "      <td>3.28</td>\n",
       "    </tr>\n",
       "  </tbody>\n",
       "</table>\n",
       "</div>"
      ],
      "text/plain": [
       "  source_id  total_cost  total_users  total_cac\n",
       "0         1    20833.27         7138       2.92\n",
       "1         2    42806.04         7305       5.86\n",
       "2         3   141321.63        13846      10.21\n",
       "3         4    61073.60        14253       4.28\n",
       "4         5    51757.10        10156       5.10\n",
       "5         9     5517.49         2793       1.98\n",
       "6        10     5822.49         1773       3.28"
      ]
     },
     "metadata": {},
     "output_type": "display_data"
    }
   ],
   "source": [
    "#Calculamos el CAC Total de cada fuente:\n",
    "total_users_per_source['source_id'] = total_users_per_source['source_id'].astype('str')\n",
    "cac_total = total_cost.merge(total_users_per_source,on='source_id') #Unimos los costos totales con los usuarios totales de cada fuente\n",
    "cac_total['cac'] = round(cac_total['costs'] / cac_total['uid'],2)  #Obtenemos el cac para cada fuente\n",
    "cac_total.columns = ['source_id','total_cost','total_users','total_cac']\n",
    "display(cac_total) #Mostramos"
   ]
  },
  {
   "cell_type": "code",
   "execution_count": 72,
   "metadata": {},
   "outputs": [
    {
     "data": {
      "application/vnd.plotly.v1+json": {
       "config": {
        "plotlyServerURL": "https://plot.ly"
       },
       "data": [
        {
         "alignmentgroup": "True",
         "hovertemplate": "Fuente de adquisición=%{x}<br>Costo de adquisición=%{y}<extra></extra>",
         "legendgroup": "1",
         "marker": {
          "color": "#636efa",
          "pattern": {
           "shape": ""
          }
         },
         "name": "1",
         "offsetgroup": "1",
         "orientation": "v",
         "showlegend": true,
         "textposition": "auto",
         "type": "bar",
         "x": [
          "1"
         ],
         "xaxis": "x",
         "y": [
          2.92
         ],
         "yaxis": "y"
        },
        {
         "alignmentgroup": "True",
         "hovertemplate": "Fuente de adquisición=%{x}<br>Costo de adquisición=%{y}<extra></extra>",
         "legendgroup": "2",
         "marker": {
          "color": "#EF553B",
          "pattern": {
           "shape": ""
          }
         },
         "name": "2",
         "offsetgroup": "2",
         "orientation": "v",
         "showlegend": true,
         "textposition": "auto",
         "type": "bar",
         "x": [
          "2"
         ],
         "xaxis": "x",
         "y": [
          5.86
         ],
         "yaxis": "y"
        },
        {
         "alignmentgroup": "True",
         "hovertemplate": "Fuente de adquisición=%{x}<br>Costo de adquisición=%{y}<extra></extra>",
         "legendgroup": "3",
         "marker": {
          "color": "#00cc96",
          "pattern": {
           "shape": ""
          }
         },
         "name": "3",
         "offsetgroup": "3",
         "orientation": "v",
         "showlegend": true,
         "textposition": "auto",
         "type": "bar",
         "x": [
          "3"
         ],
         "xaxis": "x",
         "y": [
          10.21
         ],
         "yaxis": "y"
        },
        {
         "alignmentgroup": "True",
         "hovertemplate": "Fuente de adquisición=%{x}<br>Costo de adquisición=%{y}<extra></extra>",
         "legendgroup": "4",
         "marker": {
          "color": "#ab63fa",
          "pattern": {
           "shape": ""
          }
         },
         "name": "4",
         "offsetgroup": "4",
         "orientation": "v",
         "showlegend": true,
         "textposition": "auto",
         "type": "bar",
         "x": [
          "4"
         ],
         "xaxis": "x",
         "y": [
          4.28
         ],
         "yaxis": "y"
        },
        {
         "alignmentgroup": "True",
         "hovertemplate": "Fuente de adquisición=%{x}<br>Costo de adquisición=%{y}<extra></extra>",
         "legendgroup": "5",
         "marker": {
          "color": "#FFA15A",
          "pattern": {
           "shape": ""
          }
         },
         "name": "5",
         "offsetgroup": "5",
         "orientation": "v",
         "showlegend": true,
         "textposition": "auto",
         "type": "bar",
         "x": [
          "5"
         ],
         "xaxis": "x",
         "y": [
          5.1
         ],
         "yaxis": "y"
        },
        {
         "alignmentgroup": "True",
         "hovertemplate": "Fuente de adquisición=%{x}<br>Costo de adquisición=%{y}<extra></extra>",
         "legendgroup": "9",
         "marker": {
          "color": "#19d3f3",
          "pattern": {
           "shape": ""
          }
         },
         "name": "9",
         "offsetgroup": "9",
         "orientation": "v",
         "showlegend": true,
         "textposition": "auto",
         "type": "bar",
         "x": [
          "9"
         ],
         "xaxis": "x",
         "y": [
          1.98
         ],
         "yaxis": "y"
        },
        {
         "alignmentgroup": "True",
         "hovertemplate": "Fuente de adquisición=%{x}<br>Costo de adquisición=%{y}<extra></extra>",
         "legendgroup": "10",
         "marker": {
          "color": "#FF6692",
          "pattern": {
           "shape": ""
          }
         },
         "name": "10",
         "offsetgroup": "10",
         "orientation": "v",
         "showlegend": true,
         "textposition": "auto",
         "type": "bar",
         "x": [
          "10"
         ],
         "xaxis": "x",
         "y": [
          3.28
         ],
         "yaxis": "y"
        }
       ],
       "layout": {
        "barmode": "relative",
        "legend": {
         "title": {
          "text": "Fuente de adquisición"
         },
         "tracegroupgap": 0
        },
        "template": {
         "data": {
          "bar": [
           {
            "error_x": {
             "color": "#2a3f5f"
            },
            "error_y": {
             "color": "#2a3f5f"
            },
            "marker": {
             "line": {
              "color": "#E5ECF6",
              "width": 0.5
             },
             "pattern": {
              "fillmode": "overlay",
              "size": 10,
              "solidity": 0.2
             }
            },
            "type": "bar"
           }
          ],
          "barpolar": [
           {
            "marker": {
             "line": {
              "color": "#E5ECF6",
              "width": 0.5
             },
             "pattern": {
              "fillmode": "overlay",
              "size": 10,
              "solidity": 0.2
             }
            },
            "type": "barpolar"
           }
          ],
          "carpet": [
           {
            "aaxis": {
             "endlinecolor": "#2a3f5f",
             "gridcolor": "white",
             "linecolor": "white",
             "minorgridcolor": "white",
             "startlinecolor": "#2a3f5f"
            },
            "baxis": {
             "endlinecolor": "#2a3f5f",
             "gridcolor": "white",
             "linecolor": "white",
             "minorgridcolor": "white",
             "startlinecolor": "#2a3f5f"
            },
            "type": "carpet"
           }
          ],
          "choropleth": [
           {
            "colorbar": {
             "outlinewidth": 0,
             "ticks": ""
            },
            "type": "choropleth"
           }
          ],
          "contour": [
           {
            "colorbar": {
             "outlinewidth": 0,
             "ticks": ""
            },
            "colorscale": [
             [
              0,
              "#0d0887"
             ],
             [
              0.1111111111111111,
              "#46039f"
             ],
             [
              0.2222222222222222,
              "#7201a8"
             ],
             [
              0.3333333333333333,
              "#9c179e"
             ],
             [
              0.4444444444444444,
              "#bd3786"
             ],
             [
              0.5555555555555556,
              "#d8576b"
             ],
             [
              0.6666666666666666,
              "#ed7953"
             ],
             [
              0.7777777777777778,
              "#fb9f3a"
             ],
             [
              0.8888888888888888,
              "#fdca26"
             ],
             [
              1,
              "#f0f921"
             ]
            ],
            "type": "contour"
           }
          ],
          "contourcarpet": [
           {
            "colorbar": {
             "outlinewidth": 0,
             "ticks": ""
            },
            "type": "contourcarpet"
           }
          ],
          "heatmap": [
           {
            "colorbar": {
             "outlinewidth": 0,
             "ticks": ""
            },
            "colorscale": [
             [
              0,
              "#0d0887"
             ],
             [
              0.1111111111111111,
              "#46039f"
             ],
             [
              0.2222222222222222,
              "#7201a8"
             ],
             [
              0.3333333333333333,
              "#9c179e"
             ],
             [
              0.4444444444444444,
              "#bd3786"
             ],
             [
              0.5555555555555556,
              "#d8576b"
             ],
             [
              0.6666666666666666,
              "#ed7953"
             ],
             [
              0.7777777777777778,
              "#fb9f3a"
             ],
             [
              0.8888888888888888,
              "#fdca26"
             ],
             [
              1,
              "#f0f921"
             ]
            ],
            "type": "heatmap"
           }
          ],
          "heatmapgl": [
           {
            "colorbar": {
             "outlinewidth": 0,
             "ticks": ""
            },
            "colorscale": [
             [
              0,
              "#0d0887"
             ],
             [
              0.1111111111111111,
              "#46039f"
             ],
             [
              0.2222222222222222,
              "#7201a8"
             ],
             [
              0.3333333333333333,
              "#9c179e"
             ],
             [
              0.4444444444444444,
              "#bd3786"
             ],
             [
              0.5555555555555556,
              "#d8576b"
             ],
             [
              0.6666666666666666,
              "#ed7953"
             ],
             [
              0.7777777777777778,
              "#fb9f3a"
             ],
             [
              0.8888888888888888,
              "#fdca26"
             ],
             [
              1,
              "#f0f921"
             ]
            ],
            "type": "heatmapgl"
           }
          ],
          "histogram": [
           {
            "marker": {
             "pattern": {
              "fillmode": "overlay",
              "size": 10,
              "solidity": 0.2
             }
            },
            "type": "histogram"
           }
          ],
          "histogram2d": [
           {
            "colorbar": {
             "outlinewidth": 0,
             "ticks": ""
            },
            "colorscale": [
             [
              0,
              "#0d0887"
             ],
             [
              0.1111111111111111,
              "#46039f"
             ],
             [
              0.2222222222222222,
              "#7201a8"
             ],
             [
              0.3333333333333333,
              "#9c179e"
             ],
             [
              0.4444444444444444,
              "#bd3786"
             ],
             [
              0.5555555555555556,
              "#d8576b"
             ],
             [
              0.6666666666666666,
              "#ed7953"
             ],
             [
              0.7777777777777778,
              "#fb9f3a"
             ],
             [
              0.8888888888888888,
              "#fdca26"
             ],
             [
              1,
              "#f0f921"
             ]
            ],
            "type": "histogram2d"
           }
          ],
          "histogram2dcontour": [
           {
            "colorbar": {
             "outlinewidth": 0,
             "ticks": ""
            },
            "colorscale": [
             [
              0,
              "#0d0887"
             ],
             [
              0.1111111111111111,
              "#46039f"
             ],
             [
              0.2222222222222222,
              "#7201a8"
             ],
             [
              0.3333333333333333,
              "#9c179e"
             ],
             [
              0.4444444444444444,
              "#bd3786"
             ],
             [
              0.5555555555555556,
              "#d8576b"
             ],
             [
              0.6666666666666666,
              "#ed7953"
             ],
             [
              0.7777777777777778,
              "#fb9f3a"
             ],
             [
              0.8888888888888888,
              "#fdca26"
             ],
             [
              1,
              "#f0f921"
             ]
            ],
            "type": "histogram2dcontour"
           }
          ],
          "mesh3d": [
           {
            "colorbar": {
             "outlinewidth": 0,
             "ticks": ""
            },
            "type": "mesh3d"
           }
          ],
          "parcoords": [
           {
            "line": {
             "colorbar": {
              "outlinewidth": 0,
              "ticks": ""
             }
            },
            "type": "parcoords"
           }
          ],
          "pie": [
           {
            "automargin": true,
            "type": "pie"
           }
          ],
          "scatter": [
           {
            "fillpattern": {
             "fillmode": "overlay",
             "size": 10,
             "solidity": 0.2
            },
            "type": "scatter"
           }
          ],
          "scatter3d": [
           {
            "line": {
             "colorbar": {
              "outlinewidth": 0,
              "ticks": ""
             }
            },
            "marker": {
             "colorbar": {
              "outlinewidth": 0,
              "ticks": ""
             }
            },
            "type": "scatter3d"
           }
          ],
          "scattercarpet": [
           {
            "marker": {
             "colorbar": {
              "outlinewidth": 0,
              "ticks": ""
             }
            },
            "type": "scattercarpet"
           }
          ],
          "scattergeo": [
           {
            "marker": {
             "colorbar": {
              "outlinewidth": 0,
              "ticks": ""
             }
            },
            "type": "scattergeo"
           }
          ],
          "scattergl": [
           {
            "marker": {
             "colorbar": {
              "outlinewidth": 0,
              "ticks": ""
             }
            },
            "type": "scattergl"
           }
          ],
          "scattermapbox": [
           {
            "marker": {
             "colorbar": {
              "outlinewidth": 0,
              "ticks": ""
             }
            },
            "type": "scattermapbox"
           }
          ],
          "scatterpolar": [
           {
            "marker": {
             "colorbar": {
              "outlinewidth": 0,
              "ticks": ""
             }
            },
            "type": "scatterpolar"
           }
          ],
          "scatterpolargl": [
           {
            "marker": {
             "colorbar": {
              "outlinewidth": 0,
              "ticks": ""
             }
            },
            "type": "scatterpolargl"
           }
          ],
          "scatterternary": [
           {
            "marker": {
             "colorbar": {
              "outlinewidth": 0,
              "ticks": ""
             }
            },
            "type": "scatterternary"
           }
          ],
          "surface": [
           {
            "colorbar": {
             "outlinewidth": 0,
             "ticks": ""
            },
            "colorscale": [
             [
              0,
              "#0d0887"
             ],
             [
              0.1111111111111111,
              "#46039f"
             ],
             [
              0.2222222222222222,
              "#7201a8"
             ],
             [
              0.3333333333333333,
              "#9c179e"
             ],
             [
              0.4444444444444444,
              "#bd3786"
             ],
             [
              0.5555555555555556,
              "#d8576b"
             ],
             [
              0.6666666666666666,
              "#ed7953"
             ],
             [
              0.7777777777777778,
              "#fb9f3a"
             ],
             [
              0.8888888888888888,
              "#fdca26"
             ],
             [
              1,
              "#f0f921"
             ]
            ],
            "type": "surface"
           }
          ],
          "table": [
           {
            "cells": {
             "fill": {
              "color": "#EBF0F8"
             },
             "line": {
              "color": "white"
             }
            },
            "header": {
             "fill": {
              "color": "#C8D4E3"
             },
             "line": {
              "color": "white"
             }
            },
            "type": "table"
           }
          ]
         },
         "layout": {
          "annotationdefaults": {
           "arrowcolor": "#2a3f5f",
           "arrowhead": 0,
           "arrowwidth": 1
          },
          "autotypenumbers": "strict",
          "coloraxis": {
           "colorbar": {
            "outlinewidth": 0,
            "ticks": ""
           }
          },
          "colorscale": {
           "diverging": [
            [
             0,
             "#8e0152"
            ],
            [
             0.1,
             "#c51b7d"
            ],
            [
             0.2,
             "#de77ae"
            ],
            [
             0.3,
             "#f1b6da"
            ],
            [
             0.4,
             "#fde0ef"
            ],
            [
             0.5,
             "#f7f7f7"
            ],
            [
             0.6,
             "#e6f5d0"
            ],
            [
             0.7,
             "#b8e186"
            ],
            [
             0.8,
             "#7fbc41"
            ],
            [
             0.9,
             "#4d9221"
            ],
            [
             1,
             "#276419"
            ]
           ],
           "sequential": [
            [
             0,
             "#0d0887"
            ],
            [
             0.1111111111111111,
             "#46039f"
            ],
            [
             0.2222222222222222,
             "#7201a8"
            ],
            [
             0.3333333333333333,
             "#9c179e"
            ],
            [
             0.4444444444444444,
             "#bd3786"
            ],
            [
             0.5555555555555556,
             "#d8576b"
            ],
            [
             0.6666666666666666,
             "#ed7953"
            ],
            [
             0.7777777777777778,
             "#fb9f3a"
            ],
            [
             0.8888888888888888,
             "#fdca26"
            ],
            [
             1,
             "#f0f921"
            ]
           ],
           "sequentialminus": [
            [
             0,
             "#0d0887"
            ],
            [
             0.1111111111111111,
             "#46039f"
            ],
            [
             0.2222222222222222,
             "#7201a8"
            ],
            [
             0.3333333333333333,
             "#9c179e"
            ],
            [
             0.4444444444444444,
             "#bd3786"
            ],
            [
             0.5555555555555556,
             "#d8576b"
            ],
            [
             0.6666666666666666,
             "#ed7953"
            ],
            [
             0.7777777777777778,
             "#fb9f3a"
            ],
            [
             0.8888888888888888,
             "#fdca26"
            ],
            [
             1,
             "#f0f921"
            ]
           ]
          },
          "colorway": [
           "#636efa",
           "#EF553B",
           "#00cc96",
           "#ab63fa",
           "#FFA15A",
           "#19d3f3",
           "#FF6692",
           "#B6E880",
           "#FF97FF",
           "#FECB52"
          ],
          "font": {
           "color": "#2a3f5f"
          },
          "geo": {
           "bgcolor": "white",
           "lakecolor": "white",
           "landcolor": "#E5ECF6",
           "showlakes": true,
           "showland": true,
           "subunitcolor": "white"
          },
          "hoverlabel": {
           "align": "left"
          },
          "hovermode": "closest",
          "mapbox": {
           "style": "light"
          },
          "paper_bgcolor": "white",
          "plot_bgcolor": "#E5ECF6",
          "polar": {
           "angularaxis": {
            "gridcolor": "white",
            "linecolor": "white",
            "ticks": ""
           },
           "bgcolor": "#E5ECF6",
           "radialaxis": {
            "gridcolor": "white",
            "linecolor": "white",
            "ticks": ""
           }
          },
          "scene": {
           "xaxis": {
            "backgroundcolor": "#E5ECF6",
            "gridcolor": "white",
            "gridwidth": 2,
            "linecolor": "white",
            "showbackground": true,
            "ticks": "",
            "zerolinecolor": "white"
           },
           "yaxis": {
            "backgroundcolor": "#E5ECF6",
            "gridcolor": "white",
            "gridwidth": 2,
            "linecolor": "white",
            "showbackground": true,
            "ticks": "",
            "zerolinecolor": "white"
           },
           "zaxis": {
            "backgroundcolor": "#E5ECF6",
            "gridcolor": "white",
            "gridwidth": 2,
            "linecolor": "white",
            "showbackground": true,
            "ticks": "",
            "zerolinecolor": "white"
           }
          },
          "shapedefaults": {
           "line": {
            "color": "#2a3f5f"
           }
          },
          "ternary": {
           "aaxis": {
            "gridcolor": "white",
            "linecolor": "white",
            "ticks": ""
           },
           "baxis": {
            "gridcolor": "white",
            "linecolor": "white",
            "ticks": ""
           },
           "bgcolor": "#E5ECF6",
           "caxis": {
            "gridcolor": "white",
            "linecolor": "white",
            "ticks": ""
           }
          },
          "title": {
           "x": 0.05
          },
          "xaxis": {
           "automargin": true,
           "gridcolor": "white",
           "linecolor": "white",
           "ticks": "",
           "title": {
            "standoff": 15
           },
           "zerolinecolor": "white",
           "zerolinewidth": 2
          },
          "yaxis": {
           "automargin": true,
           "gridcolor": "white",
           "linecolor": "white",
           "ticks": "",
           "title": {
            "standoff": 15
           },
           "zerolinecolor": "white",
           "zerolinewidth": 2
          }
         }
        },
        "title": {
         "text": "Costo de adquisición de clientes total para cada fuente de adquisición"
        },
        "xaxis": {
         "anchor": "y",
         "categoryarray": [
          "1",
          "2",
          "3",
          "4",
          "5",
          "9",
          "10"
         ],
         "categoryorder": "array",
         "domain": [
          0,
          1
         ],
         "title": {
          "text": "Fuente de adquisición"
         }
        },
        "yaxis": {
         "anchor": "x",
         "domain": [
          0,
          1
         ],
         "title": {
          "text": "Costo de adquisición"
         }
        }
       }
      }
     },
     "metadata": {},
     "output_type": "display_data"
    }
   ],
   "source": [
    "#Mostramos los resultados en una figura\n",
    "fig_5 = px.bar(cac_total,\n",
    "               x='source_id',y='total_cac', \n",
    "               color = 'source_id',\n",
    "               title='Costo de adquisición de clientes total para cada fuente de adquisición',\n",
    "              labels={'source_id': 'Fuente de adquisición', 'total_cac':'Costo de adquisición'})\n",
    "fig_5.show()"
   ]
  },
  {
   "cell_type": "markdown",
   "metadata": {},
   "source": [
    "Como venimos viendo la fuente de adquisición 3 es la que más inversión tiene por parte de la empresa, y es la segunda fuente que más clientes atrae(13,846 clientes), cada cliente es bastante 'caro', ya que tienen un costo de 10.21 dólares.\n",
    "\n",
    "La fuente de adquisición 4 es una muy buena fuente ya que los clientes tienen un costo razonable de 4.28 dólares y es la fuente que más clientes atrae.\n",
    "\n",
    "La fuente 9 es la que menos costos ha representado y aquí lo comprobamos, ya que cada cliente de esta fuente tiene un costo de poco menos 2 dólares. En gráficos anteriores, notamos que la fuente 10 representaba un costo muy parecido al de la fuente 9. Sin embargo, aquí notamos que los clientes de esta fuente tienen un costo bastante alto siendo que son la fuente con menos clientes totales(1773). Incluso la fuente 1 tiene un costo menor y tiene una mejor base de clientes con 7,138."
   ]
  },
  {
   "cell_type": "code",
   "execution_count": 73,
   "metadata": {},
   "outputs": [],
   "source": [
    "#Obtenemos el número de usuarios convertidos mensuales por fuente:\n",
    "monthly_users_per_source = visits_filtered.groupby(['source_id','first_order_month']).agg({'uid':'nunique'})\n",
    "#Reseteamos el indice de ambos DF para después usar merge\n",
    "monthly_users_per_source.reset_index(inplace=True)\n",
    "costs_per_month.reset_index(inplace=True)"
   ]
  },
  {
   "cell_type": "code",
   "execution_count": 74,
   "metadata": {},
   "outputs": [],
   "source": [
    "#Renombramos las columnas\n",
    "monthly_users_per_source.columns = ['source_id','date_month','n_users']\n",
    "#Juntamos la información de los costos mensuales y los usuarios mensuales por fuente\n",
    "monthly_cac = costs_per_month.merge(monthly_users_per_source,\n",
    "                                    how='left',\n",
    "                                    on=['source_id','date_month'])\n",
    "#Obtenemos el cac mensual para cada fuente\n",
    "monthly_cac['cac'] = round(monthly_cac['costs'] / monthly_cac['n_users'],2)\n",
    "#Linea para comprobar resultados\n",
    "#display(monthly_cac)"
   ]
  },
  {
   "cell_type": "code",
   "execution_count": 75,
   "metadata": {},
   "outputs": [
    {
     "data": {
      "application/vnd.plotly.v1+json": {
       "config": {
        "plotlyServerURL": "https://plot.ly"
       },
       "data": [
        {
         "hovertemplate": "Fuente de adquisición=1<br>Mes en el que se realizó=%{x}<br>Costo de adquisición[$]=%{y}<extra></extra>",
         "legendgroup": "1",
         "line": {
          "color": "#636efa",
          "dash": "solid"
         },
         "marker": {
          "symbol": "circle"
         },
         "mode": "lines+markers",
         "name": "1",
         "orientation": "v",
         "showlegend": true,
         "type": "scatter",
         "x": [
          "2017-06-01",
          "2017-07-01",
          "2017-08-01",
          "2017-09-01",
          "2017-10-01",
          "2017-11-01",
          "2017-12-01",
          "2018-01-01",
          "2018-02-01",
          "2018-03-01",
          "2018-04-01",
          "2018-05-01"
         ],
         "xaxis": "x",
         "y": [
          2.81,
          2.68,
          3.3,
          2.86,
          2.78,
          2.59,
          2.59,
          3.43,
          3.41,
          2.8,
          3.4,
          2.98
         ],
         "yaxis": "y"
        },
        {
         "hovertemplate": "Fuente de adquisición=2<br>Mes en el que se realizó=%{x}<br>Costo de adquisición[$]=%{y}<extra></extra>",
         "legendgroup": "2",
         "line": {
          "color": "#EF553B",
          "dash": "solid"
         },
         "marker": {
          "symbol": "diamond"
         },
         "mode": "lines+markers",
         "name": "2",
         "orientation": "v",
         "showlegend": true,
         "type": "scatter",
         "x": [
          "2017-06-01",
          "2017-07-01",
          "2017-08-01",
          "2017-09-01",
          "2017-10-01",
          "2017-11-01",
          "2017-12-01",
          "2018-01-01",
          "2018-02-01",
          "2018-03-01",
          "2018-04-01",
          "2018-05-01"
         ],
         "xaxis": "x",
         "y": [
          5.31,
          5.4,
          6.4,
          5.53,
          5.65,
          5.47,
          5.79,
          6.74,
          7.04,
          6.02,
          7.52,
          4.32
         ],
         "yaxis": "y"
        },
        {
         "hovertemplate": "Fuente de adquisición=3<br>Mes en el que se realizó=%{x}<br>Costo de adquisición[$]=%{y}<extra></extra>",
         "legendgroup": "3",
         "line": {
          "color": "#00cc96",
          "dash": "solid"
         },
         "marker": {
          "symbol": "square"
         },
         "mode": "lines+markers",
         "name": "3",
         "orientation": "v",
         "showlegend": true,
         "type": "scatter",
         "x": [
          "2017-06-01",
          "2017-07-01",
          "2017-08-01",
          "2017-09-01",
          "2017-10-01",
          "2017-11-01",
          "2017-12-01",
          "2018-01-01",
          "2018-02-01",
          "2018-03-01",
          "2018-04-01",
          "2018-05-01"
         ],
         "xaxis": "x",
         "y": [
          8.85,
          10.73,
          12.51,
          9.66,
          9.7,
          10.15,
          9.36,
          11.42,
          10.42,
          10.28,
          12.2,
          9.36
         ],
         "yaxis": "y"
        },
        {
         "hovertemplate": "Fuente de adquisición=4<br>Mes en el que se realizó=%{x}<br>Costo de adquisición[$]=%{y}<extra></extra>",
         "legendgroup": "4",
         "line": {
          "color": "#ab63fa",
          "dash": "solid"
         },
         "marker": {
          "symbol": "x"
         },
         "mode": "lines+markers",
         "name": "4",
         "orientation": "v",
         "showlegend": true,
         "type": "scatter",
         "x": [
          "2017-06-01",
          "2017-07-01",
          "2017-08-01",
          "2017-09-01",
          "2017-10-01",
          "2017-11-01",
          "2017-12-01",
          "2018-01-01",
          "2018-02-01",
          "2018-03-01",
          "2018-04-01",
          "2018-05-01"
         ],
         "xaxis": "x",
         "y": [
          5.46,
          4.8,
          6.45,
          5.74,
          3.79,
          3.05,
          4.05,
          4.19,
          3.89,
          4.29,
          5.02,
          4.27
         ],
         "yaxis": "y"
        },
        {
         "hovertemplate": "Fuente de adquisición=5<br>Mes en el que se realizó=%{x}<br>Costo de adquisición[$]=%{y}<extra></extra>",
         "legendgroup": "5",
         "line": {
          "color": "#FFA15A",
          "dash": "solid"
         },
         "marker": {
          "symbol": "cross"
         },
         "mode": "lines+markers",
         "name": "5",
         "orientation": "v",
         "showlegend": true,
         "type": "scatter",
         "x": [
          "2017-06-01",
          "2017-07-01",
          "2017-08-01",
          "2017-09-01",
          "2017-10-01",
          "2017-11-01",
          "2017-12-01",
          "2018-01-01",
          "2018-02-01",
          "2018-03-01",
          "2018-04-01",
          "2018-05-01"
         ],
         "xaxis": "x",
         "y": [
          4.58,
          5.01,
          4.72,
          4.47,
          4.3,
          5.72,
          5.27,
          5.78,
          5.17,
          5.26,
          5.57,
          5.22
         ],
         "yaxis": "y"
        },
        {
         "hovertemplate": "Fuente de adquisición=9<br>Mes en el que se realizó=%{x}<br>Costo de adquisición[$]=%{y}<extra></extra>",
         "legendgroup": "9",
         "line": {
          "color": "#19d3f3",
          "dash": "solid"
         },
         "marker": {
          "symbol": "circle"
         },
         "mode": "lines+markers",
         "name": "9",
         "orientation": "v",
         "showlegend": true,
         "type": "scatter",
         "x": [
          "2017-06-01",
          "2017-07-01",
          "2017-08-01",
          "2017-09-01",
          "2017-10-01",
          "2017-11-01",
          "2017-12-01",
          "2018-01-01",
          "2018-02-01",
          "2018-03-01",
          "2018-04-01",
          "2018-05-01"
         ],
         "xaxis": "x",
         "y": [
          1.55,
          1.94,
          1.56,
          1.87,
          1.6,
          1.69,
          1.92,
          2.5,
          2.55,
          1.46,
          4.61,
          3.7
         ],
         "yaxis": "y"
        },
        {
         "hovertemplate": "Fuente de adquisición=10<br>Mes en el que se realizó=%{x}<br>Costo de adquisición[$]=%{y}<extra></extra>",
         "legendgroup": "10",
         "line": {
          "color": "#FF6692",
          "dash": "solid"
         },
         "marker": {
          "symbol": "diamond"
         },
         "mode": "lines+markers",
         "name": "10",
         "orientation": "v",
         "showlegend": true,
         "type": "scatter",
         "x": [
          "2017-06-01",
          "2017-07-01",
          "2017-08-01",
          "2017-09-01",
          "2017-10-01",
          "2017-11-01",
          "2017-12-01",
          "2018-01-01",
          "2018-02-01",
          "2018-03-01",
          "2018-04-01",
          "2018-05-01"
         ],
         "xaxis": "x",
         "y": [
          2.62,
          4.65,
          4.15,
          4.19,
          2.42,
          4.33,
          5.25,
          5.04,
          2.72,
          2.16,
          2.7,
          2.5
         ],
         "yaxis": "y"
        }
       ],
       "layout": {
        "legend": {
         "title": {
          "text": "Fuente de adquisición"
         },
         "tracegroupgap": 0
        },
        "template": {
         "data": {
          "bar": [
           {
            "error_x": {
             "color": "#2a3f5f"
            },
            "error_y": {
             "color": "#2a3f5f"
            },
            "marker": {
             "line": {
              "color": "#E5ECF6",
              "width": 0.5
             },
             "pattern": {
              "fillmode": "overlay",
              "size": 10,
              "solidity": 0.2
             }
            },
            "type": "bar"
           }
          ],
          "barpolar": [
           {
            "marker": {
             "line": {
              "color": "#E5ECF6",
              "width": 0.5
             },
             "pattern": {
              "fillmode": "overlay",
              "size": 10,
              "solidity": 0.2
             }
            },
            "type": "barpolar"
           }
          ],
          "carpet": [
           {
            "aaxis": {
             "endlinecolor": "#2a3f5f",
             "gridcolor": "white",
             "linecolor": "white",
             "minorgridcolor": "white",
             "startlinecolor": "#2a3f5f"
            },
            "baxis": {
             "endlinecolor": "#2a3f5f",
             "gridcolor": "white",
             "linecolor": "white",
             "minorgridcolor": "white",
             "startlinecolor": "#2a3f5f"
            },
            "type": "carpet"
           }
          ],
          "choropleth": [
           {
            "colorbar": {
             "outlinewidth": 0,
             "ticks": ""
            },
            "type": "choropleth"
           }
          ],
          "contour": [
           {
            "colorbar": {
             "outlinewidth": 0,
             "ticks": ""
            },
            "colorscale": [
             [
              0,
              "#0d0887"
             ],
             [
              0.1111111111111111,
              "#46039f"
             ],
             [
              0.2222222222222222,
              "#7201a8"
             ],
             [
              0.3333333333333333,
              "#9c179e"
             ],
             [
              0.4444444444444444,
              "#bd3786"
             ],
             [
              0.5555555555555556,
              "#d8576b"
             ],
             [
              0.6666666666666666,
              "#ed7953"
             ],
             [
              0.7777777777777778,
              "#fb9f3a"
             ],
             [
              0.8888888888888888,
              "#fdca26"
             ],
             [
              1,
              "#f0f921"
             ]
            ],
            "type": "contour"
           }
          ],
          "contourcarpet": [
           {
            "colorbar": {
             "outlinewidth": 0,
             "ticks": ""
            },
            "type": "contourcarpet"
           }
          ],
          "heatmap": [
           {
            "colorbar": {
             "outlinewidth": 0,
             "ticks": ""
            },
            "colorscale": [
             [
              0,
              "#0d0887"
             ],
             [
              0.1111111111111111,
              "#46039f"
             ],
             [
              0.2222222222222222,
              "#7201a8"
             ],
             [
              0.3333333333333333,
              "#9c179e"
             ],
             [
              0.4444444444444444,
              "#bd3786"
             ],
             [
              0.5555555555555556,
              "#d8576b"
             ],
             [
              0.6666666666666666,
              "#ed7953"
             ],
             [
              0.7777777777777778,
              "#fb9f3a"
             ],
             [
              0.8888888888888888,
              "#fdca26"
             ],
             [
              1,
              "#f0f921"
             ]
            ],
            "type": "heatmap"
           }
          ],
          "heatmapgl": [
           {
            "colorbar": {
             "outlinewidth": 0,
             "ticks": ""
            },
            "colorscale": [
             [
              0,
              "#0d0887"
             ],
             [
              0.1111111111111111,
              "#46039f"
             ],
             [
              0.2222222222222222,
              "#7201a8"
             ],
             [
              0.3333333333333333,
              "#9c179e"
             ],
             [
              0.4444444444444444,
              "#bd3786"
             ],
             [
              0.5555555555555556,
              "#d8576b"
             ],
             [
              0.6666666666666666,
              "#ed7953"
             ],
             [
              0.7777777777777778,
              "#fb9f3a"
             ],
             [
              0.8888888888888888,
              "#fdca26"
             ],
             [
              1,
              "#f0f921"
             ]
            ],
            "type": "heatmapgl"
           }
          ],
          "histogram": [
           {
            "marker": {
             "pattern": {
              "fillmode": "overlay",
              "size": 10,
              "solidity": 0.2
             }
            },
            "type": "histogram"
           }
          ],
          "histogram2d": [
           {
            "colorbar": {
             "outlinewidth": 0,
             "ticks": ""
            },
            "colorscale": [
             [
              0,
              "#0d0887"
             ],
             [
              0.1111111111111111,
              "#46039f"
             ],
             [
              0.2222222222222222,
              "#7201a8"
             ],
             [
              0.3333333333333333,
              "#9c179e"
             ],
             [
              0.4444444444444444,
              "#bd3786"
             ],
             [
              0.5555555555555556,
              "#d8576b"
             ],
             [
              0.6666666666666666,
              "#ed7953"
             ],
             [
              0.7777777777777778,
              "#fb9f3a"
             ],
             [
              0.8888888888888888,
              "#fdca26"
             ],
             [
              1,
              "#f0f921"
             ]
            ],
            "type": "histogram2d"
           }
          ],
          "histogram2dcontour": [
           {
            "colorbar": {
             "outlinewidth": 0,
             "ticks": ""
            },
            "colorscale": [
             [
              0,
              "#0d0887"
             ],
             [
              0.1111111111111111,
              "#46039f"
             ],
             [
              0.2222222222222222,
              "#7201a8"
             ],
             [
              0.3333333333333333,
              "#9c179e"
             ],
             [
              0.4444444444444444,
              "#bd3786"
             ],
             [
              0.5555555555555556,
              "#d8576b"
             ],
             [
              0.6666666666666666,
              "#ed7953"
             ],
             [
              0.7777777777777778,
              "#fb9f3a"
             ],
             [
              0.8888888888888888,
              "#fdca26"
             ],
             [
              1,
              "#f0f921"
             ]
            ],
            "type": "histogram2dcontour"
           }
          ],
          "mesh3d": [
           {
            "colorbar": {
             "outlinewidth": 0,
             "ticks": ""
            },
            "type": "mesh3d"
           }
          ],
          "parcoords": [
           {
            "line": {
             "colorbar": {
              "outlinewidth": 0,
              "ticks": ""
             }
            },
            "type": "parcoords"
           }
          ],
          "pie": [
           {
            "automargin": true,
            "type": "pie"
           }
          ],
          "scatter": [
           {
            "fillpattern": {
             "fillmode": "overlay",
             "size": 10,
             "solidity": 0.2
            },
            "type": "scatter"
           }
          ],
          "scatter3d": [
           {
            "line": {
             "colorbar": {
              "outlinewidth": 0,
              "ticks": ""
             }
            },
            "marker": {
             "colorbar": {
              "outlinewidth": 0,
              "ticks": ""
             }
            },
            "type": "scatter3d"
           }
          ],
          "scattercarpet": [
           {
            "marker": {
             "colorbar": {
              "outlinewidth": 0,
              "ticks": ""
             }
            },
            "type": "scattercarpet"
           }
          ],
          "scattergeo": [
           {
            "marker": {
             "colorbar": {
              "outlinewidth": 0,
              "ticks": ""
             }
            },
            "type": "scattergeo"
           }
          ],
          "scattergl": [
           {
            "marker": {
             "colorbar": {
              "outlinewidth": 0,
              "ticks": ""
             }
            },
            "type": "scattergl"
           }
          ],
          "scattermapbox": [
           {
            "marker": {
             "colorbar": {
              "outlinewidth": 0,
              "ticks": ""
             }
            },
            "type": "scattermapbox"
           }
          ],
          "scatterpolar": [
           {
            "marker": {
             "colorbar": {
              "outlinewidth": 0,
              "ticks": ""
             }
            },
            "type": "scatterpolar"
           }
          ],
          "scatterpolargl": [
           {
            "marker": {
             "colorbar": {
              "outlinewidth": 0,
              "ticks": ""
             }
            },
            "type": "scatterpolargl"
           }
          ],
          "scatterternary": [
           {
            "marker": {
             "colorbar": {
              "outlinewidth": 0,
              "ticks": ""
             }
            },
            "type": "scatterternary"
           }
          ],
          "surface": [
           {
            "colorbar": {
             "outlinewidth": 0,
             "ticks": ""
            },
            "colorscale": [
             [
              0,
              "#0d0887"
             ],
             [
              0.1111111111111111,
              "#46039f"
             ],
             [
              0.2222222222222222,
              "#7201a8"
             ],
             [
              0.3333333333333333,
              "#9c179e"
             ],
             [
              0.4444444444444444,
              "#bd3786"
             ],
             [
              0.5555555555555556,
              "#d8576b"
             ],
             [
              0.6666666666666666,
              "#ed7953"
             ],
             [
              0.7777777777777778,
              "#fb9f3a"
             ],
             [
              0.8888888888888888,
              "#fdca26"
             ],
             [
              1,
              "#f0f921"
             ]
            ],
            "type": "surface"
           }
          ],
          "table": [
           {
            "cells": {
             "fill": {
              "color": "#EBF0F8"
             },
             "line": {
              "color": "white"
             }
            },
            "header": {
             "fill": {
              "color": "#C8D4E3"
             },
             "line": {
              "color": "white"
             }
            },
            "type": "table"
           }
          ]
         },
         "layout": {
          "annotationdefaults": {
           "arrowcolor": "#2a3f5f",
           "arrowhead": 0,
           "arrowwidth": 1
          },
          "autotypenumbers": "strict",
          "coloraxis": {
           "colorbar": {
            "outlinewidth": 0,
            "ticks": ""
           }
          },
          "colorscale": {
           "diverging": [
            [
             0,
             "#8e0152"
            ],
            [
             0.1,
             "#c51b7d"
            ],
            [
             0.2,
             "#de77ae"
            ],
            [
             0.3,
             "#f1b6da"
            ],
            [
             0.4,
             "#fde0ef"
            ],
            [
             0.5,
             "#f7f7f7"
            ],
            [
             0.6,
             "#e6f5d0"
            ],
            [
             0.7,
             "#b8e186"
            ],
            [
             0.8,
             "#7fbc41"
            ],
            [
             0.9,
             "#4d9221"
            ],
            [
             1,
             "#276419"
            ]
           ],
           "sequential": [
            [
             0,
             "#0d0887"
            ],
            [
             0.1111111111111111,
             "#46039f"
            ],
            [
             0.2222222222222222,
             "#7201a8"
            ],
            [
             0.3333333333333333,
             "#9c179e"
            ],
            [
             0.4444444444444444,
             "#bd3786"
            ],
            [
             0.5555555555555556,
             "#d8576b"
            ],
            [
             0.6666666666666666,
             "#ed7953"
            ],
            [
             0.7777777777777778,
             "#fb9f3a"
            ],
            [
             0.8888888888888888,
             "#fdca26"
            ],
            [
             1,
             "#f0f921"
            ]
           ],
           "sequentialminus": [
            [
             0,
             "#0d0887"
            ],
            [
             0.1111111111111111,
             "#46039f"
            ],
            [
             0.2222222222222222,
             "#7201a8"
            ],
            [
             0.3333333333333333,
             "#9c179e"
            ],
            [
             0.4444444444444444,
             "#bd3786"
            ],
            [
             0.5555555555555556,
             "#d8576b"
            ],
            [
             0.6666666666666666,
             "#ed7953"
            ],
            [
             0.7777777777777778,
             "#fb9f3a"
            ],
            [
             0.8888888888888888,
             "#fdca26"
            ],
            [
             1,
             "#f0f921"
            ]
           ]
          },
          "colorway": [
           "#636efa",
           "#EF553B",
           "#00cc96",
           "#ab63fa",
           "#FFA15A",
           "#19d3f3",
           "#FF6692",
           "#B6E880",
           "#FF97FF",
           "#FECB52"
          ],
          "font": {
           "color": "#2a3f5f"
          },
          "geo": {
           "bgcolor": "white",
           "lakecolor": "white",
           "landcolor": "#E5ECF6",
           "showlakes": true,
           "showland": true,
           "subunitcolor": "white"
          },
          "hoverlabel": {
           "align": "left"
          },
          "hovermode": "closest",
          "mapbox": {
           "style": "light"
          },
          "paper_bgcolor": "white",
          "plot_bgcolor": "#E5ECF6",
          "polar": {
           "angularaxis": {
            "gridcolor": "white",
            "linecolor": "white",
            "ticks": ""
           },
           "bgcolor": "#E5ECF6",
           "radialaxis": {
            "gridcolor": "white",
            "linecolor": "white",
            "ticks": ""
           }
          },
          "scene": {
           "xaxis": {
            "backgroundcolor": "#E5ECF6",
            "gridcolor": "white",
            "gridwidth": 2,
            "linecolor": "white",
            "showbackground": true,
            "ticks": "",
            "zerolinecolor": "white"
           },
           "yaxis": {
            "backgroundcolor": "#E5ECF6",
            "gridcolor": "white",
            "gridwidth": 2,
            "linecolor": "white",
            "showbackground": true,
            "ticks": "",
            "zerolinecolor": "white"
           },
           "zaxis": {
            "backgroundcolor": "#E5ECF6",
            "gridcolor": "white",
            "gridwidth": 2,
            "linecolor": "white",
            "showbackground": true,
            "ticks": "",
            "zerolinecolor": "white"
           }
          },
          "shapedefaults": {
           "line": {
            "color": "#2a3f5f"
           }
          },
          "ternary": {
           "aaxis": {
            "gridcolor": "white",
            "linecolor": "white",
            "ticks": ""
           },
           "baxis": {
            "gridcolor": "white",
            "linecolor": "white",
            "ticks": ""
           },
           "bgcolor": "#E5ECF6",
           "caxis": {
            "gridcolor": "white",
            "linecolor": "white",
            "ticks": ""
           }
          },
          "title": {
           "x": 0.05
          },
          "xaxis": {
           "automargin": true,
           "gridcolor": "white",
           "linecolor": "white",
           "ticks": "",
           "title": {
            "standoff": 15
           },
           "zerolinecolor": "white",
           "zerolinewidth": 2
          },
          "yaxis": {
           "automargin": true,
           "gridcolor": "white",
           "linecolor": "white",
           "ticks": "",
           "title": {
            "standoff": 15
           },
           "zerolinecolor": "white",
           "zerolinewidth": 2
          }
         }
        },
        "title": {
         "text": "Costo de adquisición de clientes mensual para cada fuente de información."
        },
        "xaxis": {
         "anchor": "y",
         "domain": [
          0,
          1
         ],
         "title": {
          "text": "Mes en el que se realizó"
         }
        },
        "yaxis": {
         "anchor": "x",
         "domain": [
          0,
          1
         ],
         "title": {
          "text": "Costo de adquisición[$]"
         }
        }
       }
      }
     },
     "metadata": {},
     "output_type": "display_data"
    }
   ],
   "source": [
    "#Mostramos la información\n",
    "fig_6 = px.line(monthly_cac,x='date_month',y='cac',symbol='source_id',color='source_id',\n",
    "                title='Costo de adquisición de clientes mensual para cada fuente de información.',\n",
    "                labels={'date_month': 'Mes en el que se realizó', 'cac':'Costo de adquisición[$]','source_id':'Fuente de adquisición'})\n",
    "fig_6.show()"
   ]
  },
  {
   "cell_type": "markdown",
   "metadata": {},
   "source": [
    "Si validamos la información obtenida en este gráfico con el gráfico de 'Costo de las fuentes de adquisición', recordamos que la fuente de adquisición 3 presentaba un pico que comenzaba en agosto y terminaba en abril. Justo aquí notamos algo interesante, entre agosto y abril los costos de adquisición disminuyeron para la fuente 3, esto nos indica que a pesar de invertirse más dinero, el **costo por adquirir cada cliente** disminuyó, significando que se atrayeron los clientes suficientes para que cada uno \"costara menos\". \n",
    "\n",
    "Podemos notar un patrón similar aunque no tan marcado en las fuentes 1, 2 y 4.\n",
    "\n",
    "La fuente de adquisición 10 es la que más fluctuaciones tiene en el costo de adquisición de cada cliente, donde la mitad del año presentó un costo predominante por encima de los 4 dólares por cliente al mes. Sin embargo, este número se ha reducido a partir de febrero de 2018 siendo un poco por encima de los 2 dólares.\n",
    "\n",
    "La fuente 9 se mantuvo como la fuente que tiene un menor costo por cliente rondando los 2 dólares durante casi todo el año, sin embargo en los meses abril y mayo presentó un incremento que duplicó su costo, por lo que es necesario vigilar cómo se mantienen los costos en esta fuente.\n",
    "\n",
    "\n",
    "#### Rentabilidad de las inversiones (ROMI)\n",
    "\n",
    "En esta sección se responderá la pregunta '¿Cuán rentables eran las inversiones?', es decir, obtendrémos el retorno de inversión. \n",
    "\n",
    "**Nota:** Se intentó realizar el retorno de inversión por fuente de adquisición pero la forma en la que se tiene disponible la información en los dataframes no permite determinar para qué fuente fue realizada cada orden, es decir, obtener la información necesaria del dataframe 'Visits' y 'Orders' para conocer los ingresos de cada fuente de adquisición. Por lo que se realizó el análisis para cada cohorte."
   ]
  },
  {
   "cell_type": "code",
   "execution_count": 76,
   "metadata": {},
   "outputs": [],
   "source": [
    "#Obtenemos los costos mensuales\n",
    "monthly_costs = costs.groupby('date_month')['costs'].sum()\n",
    "\n",
    "#Juntamos esta información junto la obtenida en el DF 'report'\n",
    "#el cual tiene información sobre los cohortes realizados en el calculo del LTV\n",
    "\n",
    "report_ = pd.merge(report,monthly_costs,\n",
    "                   left_on='first_order_month',right_on='date_month')\n",
    "\n",
    "#Calculamos el Costo de Adquisición de Clientes para cada cohorte\n",
    "report_['cac'] = report_['costs'] / report_['n_users_initial']\n",
    "#Calculamos el retorno de inversión para cada cohort\n",
    "report_['romi'] = report_['ltv'] / report_['cac']\n",
    "#display(report_)\n",
    "\n",
    "#Obtenemos la pivot table por cohorte donde mostramos el ROMI para cada uno\n",
    "output_2 = report_.pivot_table(index='first_order_month',\n",
    "                              columns='cohort_lifetime',\n",
    "                               values='romi')\n",
    "\n",
    "#Como necesitamos el acumulado, lo calculamos.\n",
    "romi_acum = output_2.cumsum(axis=1).round(2)\n",
    "#Obtenemos el cohort promedio\n",
    "avg_cohort = output_2.cumsum(axis=1).mean(axis=0)\n",
    "#display(romi_acum)\n",
    "#display(avg_cohort)"
   ]
  },
  {
   "cell_type": "code",
   "execution_count": 77,
   "metadata": {},
   "outputs": [
    {
     "data": {
      "image/png": "[encoded data removed]",
      "text/plain": [
       "<Figure size 1300x900 with 2 Axes>"
      ]
     },
     "metadata": {},
     "output_type": "display_data"
    }
   ],
   "source": [
    "#Creamos un mapa de calor para mostrar la información.\n",
    "#Definimos tamaño de la figura\n",
    "plt.figure(figsize=(13, 9))\n",
    "plt.title('Retorno de inversión en Marketing para cada cohorte') #titulo\n",
    "#Creamos un mapa de calor\n",
    "sns.heatmap(\n",
    "    romi_acum,\n",
    "    cmap=\"Blues\",\n",
    "    annot=True,\n",
    "    fmt='.1f',\n",
    "    linewidths=1,\n",
    "    linecolor='gray',\n",
    ")\n",
    "#Renombramos los ejes\n",
    "plt.xlabel(\"Tiempo de vida[mes]\")\n",
    "plt.ylabel(\"Cohort\")\n",
    "plt.show() #mostramos"
   ]
  },
  {
   "cell_type": "markdown",
   "metadata": {},
   "source": [
    "Como habiamos señalado en la sección de 'Análisis por cohorte', el cohorte de Junio,2017 es el que más órdenes promedio por cliente presentaba, y eso se ve reflejado aquí, donde notamos que a partir del mes 6 de su tiempo de vida ya se *compensan* los gastos que se realizaron para atraer estos clientes. \n",
    "Así mismo, el cohorte de Septiembre de 2017, presentó los mejores precios promedio por compra en su 3er mes de vida, y aquí notamos que estas compras 'grandes' que hicieron los clientes sirvieron para compensar el costo que este cohorte significó para la empresa. \n",
    "En este mismo rubro, el cohorte de Diciembre de 2017 también mostraba buenos números en los precios promedio por compra, sin embargo vemos que aún no se tiene un retorno de inversión mayor a uno pero bastante cercano, esperando que se logre en los meses posteriores. \n",
    "\n",
    "Por último habíamos señalado que los cohortes de octubre a febrero, presentaban bajas órdenes y con precios no tan elevados, lo que nos da como resultado que aún no se compense la inversión y en ninguno de estos cohortes y se vea un avance bastante lento. \n",
    "\n"
   ]
  },
  {
   "cell_type": "code",
   "execution_count": 78,
   "metadata": {},
   "outputs": [
    {
     "data": {
      "application/vnd.plotly.v1+json": {
       "config": {
        "plotlyServerURL": "https://plot.ly"
       },
       "data": [
        {
         "hovertemplate": "=0<br>Tiempo de vida[mes]=%{x}<br>Retorno de Inversión=%{y}<extra></extra>",
         "legendgroup": "0",
         "marker": {
          "color": "#636efa",
          "size": 12,
          "symbol": "circle"
         },
         "mode": "markers",
         "name": "0",
         "orientation": "v",
         "showlegend": true,
         "type": "scatter",
         "x": [
          0,
          1,
          2,
          3,
          4,
          5,
          6,
          7,
          8,
          9,
          10,
          11
         ],
         "xaxis": "x",
         "y": [
          0.5408156101167619,
          0.5819849992835683,
          0.6310691563491109,
          0.719739859979084,
          0.7829464496620925,
          0.8598760895593338,
          0.8968190165750585,
          0.9699510121000181,
          1.053871216264367,
          0.9644875816349857,
          1.0946580180039276,
          1.3339822370247016
         ],
         "yaxis": "y"
        }
       ],
       "layout": {
        "annotations": [
         {
          "showarrow": false,
          "text": "Retorno de inversión asegurada",
          "x": 6,
          "y": 1,
          "yshift": 10
         }
        ],
        "legend": {
         "title": {
          "text": ""
         },
         "tracegroupgap": 0
        },
        "shapes": [
         {
          "line": {
           "color": "Red",
           "width": 2
          },
          "type": "line",
          "x0": -1,
          "x1": 12,
          "y0": 1,
          "y1": 1
         }
        ],
        "template": {
         "data": {
          "bar": [
           {
            "error_x": {
             "color": "#2a3f5f"
            },
            "error_y": {
             "color": "#2a3f5f"
            },
            "marker": {
             "line": {
              "color": "#E5ECF6",
              "width": 0.5
             },
             "pattern": {
              "fillmode": "overlay",
              "size": 10,
              "solidity": 0.2
             }
            },
            "type": "bar"
           }
          ],
          "barpolar": [
           {
            "marker": {
             "line": {
              "color": "#E5ECF6",
              "width": 0.5
             },
             "pattern": {
              "fillmode": "overlay",
              "size": 10,
              "solidity": 0.2
             }
            },
            "type": "barpolar"
           }
          ],
          "carpet": [
           {
            "aaxis": {
             "endlinecolor": "#2a3f5f",
             "gridcolor": "white",
             "linecolor": "white",
             "minorgridcolor": "white",
             "startlinecolor": "#2a3f5f"
            },
            "baxis": {
             "endlinecolor": "#2a3f5f",
             "gridcolor": "white",
             "linecolor": "white",
             "minorgridcolor": "white",
             "startlinecolor": "#2a3f5f"
            },
            "type": "carpet"
           }
          ],
          "choropleth": [
           {
            "colorbar": {
             "outlinewidth": 0,
             "ticks": ""
            },
            "type": "choropleth"
           }
          ],
          "contour": [
           {
            "colorbar": {
             "outlinewidth": 0,
             "ticks": ""
            },
            "colorscale": [
             [
              0,
              "#0d0887"
             ],
             [
              0.1111111111111111,
              "#46039f"
             ],
             [
              0.2222222222222222,
              "#7201a8"
             ],
             [
              0.3333333333333333,
              "#9c179e"
             ],
             [
              0.4444444444444444,
              "#bd3786"
             ],
             [
              0.5555555555555556,
              "#d8576b"
             ],
             [
              0.6666666666666666,
              "#ed7953"
             ],
             [
              0.7777777777777778,
              "#fb9f3a"
             ],
             [
              0.8888888888888888,
              "#fdca26"
             ],
             [
              1,
              "#f0f921"
             ]
            ],
            "type": "contour"
           }
          ],
          "contourcarpet": [
           {
            "colorbar": {
             "outlinewidth": 0,
             "ticks": ""
            },
            "type": "contourcarpet"
           }
          ],
          "heatmap": [
           {
            "colorbar": {
             "outlinewidth": 0,
             "ticks": ""
            },
            "colorscale": [
             [
              0,
              "#0d0887"
             ],
             [
              0.1111111111111111,
              "#46039f"
             ],
             [
              0.2222222222222222,
              "#7201a8"
             ],
             [
              0.3333333333333333,
              "#9c179e"
             ],
             [
              0.4444444444444444,
              "#bd3786"
             ],
             [
              0.5555555555555556,
              "#d8576b"
             ],
             [
              0.6666666666666666,
              "#ed7953"
             ],
             [
              0.7777777777777778,
              "#fb9f3a"
             ],
             [
              0.8888888888888888,
              "#fdca26"
             ],
             [
              1,
              "#f0f921"
             ]
            ],
            "type": "heatmap"
           }
          ],
          "heatmapgl": [
           {
            "colorbar": {
             "outlinewidth": 0,
             "ticks": ""
            },
            "colorscale": [
             [
              0,
              "#0d0887"
             ],
             [
              0.1111111111111111,
              "#46039f"
             ],
             [
              0.2222222222222222,
              "#7201a8"
             ],
             [
              0.3333333333333333,
              "#9c179e"
             ],
             [
              0.4444444444444444,
              "#bd3786"
             ],
             [
              0.5555555555555556,
              "#d8576b"
             ],
             [
              0.6666666666666666,
              "#ed7953"
             ],
             [
              0.7777777777777778,
              "#fb9f3a"
             ],
             [
              0.8888888888888888,
              "#fdca26"
             ],
             [
              1,
              "#f0f921"
             ]
            ],
            "type": "heatmapgl"
           }
          ],
          "histogram": [
           {
            "marker": {
             "pattern": {
              "fillmode": "overlay",
              "size": 10,
              "solidity": 0.2
             }
            },
            "type": "histogram"
           }
          ],
          "histogram2d": [
           {
            "colorbar": {
             "outlinewidth": 0,
             "ticks": ""
            },
            "colorscale": [
             [
              0,
              "#0d0887"
             ],
             [
              0.1111111111111111,
              "#46039f"
             ],
             [
              0.2222222222222222,
              "#7201a8"
             ],
             [
              0.3333333333333333,
              "#9c179e"
             ],
             [
              0.4444444444444444,
              "#bd3786"
             ],
             [
              0.5555555555555556,
              "#d8576b"
             ],
             [
              0.6666666666666666,
              "#ed7953"
             ],
             [
              0.7777777777777778,
              "#fb9f3a"
             ],
             [
              0.8888888888888888,
              "#fdca26"
             ],
             [
              1,
              "#f0f921"
             ]
            ],
            "type": "histogram2d"
           }
          ],
          "histogram2dcontour": [
           {
            "colorbar": {
             "outlinewidth": 0,
             "ticks": ""
            },
            "colorscale": [
             [
              0,
              "#0d0887"
             ],
             [
              0.1111111111111111,
              "#46039f"
             ],
             [
              0.2222222222222222,
              "#7201a8"
             ],
             [
              0.3333333333333333,
              "#9c179e"
             ],
             [
              0.4444444444444444,
              "#bd3786"
             ],
             [
              0.5555555555555556,
              "#d8576b"
             ],
             [
              0.6666666666666666,
              "#ed7953"
             ],
             [
              0.7777777777777778,
              "#fb9f3a"
             ],
             [
              0.8888888888888888,
              "#fdca26"
             ],
             [
              1,
              "#f0f921"
             ]
            ],
            "type": "histogram2dcontour"
           }
          ],
          "mesh3d": [
           {
            "colorbar": {
             "outlinewidth": 0,
             "ticks": ""
            },
            "type": "mesh3d"
           }
          ],
          "parcoords": [
           {
            "line": {
             "colorbar": {
              "outlinewidth": 0,
              "ticks": ""
             }
            },
            "type": "parcoords"
           }
          ],
          "pie": [
           {
            "automargin": true,
            "type": "pie"
           }
          ],
          "scatter": [
           {
            "fillpattern": {
             "fillmode": "overlay",
             "size": 10,
             "solidity": 0.2
            },
            "type": "scatter"
           }
          ],
          "scatter3d": [
           {
            "line": {
             "colorbar": {
              "outlinewidth": 0,
              "ticks": ""
             }
            },
            "marker": {
             "colorbar": {
              "outlinewidth": 0,
              "ticks": ""
             }
            },
            "type": "scatter3d"
           }
          ],
          "scattercarpet": [
           {
            "marker": {
             "colorbar": {
              "outlinewidth": 0,
              "ticks": ""
             }
            },
            "type": "scattercarpet"
           }
          ],
          "scattergeo": [
           {
            "marker": {
             "colorbar": {
              "outlinewidth": 0,
              "ticks": ""
             }
            },
            "type": "scattergeo"
           }
          ],
          "scattergl": [
           {
            "marker": {
             "colorbar": {
              "outlinewidth": 0,
              "ticks": ""
             }
            },
            "type": "scattergl"
           }
          ],
          "scattermapbox": [
           {
            "marker": {
             "colorbar": {
              "outlinewidth": 0,
              "ticks": ""
             }
            },
            "type": "scattermapbox"
           }
          ],
          "scatterpolar": [
           {
            "marker": {
             "colorbar": {
              "outlinewidth": 0,
              "ticks": ""
             }
            },
            "type": "scatterpolar"
           }
          ],
          "scatterpolargl": [
           {
            "marker": {
             "colorbar": {
              "outlinewidth": 0,
              "ticks": ""
             }
            },
            "type": "scatterpolargl"
           }
          ],
          "scatterternary": [
           {
            "marker": {
             "colorbar": {
              "outlinewidth": 0,
              "ticks": ""
             }
            },
            "type": "scatterternary"
           }
          ],
          "surface": [
           {
            "colorbar": {
             "outlinewidth": 0,
             "ticks": ""
            },
            "colorscale": [
             [
              0,
              "#0d0887"
             ],
             [
              0.1111111111111111,
              "#46039f"
             ],
             [
              0.2222222222222222,
              "#7201a8"
             ],
             [
              0.3333333333333333,
              "#9c179e"
             ],
             [
              0.4444444444444444,
              "#bd3786"
             ],
             [
              0.5555555555555556,
              "#d8576b"
             ],
             [
              0.6666666666666666,
              "#ed7953"
             ],
             [
              0.7777777777777778,
              "#fb9f3a"
             ],
             [
              0.8888888888888888,
              "#fdca26"
             ],
             [
              1,
              "#f0f921"
             ]
            ],
            "type": "surface"
           }
          ],
          "table": [
           {
            "cells": {
             "fill": {
              "color": "#EBF0F8"
             },
             "line": {
              "color": "white"
             }
            },
            "header": {
             "fill": {
              "color": "#C8D4E3"
             },
             "line": {
              "color": "white"
             }
            },
            "type": "table"
           }
          ]
         },
         "layout": {
          "annotationdefaults": {
           "arrowcolor": "#2a3f5f",
           "arrowhead": 0,
           "arrowwidth": 1
          },
          "autotypenumbers": "strict",
          "coloraxis": {
           "colorbar": {
            "outlinewidth": 0,
            "ticks": ""
           }
          },
          "colorscale": {
           "diverging": [
            [
             0,
             "#8e0152"
            ],
            [
             0.1,
             "#c51b7d"
            ],
            [
             0.2,
             "#de77ae"
            ],
            [
             0.3,
             "#f1b6da"
            ],
            [
             0.4,
             "#fde0ef"
            ],
            [
             0.5,
             "#f7f7f7"
            ],
            [
             0.6,
             "#e6f5d0"
            ],
            [
             0.7,
             "#b8e186"
            ],
            [
             0.8,
             "#7fbc41"
            ],
            [
             0.9,
             "#4d9221"
            ],
            [
             1,
             "#276419"
            ]
           ],
           "sequential": [
            [
             0,
             "#0d0887"
            ],
            [
             0.1111111111111111,
             "#46039f"
            ],
            [
             0.2222222222222222,
             "#7201a8"
            ],
            [
             0.3333333333333333,
             "#9c179e"
            ],
            [
             0.4444444444444444,
             "#bd3786"
            ],
            [
             0.5555555555555556,
             "#d8576b"
            ],
            [
             0.6666666666666666,
             "#ed7953"
            ],
            [
             0.7777777777777778,
             "#fb9f3a"
            ],
            [
             0.8888888888888888,
             "#fdca26"
            ],
            [
             1,
             "#f0f921"
            ]
           ],
           "sequentialminus": [
            [
             0,
             "#0d0887"
            ],
            [
             0.1111111111111111,
             "#46039f"
            ],
            [
             0.2222222222222222,
             "#7201a8"
            ],
            [
             0.3333333333333333,
             "#9c179e"
            ],
            [
             0.4444444444444444,
             "#bd3786"
            ],
            [
             0.5555555555555556,
             "#d8576b"
            ],
            [
             0.6666666666666666,
             "#ed7953"
            ],
            [
             0.7777777777777778,
             "#fb9f3a"
            ],
            [
             0.8888888888888888,
             "#fdca26"
            ],
            [
             1,
             "#f0f921"
            ]
           ]
          },
          "colorway": [
           "#636efa",
           "#EF553B",
           "#00cc96",
           "#ab63fa",
           "#FFA15A",
           "#19d3f3",
           "#FF6692",
           "#B6E880",
           "#FF97FF",
           "#FECB52"
          ],
          "font": {
           "color": "#2a3f5f"
          },
          "geo": {
           "bgcolor": "white",
           "lakecolor": "white",
           "landcolor": "#E5ECF6",
           "showlakes": true,
           "showland": true,
           "subunitcolor": "white"
          },
          "hoverlabel": {
           "align": "left"
          },
          "hovermode": "closest",
          "mapbox": {
           "style": "light"
          },
          "paper_bgcolor": "white",
          "plot_bgcolor": "#E5ECF6",
          "polar": {
           "angularaxis": {
            "gridcolor": "white",
            "linecolor": "white",
            "ticks": ""
           },
           "bgcolor": "#E5ECF6",
           "radialaxis": {
            "gridcolor": "white",
            "linecolor": "white",
            "ticks": ""
           }
          },
          "scene": {
           "xaxis": {
            "backgroundcolor": "#E5ECF6",
            "gridcolor": "white",
            "gridwidth": 2,
            "linecolor": "white",
            "showbackground": true,
            "ticks": "",
            "zerolinecolor": "white"
           },
           "yaxis": {
            "backgroundcolor": "#E5ECF6",
            "gridcolor": "white",
            "gridwidth": 2,
            "linecolor": "white",
            "showbackground": true,
            "ticks": "",
            "zerolinecolor": "white"
           },
           "zaxis": {
            "backgroundcolor": "#E5ECF6",
            "gridcolor": "white",
            "gridwidth": 2,
            "linecolor": "white",
            "showbackground": true,
            "ticks": "",
            "zerolinecolor": "white"
           }
          },
          "shapedefaults": {
           "line": {
            "color": "#2a3f5f"
           }
          },
          "ternary": {
           "aaxis": {
            "gridcolor": "white",
            "linecolor": "white",
            "ticks": ""
           },
           "baxis": {
            "gridcolor": "white",
            "linecolor": "white",
            "ticks": ""
           },
           "bgcolor": "#E5ECF6",
           "caxis": {
            "gridcolor": "white",
            "linecolor": "white",
            "ticks": ""
           }
          },
          "title": {
           "x": 0.05
          },
          "xaxis": {
           "automargin": true,
           "gridcolor": "white",
           "linecolor": "white",
           "ticks": "",
           "title": {
            "standoff": 15
           },
           "zerolinecolor": "white",
           "zerolinewidth": 2
          },
          "yaxis": {
           "automargin": true,
           "gridcolor": "white",
           "linecolor": "white",
           "ticks": "",
           "title": {
            "standoff": 15
           },
           "zerolinecolor": "white",
           "zerolinewidth": 2
          }
         }
        },
        "title": {
         "text": "Retorno de Inversión en Marketing para el cohorte promedio"
        },
        "xaxis": {
         "anchor": "y",
         "domain": [
          0,
          1
         ],
         "title": {
          "text": "Tiempo de vida[mes]"
         }
        },
        "yaxis": {
         "anchor": "x",
         "domain": [
          0,
          1
         ],
         "title": {
          "text": "Retorno de Inversión"
         }
        }
       }
      }
     },
     "metadata": {},
     "output_type": "display_data"
    }
   ],
   "source": [
    "#Mostramos la información\n",
    "fig_7 = px.scatter(avg_cohort,\n",
    "                title='Retorno de Inversión en Marketing para el cohorte promedio',\n",
    "                labels={'cohort_lifetime': 'Tiempo de vida[mes]', 'value':'Retorno de Inversión','variable':''},\n",
    "                  )\n",
    "\n",
    "fig_7.add_shape(type=\"line\",\n",
    "    x0=-1, y0=1, x1=12, y1=1,\n",
    "    line=dict(color=\"Red\",width=2)\n",
    " )\n",
    "fig_7.update_traces(marker={'size': 12})\n",
    "fig_7.add_annotation(x=6, y=1,\n",
    "            text='Retorno de inversión asegurada',\n",
    "            showarrow=False,\n",
    "            yshift=10)\n",
    "\n",
    "fig_7.show()"
   ]
  },
  {
   "cell_type": "markdown",
   "metadata": {},
   "source": [
    "Por último, obtenemos el retorno de inversión en marketing para el cohorte promedio, en este caso notamos que a partir del mes 8 ya se deben tener números buenos, pero la inversión se ve asegurada a partir del **mes 10 del tiempo de vida**. \n",
    "\n",
    "Esto nos da esperanzas en la mayoría de los cohortes analizados en el año de información que nos fue brindada (ya que solo dos han cumplido al menos 10 meses de vida) y nos indica que los cohortes de Junio y Septiembre de 2017, son atípicos al tener un retorno de inversión favorable en unos cuantos meses.\n",
    "\n",
    "Por lo tanto, es necesario esperar al menos 10 meses para determinar si se compensaron los gastos de cada cohorte.\n",
    "\n",
    "\n",
    "## Conclusiones\n",
    "\n",
    "\n",
    "En este proyecto encontramos **información sobre los usuarios** bastante interesante, como:\n",
    "- El tiempo de conversión de la mayoría de los usuarios es de 1 minuto, es decir, que los usuarios se registran con la intención de realizar una compra. \n",
    "- Las tasas de retención mensuales que obtuvimos van del 4% al 8%, de manera que números por debajo de estos límites nos indican que se deben crear estrategias para mantener a los usuarios. \n",
    "- El primer cohorte obtenido (Junio,2017) es uno que presenta muy buenos números en general: Realizan bastantes órdenes por cliente al mes, el precio de estas órdenes es muy decente, el costo de vida de cada uno de estos clientes es de 11 dólares(siendo el segundo más alto) y se compensó la inversión para este cohorte en el mes 6 de su tiempo de vida. \n",
    "- El cohorte de Septiempre, 2017 es el segundo que mejores números obtuvo, no realizan tantas órdenes mensuales pero el precio de cada una es bastante elevado, el costo de vida es el más alto con 13 dólares y su retorno de inversión se dió en el mes 3 de su tiempo de vida. \n",
    "\n",
    "Sin embargo, estos dos cohortes señalados son la excepción a la regla, ya que ninguno de los demás cohortes ha presentado un retorno de inversión durante el primer año, pero esto es normal ya que este retorno de inversión se espera que ocurra durante el mes 10 del tiempo de vida de cada cohorte, como se obtuvo en la información del *cohorte promedio*.\n",
    "\n",
    "Respecto a **las fuentes de adquisición** obtuvimos:\n",
    "- La fuente de adquisición **4** es la que más clientes atrae y es la que tiene el segundo costo total más alto, pero el costo por usuario es bastante bueno con 4.28 dólares por cliente. Por lo que considero es la mejor fuente de clientes que tiene la empresa.\n",
    "- La fuente de adquisición **3** es la que más costo representa para la empresa pero es la segunda que mayor cantidad de usuarios atrae. Sin embargo, los clientes en esta fuente son bastante costosos con 10.2 dólares por cliente, por lo que es necesario evaluar si es necesaria tanta inversión o si es posible destinar algunos recursos a otras fuentes.\n",
    "- La fuente de adquisición **2** tiene una base de clientes bastante similar a la fuente de adquisición **1** pero, tanto en costos totales como en costo por adquisición de cada cliente, representa el doble de lo que se gasta en la fuente **1**. Incluso se puede considerar la segunda fuente con mayor costo por cliente, lo que es bastante alarmante por la cantidad de clientes que atrae. Por lo que considero importante evaluar si es necesario mantenerla o modificar la inversión de la misma para destinar los recursos a otras fuentes.  \n",
    "- La fuente de adquisición **10** representó un costo por cliente bastante elevado respecto a la cantidad de clientes que atrae durante la mayor parte del año, sin embargo los dos últimos meses el costo por cliente disminuyó considerablemente. Mi recomendación es que a pesar de no reflejar un costo total tan elevado (5800 dolares), se debe prestar bastante atención en los costos por clientes próximos para determinar si es necesario mantener o descargar esta fuente.\n",
    "\n",
    "- Entre los meses de agosto del 2017 a abril de 2018, se notó un pico de aumento en los costos mensuales de cada fuente, los cuales reflejaron sus resultados en el costo de adquisición de clientes. Es decir, que a pesar de aumentar la inversión en la fuente, cada cliente tiene un costo menor, indicando que la cantidad de clientes aumentó. Esto tuvo resultados favorables en las fuentes de adquisición **2, 3 y 4.** En las demás, no funcionó tanto esta dinámica ya que se presentaron varios incrementos en diferentes puntos durante este periodo. \n",
    "\n",
    "Recapitulando un poco, las fuentes de adquisición que considero tienen mejores números entre la plantilla de usuarios que aporta y el costos de cada uno son las fuentes **1 y 4**. Las fuentes que considero que son muy costosas para la cantidad de usuarios que aporta son las fuentes **2 y 3** y por último, sugiero prestar bastante atención en la fuente **10** ya que si su costo aumenta en los siguientes meses, pasaría a la categoría de ser muy costosa para los clientes que aporta. "
   ]
  }
 ],
 "metadata": {
  "ExecuteTimeLog": [
   {
    "duration": 1419,
    "start_time": "2024-06-05T02:35:02.188Z"
   },
   {
    "duration": 63,
    "start_time": "2024-06-05T02:35:03.610Z"
   },
   {
    "duration": 26,
    "start_time": "2024-06-05T02:35:03.676Z"
   },
   {
    "duration": 5,
    "start_time": "2024-06-05T02:35:03.706Z"
   },
   {
    "duration": 12,
    "start_time": "2024-06-05T02:35:03.716Z"
   },
   {
    "duration": 840,
    "start_time": "2024-06-05T02:35:03.731Z"
   },
   {
    "duration": 5,
    "start_time": "2024-06-05T02:35:04.575Z"
   },
   {
    "duration": 29,
    "start_time": "2024-06-05T02:35:04.584Z"
   },
   {
    "duration": 131,
    "start_time": "2024-06-05T02:35:04.617Z"
   },
   {
    "duration": 20,
    "start_time": "2024-06-05T02:35:04.753Z"
   },
   {
    "duration": 88,
    "start_time": "2024-06-05T02:35:04.776Z"
   },
   {
    "duration": 8,
    "start_time": "2024-06-05T02:35:04.868Z"
   },
   {
    "duration": 35,
    "start_time": "2024-06-05T02:35:04.880Z"
   },
   {
    "duration": 19,
    "start_time": "2024-06-05T02:35:04.917Z"
   },
   {
    "duration": 16,
    "start_time": "2024-06-05T02:35:04.939Z"
   },
   {
    "duration": 9,
    "start_time": "2024-06-05T02:35:04.958Z"
   },
   {
    "duration": 266,
    "start_time": "2024-06-05T02:35:05.014Z"
   },
   {
    "duration": 915,
    "start_time": "2024-06-05T02:35:05.283Z"
   },
   {
    "duration": 16,
    "start_time": "2024-06-05T02:35:06.202Z"
   },
   {
    "duration": 230,
    "start_time": "2024-06-05T02:35:06.221Z"
   },
   {
    "duration": 223,
    "start_time": "2024-06-05T02:35:06.455Z"
   },
   {
    "duration": 218,
    "start_time": "2024-06-05T02:35:06.681Z"
   },
   {
    "duration": 534,
    "start_time": "2024-06-05T02:35:06.901Z"
   },
   {
    "duration": 27,
    "start_time": "2024-06-05T02:35:07.438Z"
   },
   {
    "duration": 1748,
    "start_time": "2024-06-05T02:35:07.468Z"
   },
   {
    "duration": 26,
    "start_time": "2024-06-05T02:35:09.220Z"
   },
   {
    "duration": 184,
    "start_time": "2024-06-05T02:35:09.249Z"
   },
   {
    "duration": 11,
    "start_time": "2024-06-05T02:35:09.443Z"
   },
   {
    "duration": 236,
    "start_time": "2024-06-05T02:35:09.457Z"
   },
   {
    "duration": 32,
    "start_time": "2024-06-05T02:35:09.696Z"
   },
   {
    "duration": 19,
    "start_time": "2024-06-05T02:35:09.731Z"
   },
   {
    "duration": 1123,
    "start_time": "2024-06-05T02:35:09.753Z"
   },
   {
    "duration": 36,
    "start_time": "2024-06-05T02:35:10.879Z"
   },
   {
    "duration": 1099,
    "start_time": "2024-06-05T02:35:10.918Z"
   },
   {
    "duration": 42,
    "start_time": "2024-06-05T02:35:12.020Z"
   },
   {
    "duration": 1106,
    "start_time": "2024-06-05T02:35:12.065Z"
   },
   {
    "duration": 8,
    "start_time": "2024-06-05T02:35:13.174Z"
   },
   {
    "duration": 172,
    "start_time": "2024-06-05T02:35:13.186Z"
   },
   {
    "duration": 15,
    "start_time": "2024-06-05T02:35:13.361Z"
   },
   {
    "duration": 39,
    "start_time": "2024-06-05T02:35:13.379Z"
   },
   {
    "duration": 117,
    "start_time": "2024-06-05T02:35:13.421Z"
   },
   {
    "duration": 119,
    "start_time": "2024-06-05T02:35:13.542Z"
   },
   {
    "duration": 321,
    "start_time": "2024-06-05T02:35:13.666Z"
   },
   {
    "duration": 26,
    "start_time": "2024-06-05T02:35:13.990Z"
   },
   {
    "duration": 19,
    "start_time": "2024-06-05T02:35:14.021Z"
   },
   {
    "duration": 120,
    "start_time": "2024-06-05T02:35:14.043Z"
   },
   {
    "duration": 32,
    "start_time": "2024-06-05T02:35:14.166Z"
   },
   {
    "duration": 12,
    "start_time": "2024-06-05T02:35:14.214Z"
   },
   {
    "duration": 136,
    "start_time": "2024-06-05T02:35:14.230Z"
   },
   {
    "duration": 52,
    "start_time": "2024-06-05T02:35:14.369Z"
   },
   {
    "duration": 1048,
    "start_time": "2024-06-05T02:35:14.424Z"
   },
   {
    "duration": 92,
    "start_time": "2024-06-05T02:35:15.474Z"
   },
   {
    "duration": 62,
    "start_time": "2024-06-05T03:08:22.750Z"
   }
  ],
  "kernelspec": {
   "display_name": "Python 3 (ipykernel)",
   "language": "python",
   "name": "python3"
  },
  "language_info": {
   "codemirror_mode": {
    "name": "ipython",
    "version": 3
   },
   "file_extension": ".py",
   "mimetype": "text/x-python",
   "name": "python",
   "nbconvert_exporter": "python",
   "pygments_lexer": "ipython3",
   "version": "3.12.4"
  },
  "toc": {
   "base_numbering": 1,
   "nav_menu": {},
   "number_sections": true,
   "sideBar": true,
   "skip_h1_title": true,
   "title_cell": "Table of Contents",
   "title_sidebar": "Contents",
   "toc_cell": false,
   "toc_position": {
    "height": "calc(100% - 180px)",
    "left": "10px",
    "top": "150px",
    "width": "412.717px"
   },
   "toc_section_display": true,
   "toc_window_display": true
  }
 },
 "nbformat": 4,
 "nbformat_minor": 2
}
